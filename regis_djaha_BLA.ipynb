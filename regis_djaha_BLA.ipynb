{
  "nbformat": 4,
  "nbformat_minor": 0,
  "metadata": {
    "colab": {
      "private_outputs": true,
      "provenance": [],
      "include_colab_link": true
    },
    "kernelspec": {
      "name": "python3",
      "display_name": "Python 3"
    },
    "language_info": {
      "name": "python"
    }
  },
  "cells": [
    {
      "cell_type": "markdown",
      "metadata": {
        "id": "view-in-github",
        "colab_type": "text"
      },
      "source": [
        "<a href=\"https://colab.research.google.com/github/RegisKonan/FinalProject/blob/main/regis_djaha_BLA.ipynb\" target=\"_parent\"><img src=\"https://colab.research.google.com/assets/colab-badge.svg\" alt=\"Open In Colab\"/></a>"
      ]
    },
    {
      "cell_type": "markdown",
      "source": [
        "# 18.5/20"
      ],
      "metadata": {
        "id": "tvUaerKYgBya"
      }
    },
    {
      "cell_type": "markdown",
      "source": [
        "---\n",
        "___\n",
        "<p align= 'center'> <strong> PRACTICAL ASSIGNMENT ON LINEAR ALGEBRA</strong></p>\n",
        "\n",
        "---\n",
        "___\n",
        "<b> Instructions </b> <br>\n",
        "    1. The work you hand in must be your own. You are permitted to collaborate with one another students only to the degree of\n",
        "giving ideas on how to solve a problem. Think through and write up your own solutions; copying from others is not\n",
        "permitted. In particular, the code you hand in must be your own; <br>\n",
        "    2. Do not import additional libraries, only numpy is enough for this assignment.\n",
        "The max and absolute value functions have coded from scratch. Do not use for instance, abs() or np.Max() or max(). If you need any of them, please write your own codes."
      ],
      "metadata": {
        "id": "CUwVRjPlWGVJ"
      }
    },
    {
      "cell_type": "code",
      "source": [
        "import numpy as np\n",
        "\n",
        "\"\"\"\n",
        "Helper functions: START\n",
        "\n",
        "Helper functions are functions that will be used within the required functions. This may not be useful if you decide to write everything within your functions.\n",
        "--- For this assignment, personally I wrote two helper functions, namely, absolute_value() and max_of_an_array() that helped me to find the absolute value of a \n",
        "given value and the maximum value of a given array respectively. However, you may have more than two.\n",
        "\"\"\"\n",
        "## WRITE YOUR HELPER FUNCTIONS HERE (ONLY IF YOU HAVE)\n",
        "def maxArray(x):\n",
        "  max = 0\n",
        "  for i in x:\n",
        "    if i > max:\n",
        "      max = i\n",
        "  return max\n",
        "\n",
        "def sums(x):\n",
        "  s=0\n",
        "  for i in x:\n",
        "    s+=i\n",
        "  return s\n",
        "\n",
        "def absolute(x):\n",
        "  a =[]\n",
        "  for i in x:\n",
        "    if i<0:\n",
        "      i = -i\n",
        "      a.append(i)\n",
        "    else:\n",
        "      i=i\n",
        "      a.append(i)\n",
        "  return a\n",
        "      \n",
        "\"\"\"\n",
        "Helper functions: END\n",
        "\"\"\""
      ],
      "metadata": {
        "id": "kbk4wqQ-M2yg"
      },
      "execution_count": null,
      "outputs": []
    },
    {
      "cell_type": "code",
      "source": [
        "def inner(x,y):\n",
        "\n",
        "  \"\"\"\n",
        "\tr = inner(x,y)\n",
        "  Compute the inner product of two vectors x and y.\n",
        "\n",
        "  Parameters\n",
        "  ----------\n",
        "  x: vector of size n\n",
        "  y: vector of size n\n",
        "\n",
        "  Return\n",
        "  ------\n",
        "  r: a float\n",
        "  \n",
        "  Example\n",
        "  -------\n",
        "  >>> x= np.array([-8, 4, 6, 2, 5])\n",
        "  >>> y= np.array([2, 2, -1, 4, 3])\n",
        "  >>> r= inner(x,y)\n",
        "  >>> r\n",
        "  9.0\n",
        "  \n",
        "  \"\"\"\n",
        "  ##### WRITE YOUR CODE HERE #####\n",
        "  Sum=0\n",
        "  if len(x)!=len(y):\n",
        "    print(\"dot product is not possible\")\n",
        "  else:\n",
        "    for i in range(0,len(x)):\n",
        "      k=x[i]*y[i]\n",
        "      Sum+=k\n",
        "  return Sum\n",
        "x= np.array([-8,4,6, 2, 5])\n",
        "y= np.array([2,2,-1, 4,3])\n",
        "product=inner(x,y)\n",
        "print(\"The dot product of two vectors is\", product)"
      ],
      "metadata": {
        "id": "Ogy7f06fM36Z"
      },
      "execution_count": null,
      "outputs": []
    },
    {
      "cell_type": "code",
      "source": [
        "print(\"-----TEST------\")\n",
        "print(\"-- Display x --\")\n",
        "x= np.array([-8,4,6, 2, 5])\n",
        "y= np.array([2,2,-1, 4,3])\n",
        "print(x)\n",
        "print(\"-- Display y --\")\n",
        "print(y)\n",
        "TOL= 1e-20\n",
        "assert ((np.dot(x,y)-inner(x,y))<TOL), \"inner function not working fine\"\n",
        "print(\"✅✅✅ inner function works fine.\")\n",
        "print(\"The solution is: \", inner(x,y))"
      ],
      "metadata": {
        "id": "bJkVUputU8Ez"
      },
      "execution_count": null,
      "outputs": []
    },
    {
      "cell_type": "code",
      "source": [
        "def hadamard(x,y):\n",
        "\n",
        "  \"\"\"\n",
        "\tr = hadamard(x,y)\n",
        "  Compute the hadamard (element-wise) product of two vectors x and y.\n",
        "\n",
        "  Parameters\n",
        "  ----------\n",
        "  x: vector of size n\n",
        "  y: vector of size n\n",
        "\n",
        "  Return\n",
        "  ------\n",
        "  r: an array of length n\n",
        "  \n",
        "  Example\n",
        "  -------\n",
        "  >>> x= np.array([-8, 4, 6, 2, 5])\n",
        "  >>> y= np.array([2, 2, -1, 4, 3])\n",
        "  >>> r= hadamard(x,y)\n",
        "  >>> r\n",
        "  array([-16.,   8.,  -6.,   8.,  15.])\n",
        "  \"\"\"\n",
        "  ##### WRITE YOUR CODE HERE #####\n",
        "  if len(x)!=len(y):\n",
        "    print(\"The Hadamard is not possible\")\n",
        "  else:\n",
        "    #k=np.array([0 for i in range(0,len(x))])\n",
        "    k=np.zeros(len(x))\n",
        "    for i in range(0,len(x)):\n",
        "      k[i]=x[i]*y[i]\n",
        "  return k\n",
        "x= np.array([-8,4,6, 2, 5])\n",
        "y= np.array([2,2,-1, 4,3])\n",
        "hadamard(x,y)"
      ],
      "metadata": {
        "id": "-laTS7xGM_Q7"
      },
      "execution_count": null,
      "outputs": []
    },
    {
      "cell_type": "code",
      "source": [
        "print(\"-----TEST------\")\n",
        "print(\"-- Display x --\")\n",
        "x= np.array([-8,4,6, 2, 5])\n",
        "y= np.array([2,2,-1, 4,3])\n",
        "print(x)\n",
        "print(\"-- Display y --\")\n",
        "print(y)\n",
        "TOL= 1e-20\n",
        "assert (np.linalg.norm(x*y-hadamard(x,y),2)<TOL), \"hadamard function not working fine\"\n",
        "print(\"✅✅✅ hadamard function works fine.\")\n",
        "print(\"The solution is: \", hadamard(x,y))"
      ],
      "metadata": {
        "id": "lpIgdvvGTTzq"
      },
      "execution_count": null,
      "outputs": []
    },
    {
      "cell_type": "code",
      "source": [
        "def outer(x,y):\n",
        "\n",
        "  \"\"\"\n",
        "\tr = outer(x,y)\n",
        "  Compute the inner product of two vectors x and y.\n",
        "\n",
        "  Parameters\n",
        "  ----------\n",
        "  x: vector of size m\n",
        "  y: vector of size n\n",
        "\n",
        "  Return\n",
        "  ------\n",
        "  M: an mxn matrix \n",
        "  \n",
        "  Example\n",
        "  -------\n",
        "  >>> x= np.array([8, 4, 6, 2, 5])\n",
        "  >>> y= np.array([2, 2, 1, 4, 3, 9, 10])\n",
        "  >>> M= outer(x,y)\n",
        "  >>> M\n",
        "  array([[16. 16.  8. 32. 24. 72. 80.]\n",
        "  [ 8.  8.  4. 16. 12. 36. 40.]\n",
        "  [12. 12.  6. 24. 18. 54. 60.]\n",
        "  [ 4.  4.  2.  8.  6. 18. 20.]\n",
        "  [10. 10.  5. 20. 15. 45. 50.]])\n",
        "  \n",
        "  \"\"\"\n",
        "  ##### WRITE YOUR CODE HERE #####\n",
        "  k=np.zeros((len(x),len(y)))\n",
        "  for i in range(0,len(x)):\n",
        "    for j in range(0,len(y)):\n",
        "      k[i,j]=x[i]*y[j]\n",
        "  return k\n",
        "x=np.array([8,4,6, 2, 5])\n",
        "y=np.array([2,2,1, 4,3,9,10])\n",
        "outer(x,y)"
      ],
      "metadata": {
        "id": "q4nO7dD0M_-j"
      },
      "execution_count": null,
      "outputs": []
    },
    {
      "cell_type": "code",
      "source": [
        "a= np.array([8,4,6, 2, 5])\n",
        "print(\"-- Display a --\")\n",
        "print(a)\n",
        "b= np.array([2,2,1, 4,3,9,10])\n",
        "print(\"-- Display b --\")\n",
        "print(b)\n",
        "print(\"The solution is: \", outer(a,b))\n",
        "assert (np.outer(a,b).all()==outer(a,b).all()), \"outer function not working fine\""
      ],
      "metadata": {
        "id": "hwTDss-TTUgs"
      },
      "execution_count": null,
      "outputs": []
    },
    {
      "cell_type": "code",
      "source": [
        "from re import L\n",
        "def mynorm(x,p):\n",
        "  \"\"\"\n",
        "\tr = mynorm(x)\n",
        "  Compute the 2-norm of a vector x.\n",
        "\n",
        "  Parameters\n",
        "  ----------\n",
        "  x: vector of size n\n",
        "  p: int for p-norm\n",
        "\n",
        "  Return\n",
        "  ------\n",
        "  r: a float\n",
        "  \n",
        "  Example\n",
        "  -------\n",
        "  >>> x= np.array([-8,4,6, 2, 5])\n",
        "  >>> r= mynorm(x,p= 2) # p may be: \"inf\", 1 or 2 or any integer.\n",
        "  >>> r\n",
        "  12.041594578792296\n",
        "  \n",
        "  \"\"\"\n",
        "  ##### WRITE YOUR CODE HERE #####\n",
        "  if p == 0:\n",
        "    print(\"We can't give you the norm, Enter an integer greator than 0 \")\n",
        "  if p==1:\n",
        "    Sum=0\n",
        "    for i in range(len(x)):\n",
        "      if x[i]<0:\n",
        "        x[i]=x[i]*-1\n",
        "      Sum+=x[i]\n",
        "    return Sum\n",
        "  elif p == \"inf\" :\n",
        "    max=0\n",
        "    for k in range(len(x)):\n",
        "      if x[k] <0 :\n",
        "        x[k]=x[k]*(-1)\n",
        "      for k in x :\n",
        "        if (max==0 or k > max) :\n",
        "          max=k\n",
        "    return max\n",
        "\n",
        "  else :\n",
        "    res=0\n",
        "    for i in range(len(x)):\n",
        "      num=(x[i])**p\n",
        "      res+=num\n",
        "    return res**(1/p)\n",
        "x= np.array([-8,4,6, 2, 5])\n",
        "p=2\n",
        "mynorm(x,p)"
      ],
      "metadata": {
        "id": "CaY7io1zNCzG"
      },
      "execution_count": null,
      "outputs": []
    },
    {
      "cell_type": "code",
      "source": [
        "print(\"-----TEST------\")\n",
        "print(\"-- Display x --\")\n",
        "x= np.array([-8,4,6, 2, 5])\n",
        "y= np.array([2,2,-1, 4,3])\n",
        "print(x)\n",
        "print(\"-- Display y --\")\n",
        "print(y)\n",
        "TOL= 1e-20\n",
        "assert ((np.linalg.norm(x,1)-mynorm(x,1))<TOL), \"1-mynorm function not working fine\"\n",
        "assert ((np.linalg.norm(x,2)-mynorm(x,2))<TOL), \"2-mynorm function not working fine\"\n",
        "assert ((np.linalg.norm(x,np.inf)-mynorm(x,'inf'))<TOL), \"inf-mynorm function not working fine\"\n",
        "print(\"✅✅✅ p-mynorm function works fine.\")\n",
        "print(\"The solution is: \", mynorm(x,2))"
      ],
      "metadata": {
        "id": "uzcbhviwTVKp"
      },
      "execution_count": null,
      "outputs": []
    },
    {
      "cell_type": "code",
      "source": [],
      "metadata": {
        "id": "vVM7tPt81BBV"
      },
      "execution_count": null,
      "outputs": []
    },
    {
      "cell_type": "code",
      "source": [
        "def normalize(x):\n",
        "  \n",
        "  \"\"\"\n",
        "\ts = mynormalize(x)\n",
        "   Return a vector s that is the normalized vector x.\n",
        "   \n",
        "  Parameters\n",
        "  ----------\n",
        "   x: a vector of size n\n",
        "   \n",
        "  Return\n",
        "  ------\n",
        "  s: a normalized vector of size n\n",
        "  \n",
        "  Example\n",
        "  -------\n",
        "  >>> x= np.array([-8,4,6, 2, 5])\n",
        "  >>> s= normalize(x)\n",
        "  >>> s\n",
        "  array([-0.66436384  0.33218192  0.49827288  0.16609096  0.4152274 ])\n",
        "\n",
        "  \"\"\"\n",
        "  ##### WRITE YOUR CODE HERE #####\n",
        "  p=2\n",
        "  norm_vect=np.zeros((len(x)))\n",
        "  for i in range(len(x)):\n",
        "    norm_vect[i]=x[i]/mynorm(x,p)\n",
        "  return norm_vect\n",
        "x= np.array([-8,4,6, 2, 5])\n",
        "normalize(x)"
      ],
      "metadata": {
        "id": "8WRzm-CP8aoZ"
      },
      "execution_count": null,
      "outputs": []
    },
    {
      "cell_type": "code",
      "source": [
        "print(\"-----TEST------\")\n",
        "print(\"-- Display x --\")\n",
        "x= np.array([-8,4,6, 2, 5])\n",
        "y= np.array([2,2,-1, 4,3])\n",
        "print(x)\n",
        "print(\"-- Display y --\")\n",
        "print(y)\n",
        "TOL= 1e-20\n",
        "assert ((mynorm(x/np.linalg.norm(x)-np.array(normalize(x)),2))<TOL), \"normalize function not working fine\"\n",
        "print(\"✅✅✅ normalize function works fine.\")\n",
        "print(\"The solution is: \", normalize(x))"
      ],
      "metadata": {
        "id": "8n4c2nYCTWSD"
      },
      "execution_count": null,
      "outputs": []
    },
    {
      "cell_type": "code",
      "source": [
        "def projection(x,y):\n",
        "\n",
        "  \"\"\"\n",
        "\t s = project(x, y)\n",
        "   Project vector x onto vector y.\n",
        "\n",
        "   Parameters\n",
        "   ----------\n",
        "   x: a vector of size n\n",
        "   y: a vector of size n\n",
        "\n",
        "   Return\n",
        "   ------\n",
        "   s: an arrray of size n\n",
        "   \n",
        "   Example\n",
        "   -------\n",
        "   >>> x= np.array([8,4,6, 2, 5])\n",
        "   >>> y= np.array([2,2,1, 4,3])\n",
        "   >>> s= projection(x,y)\n",
        "   >>> s\n",
        "   array([ 0.52941176  0.52941176 -0.26470588  1.05882353  0.79411765])\n",
        "   \n",
        "  \"\"\"\n",
        "  ##### WRITE YOUR CODE HERE #####\n",
        "  pro=np.zeros(len(y))\n",
        "  for i in range(len(y)):\n",
        "    pro[i]= (inner(y,x)/inner(y,y))*y[i]\n",
        "  return pro\n",
        "x= np.array([8,4,6, 2, 5])\n",
        "y= np.array([2,2,1, 4,3])\n",
        "s= projection(x,y)\n",
        "s"
      ],
      "metadata": {
        "id": "u54dLX-VNHhN"
      },
      "execution_count": null,
      "outputs": []
    },
    {
      "cell_type": "code",
      "source": [
        "a= np.array([8,4,6, 2, 5])\n",
        "print(\"-- Display a --\")\n",
        "print(a)\n",
        "print(\"-- Display b --\")\n",
        "b= np.array([2,2,1, 4,3])\n",
        "print(b)\n",
        "\n",
        "assert ((mynorm(np.array([3.1176470588235294, 3.1176470588235294, 1.5588235294117647, 6.235294117647059, 4.676470588235294])-np.array(projection(a,b)),2))<TOL), \"projection function not working fine\"\n",
        "print(\"✅✅✅ projection function works fine.\")\n",
        "print(\"The solution is: \", projection(x,y))"
      ],
      "metadata": {
        "id": "CggfsbHBT3r4"
      },
      "execution_count": null,
      "outputs": []
    },
    {
      "cell_type": "code",
      "source": [
        "def cosine_similarity(x,y):\n",
        "  \n",
        "  \"\"\"\n",
        "\t s = cosine_similarity(x, y)\n",
        "   cosine similarity between vector x and vector y.\n",
        "\n",
        "   Parameters\n",
        "   ----------\n",
        "   x: a list of size n\n",
        "   y: a list of size n\n",
        "\n",
        "   Return\n",
        "   ------\n",
        "   s: a float\n",
        "   \n",
        "   Example\n",
        "   -------\n",
        "   >>> x= np.array([8,4,6, 2, 5])\n",
        "   >>> y= np.array([2,2,1, 4,3])\n",
        "   >>> r= cosine_similarity(x,y)\n",
        "   >>> r\n",
        "   0.12817964067657414\n",
        "   \n",
        "  \"\"\"\n",
        "  ##### WRITE YOUR CODE HERE #####\n",
        "  cos_sim=inner(x,y)/(mynorm(x,2)*mynorm(y,2))\n",
        "  return cos_sim\n",
        "x= np.array([-8,4,6, 2, 5])\n",
        "y= np.array([2,2,-1, 4,3])\n",
        "cosine_similarity(x,y)"
      ],
      "metadata": {
        "id": "8nMcVvvPNOQc"
      },
      "execution_count": null,
      "outputs": []
    },
    {
      "cell_type": "code",
      "source": [
        "print(\"-----TEST------\")\n",
        "print(\"-- Display x --\")\n",
        "x= np.array([-8,4,6, 2, 5])\n",
        "y= np.array([2,2,-1, 4,3])\n",
        "print(x)\n",
        "print(\"-- Display y --\")\n",
        "print(y)\n",
        "TOL= 1e-20\n",
        "assert ((np.dot(x,y)/(np.linalg.norm(x,2)*np.linalg.norm(y,2))-cosine_similarity(x,y))<TOL), \"cosine_similarity function not working fine\"\n",
        "print(\"✅✅✅ cosine_similarity function works fine.\")\n",
        "print(\"The solution is: \", cosine_similarity(x,y))"
      ],
      "metadata": {
        "id": "sQs1z3EVTXCZ"
      },
      "execution_count": null,
      "outputs": []
    },
    {
      "cell_type": "code",
      "source": [
        "def matrix_norm(A, p):\n",
        "    \"\"\"\n",
        "      p_norm_A = matrix_norm(A, p)\n",
        "      p-norm of a matrix A.\n",
        "\n",
        "      Parameters\n",
        "      ----------\n",
        "      A: a nxn matrix.\n",
        "      p: int or string. This parameter determine the norm type.\n",
        "      \n",
        "      Return\n",
        "      ------\n",
        "      p_norm_A: a float\n",
        "      \n",
        "      Example\n",
        "      -------\n",
        "      >>> A= np.array([[5,-4,2], [-1,2,3],[-2,1,0]])\n",
        "      >>> p_norm_A= matrix_norm(A,p= 1) # p may be: \"inf\", 1 or F\n",
        "      >>> p_norm_A\n",
        "      10.0 \n",
        "      \n",
        "    \"\"\"\n",
        "    ##### WRITE YOUR CODE HERE #####\n",
        "    if p==1 :\n",
        "      k = np.zeros(len(A[0]))\n",
        "      for i in range(len(A[0])):\n",
        "        w = A[:,i]\n",
        "        r = sums(absolute(w))\n",
        "        k[i] = r\n",
        "      return maxArray(k)\n",
        "    elif p ==\"inf\" :\n",
        "      k = np.zeros(len(A))\n",
        "      for i in range(len(A)):\n",
        "        w = A[i,:]\n",
        "        r = sums(absolute(w))\n",
        "        k[i] = r\n",
        "      return maxArray(k)\n",
        "    else :\n",
        "      k = np.zeros(len(A[0]))\n",
        "      u=0\n",
        "      for i in A:\n",
        "        for j in i:\n",
        "          r = j**2\n",
        "          u+=r\n",
        "      return u**(1/2)\n",
        "p= \"inf\"\n",
        "A= np.array([[5,-4,2], [-1,2,3],[-2,1,0]])\n",
        "matrix_norm(A, p)"
      ],
      "metadata": {
        "id": "Fcr6e7DFNRon"
      },
      "execution_count": null,
      "outputs": []
    },
    {
      "cell_type": "code",
      "source": [
        "## Test Matrix norm\n",
        "TOL1= 0.08\n",
        "np.random.seed(4)\n",
        "A= np.random.rand(10,10)\n",
        "assert (abs(matrix_norm(A, p=1)-np.linalg.norm(A, 1))<TOL1), \"Your matrix 1-norm does not work\"\n",
        "print(\"✅✅✅ Your matrix 1-norm works fine.\") \n",
        "print(\"The solution is: \", matrix_norm(A, p=1))\n",
        "    \n",
        "assert (abs(matrix_norm(A, p=\"inf\")-np.linalg.norm(A, np.inf))<TOL1), \"Your matrix inf-norm does not work\"\n",
        "print(\"✅✅✅ Your matrix inf-norm works fine.\")\n",
        "print(\"The solution is: \", matrix_norm(A, p='inf'))\n",
        "    \n",
        "assert (abs(matrix_norm(A, p=\"F\")-np.linalg.norm(A, 'fro'))<TOL1), \"Your matrix F-norm does not work\"\n",
        "print(\"✅✅✅ Your matrix F-norm works fine.\")\n",
        "print(\"The solution is: \", matrix_norm(A, p='F'))"
      ],
      "metadata": {
        "id": "F-4ciR3mTXpd"
      },
      "execution_count": null,
      "outputs": []
    },
    {
      "cell_type": "markdown",
      "source": [
        "___END___"
      ],
      "metadata": {
        "id": "MCnQwgWOWAJf"
      }
    },
    {
      "cell_type": "code",
      "source": [],
      "metadata": {
        "id": "pAlC_o4gWCPg"
      },
      "execution_count": null,
      "outputs": []
    }
  ]
}