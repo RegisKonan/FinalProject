{
  "nbformat": 4,
  "nbformat_minor": 0,
  "metadata": {
    "colab": {
      "provenance": [],
      "include_colab_link": true
    },
    "kernelspec": {
      "name": "python3",
      "display_name": "Python 3"
    },
    "language_info": {
      "name": "python"
    },
    "widgets": {
      "application/vnd.jupyter.widget-state+json": {
        "d52ca7734a9944af8b46d6b1a2d78594": {
          "model_module": "@jupyter-widgets/controls",
          "model_name": "VBoxModel",
          "model_module_version": "1.5.0",
          "state": {
            "_dom_classes": [
              "widget-interact"
            ],
            "_model_module": "@jupyter-widgets/controls",
            "_model_module_version": "1.5.0",
            "_model_name": "VBoxModel",
            "_view_count": null,
            "_view_module": "@jupyter-widgets/controls",
            "_view_module_version": "1.5.0",
            "_view_name": "VBoxView",
            "box_style": "",
            "children": [
              "IPY_MODEL_980ff4425f6d46879e43549c355b88dc",
              "IPY_MODEL_1e0d436f07ca4d8d81853d641b6e06c9"
            ],
            "layout": "IPY_MODEL_e1debeba9225446992f5cefc2fad2a30"
          }
        },
        "980ff4425f6d46879e43549c355b88dc": {
          "model_module": "@jupyter-widgets/controls",
          "model_name": "FloatSliderModel",
          "model_module_version": "1.5.0",
          "state": {
            "_dom_classes": [],
            "_model_module": "@jupyter-widgets/controls",
            "_model_module_version": "1.5.0",
            "_model_name": "FloatSliderModel",
            "_view_count": null,
            "_view_module": "@jupyter-widgets/controls",
            "_view_module_version": "1.5.0",
            "_view_name": "FloatSliderView",
            "continuous_update": true,
            "description": "tau",
            "description_tooltip": null,
            "disabled": false,
            "layout": "IPY_MODEL_d8914da2353e4602a53517f9a9046381",
            "max": 5,
            "min": 0.1,
            "orientation": "horizontal",
            "readout": true,
            "readout_format": ".2f",
            "step": 0.1,
            "style": "IPY_MODEL_89a9a52ebbfb4606b2ce1ec7071702fb",
            "value": 1
          }
        },
        "1e0d436f07ca4d8d81853d641b6e06c9": {
          "model_module": "@jupyter-widgets/output",
          "model_name": "OutputModel",
          "model_module_version": "1.0.0",
          "state": {
            "_dom_classes": [],
            "_model_module": "@jupyter-widgets/output",
            "_model_module_version": "1.0.0",
            "_model_name": "OutputModel",
            "_view_count": null,
            "_view_module": "@jupyter-widgets/output",
            "_view_module_version": "1.0.0",
            "_view_name": "OutputView",
            "layout": "IPY_MODEL_a5940504459e461ab97ac852af54dba0",
            "msg_id": "",
            "outputs": [
              {
                "output_type": "stream",
                "name": "stderr",
                "text": [
                  "/usr/local/lib/python3.9/dist-packages/plotly/graph_objs/_deprecations.py:378: DeprecationWarning: plotly.graph_objs.Line is deprecated.\n",
                  "Please replace it with one of the following more specific types\n",
                  "  - plotly.graph_objs.scatter.Line\n",
                  "  - plotly.graph_objs.layout.shape.Line\n",
                  "  - etc.\n",
                  "\n",
                  "  warnings.warn(\n"
                ]
              },
              {
                "output_type": "display_data",
                "data": {
                  "text/html": "<html>\n<head><meta charset=\"utf-8\" /></head>\n<body>\n    <div>            <script src=\"https://cdnjs.cloudflare.com/ajax/libs/mathjax/2.7.5/MathJax.js?config=TeX-AMS-MML_SVG\"></script><script type=\"text/javascript\">if (window.MathJax && window.MathJax.Hub && window.MathJax.Hub.Config) {window.MathJax.Hub.Config({SVG: {font: \"STIX-Web\"}});}</script>                <script type=\"text/javascript\">window.PlotlyConfig = {MathJaxConfig: 'local'};</script>\n        <script src=\"https://cdn.plot.ly/plotly-2.18.2.min.js\"></script>                <div id=\"91e82b1e-1424-40cf-b416-02d5c66effb1\" class=\"plotly-graph-div\" style=\"height:500px; width:500px;\"></div>            <script type=\"text/javascript\">                                    window.PLOTLYENV=window.PLOTLYENV || {};                                    if (document.getElementById(\"91e82b1e-1424-40cf-b416-02d5c66effb1\")) {                    Plotly.newPlot(                        \"91e82b1e-1424-40cf-b416-02d5c66effb1\",                        [{\"mode\":\"lines\",\"x\":[-10.0,-9.9,-9.8,-9.700000000000001,-9.600000000000001,-9.500000000000002,-9.400000000000002,-9.300000000000002,-9.200000000000003,-9.100000000000003,-9.000000000000004,-8.900000000000004,-8.800000000000004,-8.700000000000005,-8.600000000000005,-8.500000000000005,-8.400000000000006,-8.300000000000006,-8.200000000000006,-8.100000000000007,-8.000000000000007,-7.9000000000000075,-7.800000000000008,-7.700000000000008,-7.6000000000000085,-7.500000000000009,-7.400000000000009,-7.30000000000001,-7.20000000000001,-7.10000000000001,-7.000000000000011,-6.900000000000011,-6.800000000000011,-6.700000000000012,-6.600000000000012,-6.500000000000012,-6.400000000000013,-6.300000000000013,-6.2000000000000135,-6.100000000000014,-6.000000000000014,-5.900000000000015,-5.800000000000015,-5.700000000000015,-5.600000000000016,-5.500000000000016,-5.400000000000016,-5.300000000000017,-5.200000000000017,-5.100000000000017,-5.000000000000018,-4.900000000000018,-4.8000000000000185,-4.700000000000019,-4.600000000000019,-4.5000000000000195,-4.40000000000002,-4.30000000000002,-4.200000000000021,-4.100000000000021,-4.000000000000021,-3.9000000000000217,-3.800000000000022,-3.7000000000000224,-3.6000000000000227,-3.500000000000023,-3.4000000000000234,-3.300000000000024,-3.200000000000024,-3.1000000000000245,-3.000000000000025,-2.9000000000000252,-2.8000000000000256,-2.700000000000026,-2.6000000000000263,-2.5000000000000266,-2.400000000000027,-2.3000000000000274,-2.2000000000000277,-2.100000000000028,-2.0000000000000284,-1.9000000000000288,-1.8000000000000291,-1.7000000000000295,-1.6000000000000298,-1.5000000000000302,-1.4000000000000306,-1.300000000000031,-1.2000000000000313,-1.1000000000000316,-1.000000000000032,-0.9000000000000323,-0.8000000000000327,-0.700000000000033,-0.6000000000000334,-0.5000000000000338,-0.4000000000000341,-0.30000000000003446,-0.20000000000003482,-0.10000000000003517,-3.552713678800501e-14,0.09999999999996412,0.19999999999996376,0.2999999999999634,0.39999999999996305,0.4999999999999627,0.5999999999999623,0.699999999999962,0.7999999999999616,0.8999999999999613,0.9999999999999609,1.0999999999999606,1.1999999999999602,1.2999999999999599,1.3999999999999595,1.4999999999999591,1.5999999999999588,1.6999999999999584,1.799999999999958,1.8999999999999577,1.9999999999999574,2.099999999999957,2.1999999999999567,2.2999999999999563,2.399999999999956,2.4999999999999556,2.5999999999999552,2.699999999999955,2.7999999999999545,2.899999999999954,2.999999999999954,3.0999999999999535,3.199999999999953,3.2999999999999527,3.3999999999999524,3.499999999999952,3.5999999999999517,3.6999999999999513,3.799999999999951,3.8999999999999506,3.9999999999999503,4.09999999999995,4.1999999999999496,4.299999999999949,4.399999999999949,4.4999999999999485,4.599999999999948,4.699999999999948,4.799999999999947,4.899999999999947,4.999999999999947,5.099999999999946,5.199999999999946,5.299999999999946,5.399999999999945,5.499999999999945,5.599999999999945,5.699999999999944,5.799999999999944,5.8999999999999435,5.999999999999943,6.099999999999945,6.1999999999999424,6.29999999999994,6.399999999999942,6.499999999999943,6.599999999999941,6.699999999999939,6.79999999999994,6.899999999999942,6.99999999999994,7.0999999999999375,7.199999999999939,7.29999999999994,7.399999999999938,7.499999999999936,7.5999999999999375,7.699999999999939,7.799999999999937,7.899999999999935,7.999999999999936,8.099999999999937,8.199999999999935,8.299999999999933,8.399999999999935,8.499999999999936,8.599999999999934,8.699999999999932,8.799999999999933,8.899999999999935,8.999999999999932,9.09999999999993,9.199999999999932,9.299999999999933,9.399999999999931,9.499999999999929,9.59999999999993,9.699999999999932,9.79999999999993,9.899999999999928],\"y\":[1.9287498479639178e-22,5.216736662027038e-22,1.3969439431470891e-21,3.7035319776523184e-21,9.720985020300643e-21,2.5261637809256567e-20,6.499347972070755e-20,1.6555226620987275e-19,4.1750100558503957e-19,1.0424061783901304e-18,2.5767571091548894e-18,6.306189893986223e-18,1.5279799682872503e-17,3.665433395600889e-17,8.705426622295879e-17,2.046971713164117e-16,4.765304735298851e-16,1.0983141298285426e-15,2.506221887145132e-15,5.6619955169486286e-15,1.2664165549093456e-14,2.804404738222628e-14,6.148396412704385e-14,1.3345660848219038e-13,2.8679750088879044e-13,6.101936677604913e-13,1.2853372251335588e-12,2.6805476373124164e-12,5.53461007170062e-12,1.1313776200064483e-11,2.289734845645382e-11,4.58796248713895e-11,9.101470764487257e-11,1.7875588711278416e-10,3.4758912812396506e-10,6.691586091292236e-10,1.27540762952594e-09,2.406722436300847e-09,4.496349462280486e-09,8.316702456827624e-09,1.522997974471133e-08,2.7612424568277996e-08,4.956405319172075e-08,8.808179196459807e-08,1.5497531357027618e-07,2.699578503362775e-07,4.6557157157826726e-07,7.949393615348435e-07,1.343812277631402e-06,2.2490559670321426e-06,3.72665317207834e-06,6.113567966370859e-06,9.9295043058502e-06,1.5966783897803327e-05,2.541934651619699e-05,4.006529739294751e-05,6.252150377481481e-05,9.65934137221756e-05,0.0001477483602320208,0.0002237457937206011,0.00033546262790248323,0.0004979554215032314,0.000731802418880411,0.0010647662366678316,0.0015338106793243377,0.002187491118182708,0.0030887154082365246,0.004317840007632741,0.005976022895005481,0.008188701014373457,0.011108996538241477,0.014920786069066756,0.01984109474436887,0.0261214098539164,0.03404745473459702,0.04393693362340449,0.05613476283413009,0.0710053537396325,0.08892161745938093,0.11025052530447871,0.135335283236605,0.16447445657714588,0.1978986990836043,0.23574607655585172,0.27803730045318087,0.32465246735833503,0.37531109885138353,0.4295573582107219,0.4867522559599534,0.5460744266396904,0.606530659712614,0.666976810858455,0.726149037073672,0.78270453824185,0.8352702114112552,0.8824969025845805,0.9231163463866232,0.9559974818330901,0.9801986733067485,0.9950124791926788,1.0,0.9950124791926859,0.9801986733067624,0.9559974818331104,0.9231163463866494,0.8824969025846119,0.8352702114112909,0.782704538241889,0.7261490370737133,0.6669768108584976,0.6065306597126571,0.5460744266397332,0.4867522559599949,0.4295573582107616,0.37531109885142083,0.3246524673583696,0.27803730045321245,0.2357460765558802,0.1978986990836296,0.16447445657716808,0.13533528323662422,0.11025052530449515,0.08892161745939484,0.0710053537396441,0.05613476283413966,0.0439369336234123,0.03404745473460331,0.02612140985392141,0.019841094744372817,0.01492078606906983,0.011108996538243847,0.008188701014375261,0.00597602289500684,0.004317840007633753,0.003088715408237271,0.0021874911181832524,0.0015338106793247302,0.0010647662366681115,0.0007318024188806086,0.0004979554215033694,0.0003354626279025786,0.00022374579372066625,0.00014774836023206486,9.659341372220511e-05,6.252150377483437e-05,4.006529739296032e-05,2.54193465162053e-05,1.596678389780866e-05,9.929504305853587e-06,6.113567966372988e-06,3.726653172079664e-06,2.249055967032958e-06,1.3438122776318986e-06,7.949393615351428e-07,4.6557157157844593e-07,2.6995785033638294e-07,1.5497531357033785e-07,8.808179196463373e-08,4.956405319174118e-08,2.761242456828957e-08,1.5229979744717824e-08,8.31670245683114e-09,4.496349462282467e-09,2.4067224363019582e-09,1.2754076295265198e-09,6.691586091295255e-10,3.4758912812412807e-10,1.7875588711287114e-10,9.101470764491654e-11,4.587962487141134e-11,2.289734845646521e-11,1.1313776200070312e-11,5.534610071703452e-12,2.6805476373137783e-12,1.2853372251342348e-12,6.101936677608251e-13,2.867975008889453e-13,1.3345660848226152e-13,6.148396412707793e-14,2.804404738224242e-14,1.2664165549100655e-14,5.661995516951807e-15,2.5062218871465923e-15,1.0983141298292058e-15,4.765304735301695e-16,2.0469717131653097e-16,8.705426622301198e-17,3.665433395603207e-17,1.527979968288206e-17,6.306189893990077e-18,2.5767571091565372e-18,1.0424061783908193e-18,4.175010055853125e-19,1.6555226620997978e-19,6.499347972075095e-20,2.526163780927398e-20,9.720985020307274e-21,3.703531977654792e-21,1.3969439431480619e-21,5.216736662030781e-22],\"type\":\"scatter\"}],                        {\"template\":{\"data\":{\"histogram2dcontour\":[{\"type\":\"histogram2dcontour\",\"colorbar\":{\"outlinewidth\":0,\"ticks\":\"\"},\"colorscale\":[[0.0,\"#0d0887\"],[0.1111111111111111,\"#46039f\"],[0.2222222222222222,\"#7201a8\"],[0.3333333333333333,\"#9c179e\"],[0.4444444444444444,\"#bd3786\"],[0.5555555555555556,\"#d8576b\"],[0.6666666666666666,\"#ed7953\"],[0.7777777777777778,\"#fb9f3a\"],[0.8888888888888888,\"#fdca26\"],[1.0,\"#f0f921\"]]}],\"choropleth\":[{\"type\":\"choropleth\",\"colorbar\":{\"outlinewidth\":0,\"ticks\":\"\"}}],\"histogram2d\":[{\"type\":\"histogram2d\",\"colorbar\":{\"outlinewidth\":0,\"ticks\":\"\"},\"colorscale\":[[0.0,\"#0d0887\"],[0.1111111111111111,\"#46039f\"],[0.2222222222222222,\"#7201a8\"],[0.3333333333333333,\"#9c179e\"],[0.4444444444444444,\"#bd3786\"],[0.5555555555555556,\"#d8576b\"],[0.6666666666666666,\"#ed7953\"],[0.7777777777777778,\"#fb9f3a\"],[0.8888888888888888,\"#fdca26\"],[1.0,\"#f0f921\"]]}],\"heatmap\":[{\"type\":\"heatmap\",\"colorbar\":{\"outlinewidth\":0,\"ticks\":\"\"},\"colorscale\":[[0.0,\"#0d0887\"],[0.1111111111111111,\"#46039f\"],[0.2222222222222222,\"#7201a8\"],[0.3333333333333333,\"#9c179e\"],[0.4444444444444444,\"#bd3786\"],[0.5555555555555556,\"#d8576b\"],[0.6666666666666666,\"#ed7953\"],[0.7777777777777778,\"#fb9f3a\"],[0.8888888888888888,\"#fdca26\"],[1.0,\"#f0f921\"]]}],\"heatmapgl\":[{\"type\":\"heatmapgl\",\"colorbar\":{\"outlinewidth\":0,\"ticks\":\"\"},\"colorscale\":[[0.0,\"#0d0887\"],[0.1111111111111111,\"#46039f\"],[0.2222222222222222,\"#7201a8\"],[0.3333333333333333,\"#9c179e\"],[0.4444444444444444,\"#bd3786\"],[0.5555555555555556,\"#d8576b\"],[0.6666666666666666,\"#ed7953\"],[0.7777777777777778,\"#fb9f3a\"],[0.8888888888888888,\"#fdca26\"],[1.0,\"#f0f921\"]]}],\"contourcarpet\":[{\"type\":\"contourcarpet\",\"colorbar\":{\"outlinewidth\":0,\"ticks\":\"\"}}],\"contour\":[{\"type\":\"contour\",\"colorbar\":{\"outlinewidth\":0,\"ticks\":\"\"},\"colorscale\":[[0.0,\"#0d0887\"],[0.1111111111111111,\"#46039f\"],[0.2222222222222222,\"#7201a8\"],[0.3333333333333333,\"#9c179e\"],[0.4444444444444444,\"#bd3786\"],[0.5555555555555556,\"#d8576b\"],[0.6666666666666666,\"#ed7953\"],[0.7777777777777778,\"#fb9f3a\"],[0.8888888888888888,\"#fdca26\"],[1.0,\"#f0f921\"]]}],\"surface\":[{\"type\":\"surface\",\"colorbar\":{\"outlinewidth\":0,\"ticks\":\"\"},\"colorscale\":[[0.0,\"#0d0887\"],[0.1111111111111111,\"#46039f\"],[0.2222222222222222,\"#7201a8\"],[0.3333333333333333,\"#9c179e\"],[0.4444444444444444,\"#bd3786\"],[0.5555555555555556,\"#d8576b\"],[0.6666666666666666,\"#ed7953\"],[0.7777777777777778,\"#fb9f3a\"],[0.8888888888888888,\"#fdca26\"],[1.0,\"#f0f921\"]]}],\"mesh3d\":[{\"type\":\"mesh3d\",\"colorbar\":{\"outlinewidth\":0,\"ticks\":\"\"}}],\"scatter\":[{\"fillpattern\":{\"fillmode\":\"overlay\",\"size\":10,\"solidity\":0.2},\"type\":\"scatter\"}],\"parcoords\":[{\"type\":\"parcoords\",\"line\":{\"colorbar\":{\"outlinewidth\":0,\"ticks\":\"\"}}}],\"scatterpolargl\":[{\"type\":\"scatterpolargl\",\"marker\":{\"colorbar\":{\"outlinewidth\":0,\"ticks\":\"\"}}}],\"bar\":[{\"error_x\":{\"color\":\"#2a3f5f\"},\"error_y\":{\"color\":\"#2a3f5f\"},\"marker\":{\"line\":{\"color\":\"#E5ECF6\",\"width\":0.5},\"pattern\":{\"fillmode\":\"overlay\",\"size\":10,\"solidity\":0.2}},\"type\":\"bar\"}],\"scattergeo\":[{\"type\":\"scattergeo\",\"marker\":{\"colorbar\":{\"outlinewidth\":0,\"ticks\":\"\"}}}],\"scatterpolar\":[{\"type\":\"scatterpolar\",\"marker\":{\"colorbar\":{\"outlinewidth\":0,\"ticks\":\"\"}}}],\"histogram\":[{\"marker\":{\"pattern\":{\"fillmode\":\"overlay\",\"size\":10,\"solidity\":0.2}},\"type\":\"histogram\"}],\"scattergl\":[{\"type\":\"scattergl\",\"marker\":{\"colorbar\":{\"outlinewidth\":0,\"ticks\":\"\"}}}],\"scatter3d\":[{\"type\":\"scatter3d\",\"line\":{\"colorbar\":{\"outlinewidth\":0,\"ticks\":\"\"}},\"marker\":{\"colorbar\":{\"outlinewidth\":0,\"ticks\":\"\"}}}],\"scattermapbox\":[{\"type\":\"scattermapbox\",\"marker\":{\"colorbar\":{\"outlinewidth\":0,\"ticks\":\"\"}}}],\"scatterternary\":[{\"type\":\"scatterternary\",\"marker\":{\"colorbar\":{\"outlinewidth\":0,\"ticks\":\"\"}}}],\"scattercarpet\":[{\"type\":\"scattercarpet\",\"marker\":{\"colorbar\":{\"outlinewidth\":0,\"ticks\":\"\"}}}],\"carpet\":[{\"aaxis\":{\"endlinecolor\":\"#2a3f5f\",\"gridcolor\":\"white\",\"linecolor\":\"white\",\"minorgridcolor\":\"white\",\"startlinecolor\":\"#2a3f5f\"},\"baxis\":{\"endlinecolor\":\"#2a3f5f\",\"gridcolor\":\"white\",\"linecolor\":\"white\",\"minorgridcolor\":\"white\",\"startlinecolor\":\"#2a3f5f\"},\"type\":\"carpet\"}],\"table\":[{\"cells\":{\"fill\":{\"color\":\"#EBF0F8\"},\"line\":{\"color\":\"white\"}},\"header\":{\"fill\":{\"color\":\"#C8D4E3\"},\"line\":{\"color\":\"white\"}},\"type\":\"table\"}],\"barpolar\":[{\"marker\":{\"line\":{\"color\":\"#E5ECF6\",\"width\":0.5},\"pattern\":{\"fillmode\":\"overlay\",\"size\":10,\"solidity\":0.2}},\"type\":\"barpolar\"}],\"pie\":[{\"automargin\":true,\"type\":\"pie\"}]},\"layout\":{\"autotypenumbers\":\"strict\",\"colorway\":[\"#636efa\",\"#EF553B\",\"#00cc96\",\"#ab63fa\",\"#FFA15A\",\"#19d3f3\",\"#FF6692\",\"#B6E880\",\"#FF97FF\",\"#FECB52\"],\"font\":{\"color\":\"#2a3f5f\"},\"hovermode\":\"closest\",\"hoverlabel\":{\"align\":\"left\"},\"paper_bgcolor\":\"white\",\"plot_bgcolor\":\"#E5ECF6\",\"polar\":{\"bgcolor\":\"#E5ECF6\",\"angularaxis\":{\"gridcolor\":\"white\",\"linecolor\":\"white\",\"ticks\":\"\"},\"radialaxis\":{\"gridcolor\":\"white\",\"linecolor\":\"white\",\"ticks\":\"\"}},\"ternary\":{\"bgcolor\":\"#E5ECF6\",\"aaxis\":{\"gridcolor\":\"white\",\"linecolor\":\"white\",\"ticks\":\"\"},\"baxis\":{\"gridcolor\":\"white\",\"linecolor\":\"white\",\"ticks\":\"\"},\"caxis\":{\"gridcolor\":\"white\",\"linecolor\":\"white\",\"ticks\":\"\"}},\"coloraxis\":{\"colorbar\":{\"outlinewidth\":0,\"ticks\":\"\"}},\"colorscale\":{\"sequential\":[[0.0,\"#0d0887\"],[0.1111111111111111,\"#46039f\"],[0.2222222222222222,\"#7201a8\"],[0.3333333333333333,\"#9c179e\"],[0.4444444444444444,\"#bd3786\"],[0.5555555555555556,\"#d8576b\"],[0.6666666666666666,\"#ed7953\"],[0.7777777777777778,\"#fb9f3a\"],[0.8888888888888888,\"#fdca26\"],[1.0,\"#f0f921\"]],\"sequentialminus\":[[0.0,\"#0d0887\"],[0.1111111111111111,\"#46039f\"],[0.2222222222222222,\"#7201a8\"],[0.3333333333333333,\"#9c179e\"],[0.4444444444444444,\"#bd3786\"],[0.5555555555555556,\"#d8576b\"],[0.6666666666666666,\"#ed7953\"],[0.7777777777777778,\"#fb9f3a\"],[0.8888888888888888,\"#fdca26\"],[1.0,\"#f0f921\"]],\"diverging\":[[0,\"#8e0152\"],[0.1,\"#c51b7d\"],[0.2,\"#de77ae\"],[0.3,\"#f1b6da\"],[0.4,\"#fde0ef\"],[0.5,\"#f7f7f7\"],[0.6,\"#e6f5d0\"],[0.7,\"#b8e186\"],[0.8,\"#7fbc41\"],[0.9,\"#4d9221\"],[1,\"#276419\"]]},\"xaxis\":{\"gridcolor\":\"white\",\"linecolor\":\"white\",\"ticks\":\"\",\"title\":{\"standoff\":15},\"zerolinecolor\":\"white\",\"automargin\":true,\"zerolinewidth\":2},\"yaxis\":{\"gridcolor\":\"white\",\"linecolor\":\"white\",\"ticks\":\"\",\"title\":{\"standoff\":15},\"zerolinecolor\":\"white\",\"automargin\":true,\"zerolinewidth\":2},\"scene\":{\"xaxis\":{\"backgroundcolor\":\"#E5ECF6\",\"gridcolor\":\"white\",\"linecolor\":\"white\",\"showbackground\":true,\"ticks\":\"\",\"zerolinecolor\":\"white\",\"gridwidth\":2},\"yaxis\":{\"backgroundcolor\":\"#E5ECF6\",\"gridcolor\":\"white\",\"linecolor\":\"white\",\"showbackground\":true,\"ticks\":\"\",\"zerolinecolor\":\"white\",\"gridwidth\":2},\"zaxis\":{\"backgroundcolor\":\"#E5ECF6\",\"gridcolor\":\"white\",\"linecolor\":\"white\",\"showbackground\":true,\"ticks\":\"\",\"zerolinecolor\":\"white\",\"gridwidth\":2}},\"shapedefaults\":{\"line\":{\"color\":\"#2a3f5f\"}},\"annotationdefaults\":{\"arrowcolor\":\"#2a3f5f\",\"arrowhead\":0,\"arrowwidth\":1},\"geo\":{\"bgcolor\":\"white\",\"landcolor\":\"#E5ECF6\",\"subunitcolor\":\"white\",\"showland\":true,\"showlakes\":true,\"lakecolor\":\"white\"},\"title\":{\"x\":0.05},\"mapbox\":{\"style\":\"light\"}}},\"yaxis\":{\"range\":[0,1.2],\"title\":{\"text\":\"W value\"}},\"width\":500,\"height\":500,\"title\":{\"text\":\"$w(x_i) = \\\\exp(-\\\\frac{(x_i-x)^2}{2 \\\\tau^2}), \\\\ x=0$\"},\"xaxis\":{\"title\":{\"text\":\"X value\"}}},                        {\"responsive\": true}                    ).then(function(){\n                            \nvar gd = document.getElementById('91e82b1e-1424-40cf-b416-02d5c66effb1');\nvar x = new MutationObserver(function (mutations, observer) {{\n        var display = window.getComputedStyle(gd).display;\n        if (!display || display === 'none') {{\n            console.log([gd, 'removed!']);\n            Plotly.purge(gd);\n            observer.disconnect();\n        }}\n}});\n\n// Listen for the removal of the full notebook cells\nvar notebookContainer = gd.closest('#notebook-container');\nif (notebookContainer) {{\n    x.observe(notebookContainer, {childList: true});\n}}\n\n// Listen for the clearing of the current output cell\nvar outputEl = gd.closest('.output');\nif (outputEl) {{\n    x.observe(outputEl, {childList: true});\n}}\n\n                        })                };                            </script>        </div>\n</body>\n</html>"
                },
                "metadata": {}
              }
            ]
          }
        },
        "e1debeba9225446992f5cefc2fad2a30": {
          "model_module": "@jupyter-widgets/base",
          "model_name": "LayoutModel",
          "model_module_version": "1.2.0",
          "state": {
            "_model_module": "@jupyter-widgets/base",
            "_model_module_version": "1.2.0",
            "_model_name": "LayoutModel",
            "_view_count": null,
            "_view_module": "@jupyter-widgets/base",
            "_view_module_version": "1.2.0",
            "_view_name": "LayoutView",
            "align_content": null,
            "align_items": null,
            "align_self": null,
            "border": null,
            "bottom": null,
            "display": null,
            "flex": null,
            "flex_flow": null,
            "grid_area": null,
            "grid_auto_columns": null,
            "grid_auto_flow": null,
            "grid_auto_rows": null,
            "grid_column": null,
            "grid_gap": null,
            "grid_row": null,
            "grid_template_areas": null,
            "grid_template_columns": null,
            "grid_template_rows": null,
            "height": null,
            "justify_content": null,
            "justify_items": null,
            "left": null,
            "margin": null,
            "max_height": null,
            "max_width": null,
            "min_height": null,
            "min_width": null,
            "object_fit": null,
            "object_position": null,
            "order": null,
            "overflow": null,
            "overflow_x": null,
            "overflow_y": null,
            "padding": null,
            "right": null,
            "top": null,
            "visibility": null,
            "width": null
          }
        },
        "d8914da2353e4602a53517f9a9046381": {
          "model_module": "@jupyter-widgets/base",
          "model_name": "LayoutModel",
          "model_module_version": "1.2.0",
          "state": {
            "_model_module": "@jupyter-widgets/base",
            "_model_module_version": "1.2.0",
            "_model_name": "LayoutModel",
            "_view_count": null,
            "_view_module": "@jupyter-widgets/base",
            "_view_module_version": "1.2.0",
            "_view_name": "LayoutView",
            "align_content": null,
            "align_items": null,
            "align_self": null,
            "border": null,
            "bottom": null,
            "display": null,
            "flex": null,
            "flex_flow": null,
            "grid_area": null,
            "grid_auto_columns": null,
            "grid_auto_flow": null,
            "grid_auto_rows": null,
            "grid_column": null,
            "grid_gap": null,
            "grid_row": null,
            "grid_template_areas": null,
            "grid_template_columns": null,
            "grid_template_rows": null,
            "height": null,
            "justify_content": null,
            "justify_items": null,
            "left": null,
            "margin": null,
            "max_height": null,
            "max_width": null,
            "min_height": null,
            "min_width": null,
            "object_fit": null,
            "object_position": null,
            "order": null,
            "overflow": null,
            "overflow_x": null,
            "overflow_y": null,
            "padding": null,
            "right": null,
            "top": null,
            "visibility": null,
            "width": null
          }
        },
        "89a9a52ebbfb4606b2ce1ec7071702fb": {
          "model_module": "@jupyter-widgets/controls",
          "model_name": "SliderStyleModel",
          "model_module_version": "1.5.0",
          "state": {
            "_model_module": "@jupyter-widgets/controls",
            "_model_module_version": "1.5.0",
            "_model_name": "SliderStyleModel",
            "_view_count": null,
            "_view_module": "@jupyter-widgets/base",
            "_view_module_version": "1.2.0",
            "_view_name": "StyleView",
            "description_width": "",
            "handle_color": null
          }
        },
        "a5940504459e461ab97ac852af54dba0": {
          "model_module": "@jupyter-widgets/base",
          "model_name": "LayoutModel",
          "model_module_version": "1.2.0",
          "state": {
            "_model_module": "@jupyter-widgets/base",
            "_model_module_version": "1.2.0",
            "_model_name": "LayoutModel",
            "_view_count": null,
            "_view_module": "@jupyter-widgets/base",
            "_view_module_version": "1.2.0",
            "_view_name": "LayoutView",
            "align_content": null,
            "align_items": null,
            "align_self": null,
            "border": null,
            "bottom": null,
            "display": null,
            "flex": null,
            "flex_flow": null,
            "grid_area": null,
            "grid_auto_columns": null,
            "grid_auto_flow": null,
            "grid_auto_rows": null,
            "grid_column": null,
            "grid_gap": null,
            "grid_row": null,
            "grid_template_areas": null,
            "grid_template_columns": null,
            "grid_template_rows": null,
            "height": null,
            "justify_content": null,
            "justify_items": null,
            "left": null,
            "margin": null,
            "max_height": null,
            "max_width": null,
            "min_height": null,
            "min_width": null,
            "object_fit": null,
            "object_position": null,
            "order": null,
            "overflow": null,
            "overflow_x": null,
            "overflow_y": null,
            "padding": null,
            "right": null,
            "top": null,
            "visibility": null,
            "width": null
          }
        }
      }
    }
  },
  "cells": [
    {
      "cell_type": "markdown",
      "metadata": {
        "id": "view-in-github",
        "colab_type": "text"
      },
      "source": [
        "<a href=\"https://colab.research.google.com/github/RegisKonan/FinalProject/blob/main/regis_konan_AMM_Foundations_of_ML%2C_Locally_weighted_regression.ipynb\" target=\"_parent\"><img src=\"https://colab.research.google.com/assets/colab-badge.svg\" alt=\"Open In Colab\"/></a>"
      ]
    },
    {
      "cell_type": "markdown",
      "source": [
        "# Locally Weighted Regression"
      ],
      "metadata": {
        "id": "PayZAVO_DRZh"
      }
    },
    {
      "cell_type": "markdown",
      "source": [
        "In this tutorial you will implement locally weighted regression (LWR) and understand the differences between LWR and linear regression.\n",
        "\n",
        "The idea behind locally weighted regression (LWR) is to fit linear model in a local region about the point we want to do prediction at.\n",
        "More formally, given the point $x$ at which we want to predict the output, we minimize the following loss function:\n",
        "$$\n",
        "\\begin{align}\n",
        "L(\\theta) &= \\sum_{i=1}^{N} w(x_i) (y_i - \\theta^Tx_i)^2 \\\\\n",
        "& = (X \\theta - y)^T W (X \\theta - y)\n",
        "\\end{align}\n",
        "$$\n",
        "\n",
        "\\begin{equation}\n",
        "X = \\begin{bmatrix}\n",
        "     - (x^{(1)})^T - \\\\\n",
        "     \\vdots \\\\\n",
        "     - (x^{(n)})^T - \\\\\n",
        "     \\end{bmatrix}\n",
        "     \\in \\mathbb{R}^{m \\times n}\n",
        "\\qquad\n",
        "y = \\begin{bmatrix}\n",
        "     y^{(1)} \\\\\n",
        "     \\vdots \\\\\n",
        "     y^{(n)} \\\\\n",
        "     \\end{bmatrix}\n",
        "\\qquad\n",
        "W =  \\mathrm{diag} (w^{(i)}, \\dots , w^{(n)})\n",
        "\\end{equation}\n",
        "\n",
        "Where $w(x_i)$ is a weghting function, the purpose of this function is control the importance of each training example $(x_i, y_i)$ relative to the prediction point $x$, points which are close to $x$ will have larger weights while points which are far away from $x$ will have smaller weights.\n",
        "\n",
        "A common choice of $w(x_i)$ is of the following form\n",
        "$$\n",
        "w(x_i) = \\exp(-\\frac{(x_i-x)^2}{2 \\tau^2})\n",
        "$$\n",
        "Notice that when the example $x_i$ is close to the prediction point $x$ the weight is close to 1, and if $x_i$ is far away from $x$ the weight is close to 0.\n",
        "$\\tau$ controls the decay rate in which the weight falls from 1 to 0, the smaller the value of $\\tau$ the quciker the weight falls to 0 as the point $x_i$ move further away from $x$, you can play interactively with in the next cell to understand the affect of $\\tau$, $\\tau$ is called the bandwidth parameter.\n",
        "\n",
        "\n",
        "We can solve for $\\theta$ with a slightly modified version of the normal equations\n",
        "$$\\theta = (X^T W X)^{-1} X^T W y$$"
      ],
      "metadata": {
        "id": "wLwOk-JRDU7g"
      }
    },
    {
      "cell_type": "code",
      "source": [
        "#@title Install some dependencies for the interactive plot\n",
        "!pip install ipympl\n",
        "!pip install plotly"
      ],
      "metadata": {
        "id": "w1xgAJ1VNLQJ",
        "colab": {
          "base_uri": "https://localhost:8080/"
        },
        "outputId": "2f37ae6b-8c96-48b4-df0f-5661b4fac85e"
      },
      "execution_count": null,
      "outputs": [
        {
          "output_type": "stream",
          "name": "stdout",
          "text": [
            "Looking in indexes: https://pypi.org/simple, https://us-python.pkg.dev/colab-wheels/public/simple/\n",
            "Collecting ipympl\n",
            "  Downloading ipympl-0.9.3-py2.py3-none-any.whl (511 kB)\n",
            "\u001b[2K     \u001b[90m━━━━━━━━━━━━━━━━━━━━━━━━━━━━━━━━━━━━━━\u001b[0m \u001b[32m511.6/511.6 KB\u001b[0m \u001b[31m10.3 MB/s\u001b[0m eta \u001b[36m0:00:00\u001b[0m\n",
            "\u001b[?25hRequirement already satisfied: numpy in /usr/local/lib/python3.9/dist-packages (from ipympl) (1.22.4)\n",
            "Requirement already satisfied: traitlets<6 in /usr/local/lib/python3.9/dist-packages (from ipympl) (5.7.1)\n",
            "Requirement already satisfied: matplotlib<4,>=3.4.0 in /usr/local/lib/python3.9/dist-packages (from ipympl) (3.7.1)\n",
            "Requirement already satisfied: ipywidgets<9,>=7.6.0 in /usr/local/lib/python3.9/dist-packages (from ipympl) (7.7.1)\n",
            "Requirement already satisfied: ipython<9 in /usr/local/lib/python3.9/dist-packages (from ipympl) (7.9.0)\n",
            "Requirement already satisfied: ipython-genutils in /usr/local/lib/python3.9/dist-packages (from ipympl) (0.2.0)\n",
            "Requirement already satisfied: pillow in /usr/local/lib/python3.9/dist-packages (from ipympl) (8.4.0)\n",
            "Collecting jedi>=0.10\n",
            "  Downloading jedi-0.18.2-py2.py3-none-any.whl (1.6 MB)\n",
            "\u001b[2K     \u001b[90m━━━━━━━━━━━━━━━━━━━━━━━━━━━━━━━━━━━━━━━━\u001b[0m \u001b[32m1.6/1.6 MB\u001b[0m \u001b[31m49.1 MB/s\u001b[0m eta \u001b[36m0:00:00\u001b[0m\n",
            "\u001b[?25hRequirement already satisfied: setuptools>=18.5 in /usr/local/lib/python3.9/dist-packages (from ipython<9->ipympl) (63.4.3)\n",
            "Requirement already satisfied: pickleshare in /usr/local/lib/python3.9/dist-packages (from ipython<9->ipympl) (0.7.5)\n",
            "Requirement already satisfied: decorator in /usr/local/lib/python3.9/dist-packages (from ipython<9->ipympl) (4.4.2)\n",
            "Requirement already satisfied: prompt-toolkit<2.1.0,>=2.0.0 in /usr/local/lib/python3.9/dist-packages (from ipython<9->ipympl) (2.0.10)\n",
            "Requirement already satisfied: pygments in /usr/local/lib/python3.9/dist-packages (from ipython<9->ipympl) (2.6.1)\n",
            "Requirement already satisfied: backcall in /usr/local/lib/python3.9/dist-packages (from ipython<9->ipympl) (0.2.0)\n",
            "Requirement already satisfied: pexpect in /usr/local/lib/python3.9/dist-packages (from ipython<9->ipympl) (4.8.0)\n",
            "Requirement already satisfied: jupyterlab-widgets>=1.0.0 in /usr/local/lib/python3.9/dist-packages (from ipywidgets<9,>=7.6.0->ipympl) (3.0.5)\n",
            "Requirement already satisfied: widgetsnbextension~=3.6.0 in /usr/local/lib/python3.9/dist-packages (from ipywidgets<9,>=7.6.0->ipympl) (3.6.2)\n",
            "Requirement already satisfied: ipykernel>=4.5.1 in /usr/local/lib/python3.9/dist-packages (from ipywidgets<9,>=7.6.0->ipympl) (5.3.4)\n",
            "Requirement already satisfied: importlib-resources>=3.2.0 in /usr/local/lib/python3.9/dist-packages (from matplotlib<4,>=3.4.0->ipympl) (5.12.0)\n",
            "Requirement already satisfied: packaging>=20.0 in /usr/local/lib/python3.9/dist-packages (from matplotlib<4,>=3.4.0->ipympl) (23.0)\n",
            "Requirement already satisfied: pyparsing>=2.3.1 in /usr/local/lib/python3.9/dist-packages (from matplotlib<4,>=3.4.0->ipympl) (3.0.9)\n",
            "Requirement already satisfied: kiwisolver>=1.0.1 in /usr/local/lib/python3.9/dist-packages (from matplotlib<4,>=3.4.0->ipympl) (1.4.4)\n",
            "Requirement already satisfied: fonttools>=4.22.0 in /usr/local/lib/python3.9/dist-packages (from matplotlib<4,>=3.4.0->ipympl) (4.39.0)\n",
            "Requirement already satisfied: contourpy>=1.0.1 in /usr/local/lib/python3.9/dist-packages (from matplotlib<4,>=3.4.0->ipympl) (1.0.7)\n",
            "Requirement already satisfied: cycler>=0.10 in /usr/local/lib/python3.9/dist-packages (from matplotlib<4,>=3.4.0->ipympl) (0.11.0)\n",
            "Requirement already satisfied: python-dateutil>=2.7 in /usr/local/lib/python3.9/dist-packages (from matplotlib<4,>=3.4.0->ipympl) (2.8.2)\n",
            "Requirement already satisfied: zipp>=3.1.0 in /usr/local/lib/python3.9/dist-packages (from importlib-resources>=3.2.0->matplotlib<4,>=3.4.0->ipympl) (3.15.0)\n",
            "Requirement already satisfied: jupyter-client in /usr/local/lib/python3.9/dist-packages (from ipykernel>=4.5.1->ipywidgets<9,>=7.6.0->ipympl) (6.1.12)\n",
            "Requirement already satisfied: tornado>=4.2 in /usr/local/lib/python3.9/dist-packages (from ipykernel>=4.5.1->ipywidgets<9,>=7.6.0->ipympl) (6.2)\n",
            "Requirement already satisfied: parso<0.9.0,>=0.8.0 in /usr/local/lib/python3.9/dist-packages (from jedi>=0.10->ipython<9->ipympl) (0.8.3)\n",
            "Requirement already satisfied: six>=1.9.0 in /usr/local/lib/python3.9/dist-packages (from prompt-toolkit<2.1.0,>=2.0.0->ipython<9->ipympl) (1.15.0)\n",
            "Requirement already satisfied: wcwidth in /usr/local/lib/python3.9/dist-packages (from prompt-toolkit<2.1.0,>=2.0.0->ipython<9->ipympl) (0.2.6)\n",
            "Requirement already satisfied: notebook>=4.4.1 in /usr/local/lib/python3.9/dist-packages (from widgetsnbextension~=3.6.0->ipywidgets<9,>=7.6.0->ipympl) (6.3.0)\n",
            "Requirement already satisfied: ptyprocess>=0.5 in /usr/local/lib/python3.9/dist-packages (from pexpect->ipython<9->ipympl) (0.7.0)\n",
            "Requirement already satisfied: nbformat in /usr/local/lib/python3.9/dist-packages (from notebook>=4.4.1->widgetsnbextension~=3.6.0->ipywidgets<9,>=7.6.0->ipympl) (5.7.3)\n",
            "Requirement already satisfied: pyzmq>=17 in /usr/local/lib/python3.9/dist-packages (from notebook>=4.4.1->widgetsnbextension~=3.6.0->ipywidgets<9,>=7.6.0->ipympl) (23.2.1)\n",
            "Requirement already satisfied: terminado>=0.8.3 in /usr/local/lib/python3.9/dist-packages (from notebook>=4.4.1->widgetsnbextension~=3.6.0->ipywidgets<9,>=7.6.0->ipympl) (0.17.1)\n",
            "Requirement already satisfied: jinja2 in /usr/local/lib/python3.9/dist-packages (from notebook>=4.4.1->widgetsnbextension~=3.6.0->ipywidgets<9,>=7.6.0->ipympl) (3.1.2)\n",
            "Requirement already satisfied: jupyter-core>=4.6.1 in /usr/local/lib/python3.9/dist-packages (from notebook>=4.4.1->widgetsnbextension~=3.6.0->ipywidgets<9,>=7.6.0->ipympl) (5.2.0)\n",
            "Requirement already satisfied: argon2-cffi in /usr/local/lib/python3.9/dist-packages (from notebook>=4.4.1->widgetsnbextension~=3.6.0->ipywidgets<9,>=7.6.0->ipympl) (21.3.0)\n",
            "Requirement already satisfied: prometheus-client in /usr/local/lib/python3.9/dist-packages (from notebook>=4.4.1->widgetsnbextension~=3.6.0->ipywidgets<9,>=7.6.0->ipympl) (0.16.0)\n",
            "Requirement already satisfied: Send2Trash>=1.5.0 in /usr/local/lib/python3.9/dist-packages (from notebook>=4.4.1->widgetsnbextension~=3.6.0->ipywidgets<9,>=7.6.0->ipympl) (1.8.0)\n",
            "Requirement already satisfied: nbconvert in /usr/local/lib/python3.9/dist-packages (from notebook>=4.4.1->widgetsnbextension~=3.6.0->ipywidgets<9,>=7.6.0->ipympl) (6.5.4)\n",
            "Requirement already satisfied: platformdirs>=2.5 in /usr/local/lib/python3.9/dist-packages (from jupyter-core>=4.6.1->notebook>=4.4.1->widgetsnbextension~=3.6.0->ipywidgets<9,>=7.6.0->ipympl) (3.1.1)\n",
            "Requirement already satisfied: argon2-cffi-bindings in /usr/local/lib/python3.9/dist-packages (from argon2-cffi->notebook>=4.4.1->widgetsnbextension~=3.6.0->ipywidgets<9,>=7.6.0->ipympl) (21.2.0)\n",
            "Requirement already satisfied: MarkupSafe>=2.0 in /usr/local/lib/python3.9/dist-packages (from jinja2->notebook>=4.4.1->widgetsnbextension~=3.6.0->ipywidgets<9,>=7.6.0->ipympl) (2.1.2)\n",
            "Requirement already satisfied: bleach in /usr/local/lib/python3.9/dist-packages (from nbconvert->notebook>=4.4.1->widgetsnbextension~=3.6.0->ipywidgets<9,>=7.6.0->ipympl) (6.0.0)\n",
            "Requirement already satisfied: beautifulsoup4 in /usr/local/lib/python3.9/dist-packages (from nbconvert->notebook>=4.4.1->widgetsnbextension~=3.6.0->ipywidgets<9,>=7.6.0->ipympl) (4.11.2)\n",
            "Requirement already satisfied: mistune<2,>=0.8.1 in /usr/local/lib/python3.9/dist-packages (from nbconvert->notebook>=4.4.1->widgetsnbextension~=3.6.0->ipywidgets<9,>=7.6.0->ipympl) (0.8.4)\n",
            "Requirement already satisfied: lxml in /usr/local/lib/python3.9/dist-packages (from nbconvert->notebook>=4.4.1->widgetsnbextension~=3.6.0->ipywidgets<9,>=7.6.0->ipympl) (4.9.2)\n",
            "Requirement already satisfied: nbclient>=0.5.0 in /usr/local/lib/python3.9/dist-packages (from nbconvert->notebook>=4.4.1->widgetsnbextension~=3.6.0->ipywidgets<9,>=7.6.0->ipympl) (0.7.2)\n",
            "Requirement already satisfied: tinycss2 in /usr/local/lib/python3.9/dist-packages (from nbconvert->notebook>=4.4.1->widgetsnbextension~=3.6.0->ipywidgets<9,>=7.6.0->ipympl) (1.2.1)\n",
            "Requirement already satisfied: defusedxml in /usr/local/lib/python3.9/dist-packages (from nbconvert->notebook>=4.4.1->widgetsnbextension~=3.6.0->ipywidgets<9,>=7.6.0->ipympl) (0.7.1)\n",
            "Requirement already satisfied: pandocfilters>=1.4.1 in /usr/local/lib/python3.9/dist-packages (from nbconvert->notebook>=4.4.1->widgetsnbextension~=3.6.0->ipywidgets<9,>=7.6.0->ipympl) (1.5.0)\n",
            "Requirement already satisfied: jupyterlab-pygments in /usr/local/lib/python3.9/dist-packages (from nbconvert->notebook>=4.4.1->widgetsnbextension~=3.6.0->ipywidgets<9,>=7.6.0->ipympl) (0.2.2)\n",
            "Requirement already satisfied: entrypoints>=0.2.2 in /usr/local/lib/python3.9/dist-packages (from nbconvert->notebook>=4.4.1->widgetsnbextension~=3.6.0->ipywidgets<9,>=7.6.0->ipympl) (0.4)\n",
            "Requirement already satisfied: jsonschema>=2.6 in /usr/local/lib/python3.9/dist-packages (from nbformat->notebook>=4.4.1->widgetsnbextension~=3.6.0->ipywidgets<9,>=7.6.0->ipympl) (4.3.3)\n",
            "Requirement already satisfied: fastjsonschema in /usr/local/lib/python3.9/dist-packages (from nbformat->notebook>=4.4.1->widgetsnbextension~=3.6.0->ipywidgets<9,>=7.6.0->ipympl) (2.16.3)\n",
            "Requirement already satisfied: attrs>=17.4.0 in /usr/local/lib/python3.9/dist-packages (from jsonschema>=2.6->nbformat->notebook>=4.4.1->widgetsnbextension~=3.6.0->ipywidgets<9,>=7.6.0->ipympl) (22.2.0)\n",
            "Requirement already satisfied: pyrsistent!=0.17.0,!=0.17.1,!=0.17.2,>=0.14.0 in /usr/local/lib/python3.9/dist-packages (from jsonschema>=2.6->nbformat->notebook>=4.4.1->widgetsnbextension~=3.6.0->ipywidgets<9,>=7.6.0->ipympl) (0.19.3)\n",
            "Requirement already satisfied: cffi>=1.0.1 in /usr/local/lib/python3.9/dist-packages (from argon2-cffi-bindings->argon2-cffi->notebook>=4.4.1->widgetsnbextension~=3.6.0->ipywidgets<9,>=7.6.0->ipympl) (1.15.1)\n",
            "Requirement already satisfied: soupsieve>1.2 in /usr/local/lib/python3.9/dist-packages (from beautifulsoup4->nbconvert->notebook>=4.4.1->widgetsnbextension~=3.6.0->ipywidgets<9,>=7.6.0->ipympl) (2.4)\n",
            "Requirement already satisfied: webencodings in /usr/local/lib/python3.9/dist-packages (from bleach->nbconvert->notebook>=4.4.1->widgetsnbextension~=3.6.0->ipywidgets<9,>=7.6.0->ipympl) (0.5.1)\n",
            "Requirement already satisfied: pycparser in /usr/local/lib/python3.9/dist-packages (from cffi>=1.0.1->argon2-cffi-bindings->argon2-cffi->notebook>=4.4.1->widgetsnbextension~=3.6.0->ipywidgets<9,>=7.6.0->ipympl) (2.21)\n",
            "Installing collected packages: jedi, ipympl\n",
            "Successfully installed ipympl-0.9.3 jedi-0.18.2\n",
            "Looking in indexes: https://pypi.org/simple, https://us-python.pkg.dev/colab-wheels/public/simple/\n",
            "Requirement already satisfied: plotly in /usr/local/lib/python3.9/dist-packages (5.5.0)\n",
            "Requirement already satisfied: tenacity>=6.2.0 in /usr/local/lib/python3.9/dist-packages (from plotly) (8.2.2)\n",
            "Requirement already satisfied: six in /usr/local/lib/python3.9/dist-packages (from plotly) (1.15.0)\n"
          ]
        }
      ]
    },
    {
      "cell_type": "markdown",
      "source": [],
      "metadata": {
        "id": "M6w9-072jgFR"
      }
    },
    {
      "cell_type": "code",
      "execution_count": null,
      "metadata": {
        "colab": {
          "base_uri": "https://localhost:8080/",
          "height": 674,
          "referenced_widgets": [
            "d52ca7734a9944af8b46d6b1a2d78594",
            "980ff4425f6d46879e43549c355b88dc",
            "1e0d436f07ca4d8d81853d641b6e06c9",
            "e1debeba9225446992f5cefc2fad2a30",
            "d8914da2353e4602a53517f9a9046381",
            "89a9a52ebbfb4606b2ce1ec7071702fb",
            "a5940504459e461ab97ac852af54dba0"
          ]
        },
        "id": "ytkLiq_7DJT6",
        "outputId": "2d8bcc43-3fe0-475f-fb2a-1f184e5172a1"
      },
      "outputs": [
        {
          "output_type": "display_data",
          "data": {
            "text/plain": [
              "interactive(children=(FloatSlider(value=1.0, description='tau', max=5.0, min=0.1), Output()), _dom_classes=('w…"
            ],
            "application/vnd.jupyter.widget-view+json": {
              "version_major": 2,
              "version_minor": 0,
              "model_id": "d52ca7734a9944af8b46d6b1a2d78594"
            }
          },
          "metadata": {}
        }
      ],
      "source": [
        "#@title Interactive plot for the weight function\n",
        "\n",
        "import plotly.graph_objects as go\n",
        "import ipywidgets as widgets\n",
        "from ipywidgets import interact, interact_manual\n",
        "import numpy as np\n",
        "\n",
        "@interact\n",
        "def f(tau=widgets.FloatSlider(min=0.1, max=5, step=0.1, value=1)):\n",
        "  x = 0\n",
        "  x_i = np.arange(-10, 10, 0.1)\n",
        "  w = np.exp(- (x_i - x)**2/(2*tau**2) )\n",
        "  f = go.Figure(data=go.Line(x=x_i, y=w, mode='lines'))\n",
        "  f.update_layout(yaxis_range=[0,1.2], width=500, height=500, title=r\"$w(x_i) = \\exp(-\\frac{(x_i-x)^2}{2 \\tau^2}), \\ x=0$\", xaxis_title=\"X value\", yaxis_title=\"W value\")\n",
        "  f.show()\n"
      ]
    },
    {
      "cell_type": "markdown",
      "source": [
        "After playing with the weighting function, write your observations in the next cell"
      ],
      "metadata": {
        "id": "-VSuJ6EdqeLQ"
      }
    },
    {
      "cell_type": "code",
      "source": [
        "# Your comments"
      ],
      "metadata": {
        "id": "5cu2nCotqlCE"
      },
      "execution_count": null,
      "outputs": []
    },
    {
      "cell_type": "markdown",
      "source": [
        "# Training Data"
      ],
      "metadata": {
        "id": "KoFvuAIljkqq"
      }
    },
    {
      "cell_type": "code",
      "source": [
        "import matplotlib.pyplot as plt\n",
        "import matplotlib\n",
        "matplotlib.rcParams['figure.figsize'] = (10, 7)\n",
        "matplotlib.rcParams['legend.fontsize'] = 15\n",
        "import numpy as np\n",
        "\n",
        "def generate_data(add_outlier=False):\n",
        "  x = np.arange(-4, 4, 0.03)\n",
        "  # if add_outlier:\n",
        "  #   x = np.concatenate([x, [3, 5, 1]], axis=0)\n",
        "  y =  x**3*np.sin(x)\n",
        "  # y = 2*x\n",
        "  plt.plot(x, y, label=\"Data generating function\", color=\"red\")\n",
        "  x = np.arange(-4, 4, 0.3)\n",
        "  # if add_outlier:\n",
        "  #   x = np.concatenate([x, [3, 5, 1]], axis=0)\n",
        "  y =  x**3*np.sin(x)\n",
        "  noise = np.random.randn(x.shape[0]) * 5\n",
        "  y += noise\n",
        "  if add_outlier:\n",
        "    x = np.concatenate([x, [3, 5, -1, 1, 0]], axis=0)\n",
        "    y = np.concatenate([y, [300, 200, 100, -100, 500]], axis=0)\n",
        "  plt.scatter(x, y, label=\"Data samples\", color=\"blue\")\n",
        "  font = {\"size\":15}\n",
        "  plt.legend()\n",
        "  plt.xlabel(\"x\", fontdict=font)\n",
        "  plt.ylabel(\"y\", fontdict=font)\n",
        "  plt.title(\"Training Data\", fontdict=font)\n",
        "  return x.reshape(-1, 1), y.reshape(-1, 1)\n",
        "  \n",
        "\n",
        "x_train, y_train = generate_data()"
      ],
      "metadata": {
        "colab": {
          "base_uri": "https://localhost:8080/",
          "height": 465
        },
        "id": "R2uMWNpxjm6a",
        "outputId": "692a0765-a622-4184-d2df-490f97af14c7"
      },
      "execution_count": null,
      "outputs": [
        {
          "output_type": "display_data",
          "data": {
            "text/plain": [
              "<Figure size 720x504 with 1 Axes>"
            ],
            "image/png": "[encoded data removed]"
          },
          "metadata": {
            "needs_background": "light"
          }
        }
      ]
    },
    {
      "cell_type": "code",
      "source": [
        "x_train.shape"
      ],
      "metadata": {
        "colab": {
          "base_uri": "https://localhost:8080/"
        },
        "id": "19sD6xb2KviA",
        "outputId": "699c329a-198b-4f5b-8295-892346b4ef7b"
      },
      "execution_count": null,
      "outputs": [
        {
          "output_type": "execute_result",
          "data": {
            "text/plain": [
              "(27, 1)"
            ]
          },
          "metadata": {},
          "execution_count": 4
        }
      ]
    },
    {
      "cell_type": "markdown",
      "source": [
        "# LWR Model\n",
        "\n",
        "\n"
      ],
      "metadata": {
        "id": "NJPgR3dvpEDP"
      }
    },
    {
      "cell_type": "code",
      "source": [],
      "metadata": {
        "id": "xMn9IvGrmD6L"
      },
      "execution_count": null,
      "outputs": []
    },
    {
      "cell_type": "code",
      "source": [
        "from os import XATTR_CREATE\n",
        "class LWR:\n",
        "  def __init__(self, lr, tau):\n",
        "    # lr: learning rate\n",
        "    # epochs: training\n",
        "    # tau: bandwidth parameter\n",
        "    self.lr = lr\n",
        "    self.theta = None\n",
        "    self.tau = tau\n",
        "\n",
        "\n",
        "  def add_ones(self, x):\n",
        "    # add ones to the front of each feature vector to account for the bias term \n",
        "    # save the value in x_with_ones, for the tutorial dataset the shape should be (batch_size, 2)\n",
        "    one = np.ones((x.shape[0], 1))\n",
        "    # print(one.shape, x.shape)\n",
        "    x_with_ones = np.hstack((one, x))\n",
        "    ##### write your code here #####\n",
        "\n",
        "    ##### End of your code #####\n",
        "    return x_with_ones\n",
        "\n",
        "  \n",
        "  def _weighting_function(self, x_pred):\n",
        "    # Implement the weighting function w(x_i) as described above and store the value in w_matrix\n",
        "    # w_matrix is diagonal matrix with shape (batch_size, batch_size)\n",
        "    # x_pred: prediction point\n",
        "    #w_matrix = None\n",
        "    w_func= np.exp(-((np.linalg.norm((x_train - x_pred), axis = 1)**2)/2*self.tau**2)) # The shape of w should be ...\n",
        "    w_matrix = np.diag(w_func)\n",
        "    ##### write your code here #####\n",
        "\n",
        "    ##### End of your code #####\n",
        "    # Hint: to construct a digonal matrix use np.diag\n",
        "    return w_matrix\n",
        "\n",
        "\n",
        "  def fit(self,x_train, y_train):\n",
        "    # Save the traing examples as class attributes\n",
        "    # Method parameters:\n",
        "    # x_train: The input features\n",
        "    # y_train: The output targets\n",
        "    ##### write your code here #####\n",
        "    self.x_train = x_train\n",
        "    self.y_train = y_train\n",
        "\n",
        "    ##### End of your code #####\n",
        "    return None\n",
        "\n",
        "\n",
        "  def predict(self, x_pred):\n",
        "    # Predict the output given x_pred\n",
        "    # add ones to the training and predicton points\n",
        "    # Compute the weights matrix\n",
        "    # compute the model parameters with the normal equations described above\n",
        "    # return y_pred\n",
        "\n",
        "    x_train_one = self.add_ones(self.x_train)\n",
        "    x_pred_one = self.add_ones(x_pred)\n",
        "    w_matrix = self._weighting_function(x_pred_one)\n",
        "    # print(x_train_one.shape, w_matrix.shape, y_train.shape)\n",
        "    self.theta = np.linalg.inv(x_train_one.T@w_matrix@x_train_one)@x_train_one.T@w_matrix@self.y_train\n",
        "    # print(self.theta.shape, x_pred_one.shape)\n",
        "    #print(x_pred_one.T.shape)\n",
        "    y_pred = self.theta.T @ x_pred_one.T\n",
        "    ##### write your code here #####\n",
        "    \n",
        "    \n",
        "    ##### End of your code #####\n",
        "    return y_pred"
      ],
      "metadata": {
        "id": "FqzuMhkE4aq9"
      },
      "execution_count": null,
      "outputs": []
    },
    {
      "cell_type": "code",
      "source": [
        "x_pred = np.arange(-4, 4, 0.03)\n",
        "model=LWR(x_pred, tau=0.5)\n",
        "model._weighting_function( x_pred)"
      ],
      "metadata": {
        "colab": {
          "base_uri": "https://localhost:8080/"
        },
        "id": "7yDyv_qH6yXV",
        "outputId": "beff4d5e-c536-4adc-faff-38cd9e91f987"
      },
      "execution_count": null,
      "outputs": [
        {
          "output_type": "execute_result",
          "data": {
            "text/plain": [
              "array([[5.59952199e-309, 0.00000000e+000, 0.00000000e+000,\n",
              "        0.00000000e+000, 0.00000000e+000, 0.00000000e+000,\n",
              "        0.00000000e+000, 0.00000000e+000, 0.00000000e+000,\n",
              "        0.00000000e+000, 0.00000000e+000, 0.00000000e+000,\n",
              "        0.00000000e+000, 0.00000000e+000, 0.00000000e+000,\n",
              "        0.00000000e+000, 0.00000000e+000, 0.00000000e+000,\n",
              "        0.00000000e+000, 0.00000000e+000, 0.00000000e+000,\n",
              "        0.00000000e+000, 0.00000000e+000, 0.00000000e+000,\n",
              "        0.00000000e+000, 0.00000000e+000, 0.00000000e+000],\n",
              "       [0.00000000e+000, 1.39206475e-275, 0.00000000e+000,\n",
              "        0.00000000e+000, 0.00000000e+000, 0.00000000e+000,\n",
              "        0.00000000e+000, 0.00000000e+000, 0.00000000e+000,\n",
              "        0.00000000e+000, 0.00000000e+000, 0.00000000e+000,\n",
              "        0.00000000e+000, 0.00000000e+000, 0.00000000e+000,\n",
              "        0.00000000e+000, 0.00000000e+000, 0.00000000e+000,\n",
              "        0.00000000e+000, 0.00000000e+000, 0.00000000e+000,\n",
              "        0.00000000e+000, 0.00000000e+000, 0.00000000e+000,\n",
              "        0.00000000e+000, 0.00000000e+000, 0.00000000e+000],\n",
              "       [0.00000000e+000, 0.00000000e+000, 8.51419937e-245,\n",
              "        0.00000000e+000, 0.00000000e+000, 0.00000000e+000,\n",
              "        0.00000000e+000, 0.00000000e+000, 0.00000000e+000,\n",
              "        0.00000000e+000, 0.00000000e+000, 0.00000000e+000,\n",
              "        0.00000000e+000, 0.00000000e+000, 0.00000000e+000,\n",
              "        0.00000000e+000, 0.00000000e+000, 0.00000000e+000,\n",
              "        0.00000000e+000, 0.00000000e+000, 0.00000000e+000,\n",
              "        0.00000000e+000, 0.00000000e+000, 0.00000000e+000,\n",
              "        0.00000000e+000, 0.00000000e+000, 0.00000000e+000],\n",
              "       [0.00000000e+000, 0.00000000e+000, 0.00000000e+000,\n",
              "        1.28116214e-216, 0.00000000e+000, 0.00000000e+000,\n",
              "        0.00000000e+000, 0.00000000e+000, 0.00000000e+000,\n",
              "        0.00000000e+000, 0.00000000e+000, 0.00000000e+000,\n",
              "        0.00000000e+000, 0.00000000e+000, 0.00000000e+000,\n",
              "        0.00000000e+000, 0.00000000e+000, 0.00000000e+000,\n",
              "        0.00000000e+000, 0.00000000e+000, 0.00000000e+000,\n",
              "        0.00000000e+000, 0.00000000e+000, 0.00000000e+000,\n",
              "        0.00000000e+000, 0.00000000e+000, 0.00000000e+000],\n",
              "       [0.00000000e+000, 0.00000000e+000, 0.00000000e+000,\n",
              "        0.00000000e+000, 4.74285968e-191, 0.00000000e+000,\n",
              "        0.00000000e+000, 0.00000000e+000, 0.00000000e+000,\n",
              "        0.00000000e+000, 0.00000000e+000, 0.00000000e+000,\n",
              "        0.00000000e+000, 0.00000000e+000, 0.00000000e+000,\n",
              "        0.00000000e+000, 0.00000000e+000, 0.00000000e+000,\n",
              "        0.00000000e+000, 0.00000000e+000, 0.00000000e+000,\n",
              "        0.00000000e+000, 0.00000000e+000, 0.00000000e+000,\n",
              "        0.00000000e+000, 0.00000000e+000, 0.00000000e+000],\n",
              "       [0.00000000e+000, 0.00000000e+000, 0.00000000e+000,\n",
              "        0.00000000e+000, 0.00000000e+000, 4.31968776e-168,\n",
              "        0.00000000e+000, 0.00000000e+000, 0.00000000e+000,\n",
              "        0.00000000e+000, 0.00000000e+000, 0.00000000e+000,\n",
              "        0.00000000e+000, 0.00000000e+000, 0.00000000e+000,\n",
              "        0.00000000e+000, 0.00000000e+000, 0.00000000e+000,\n",
              "        0.00000000e+000, 0.00000000e+000, 0.00000000e+000,\n",
              "        0.00000000e+000, 0.00000000e+000, 0.00000000e+000,\n",
              "        0.00000000e+000, 0.00000000e+000, 0.00000000e+000],\n",
              "       [0.00000000e+000, 0.00000000e+000, 0.00000000e+000,\n",
              "        0.00000000e+000, 0.00000000e+000, 0.00000000e+000,\n",
              "        9.67921945e-148, 0.00000000e+000, 0.00000000e+000,\n",
              "        0.00000000e+000, 0.00000000e+000, 0.00000000e+000,\n",
              "        0.00000000e+000, 0.00000000e+000, 0.00000000e+000,\n",
              "        0.00000000e+000, 0.00000000e+000, 0.00000000e+000,\n",
              "        0.00000000e+000, 0.00000000e+000, 0.00000000e+000,\n",
              "        0.00000000e+000, 0.00000000e+000, 0.00000000e+000,\n",
              "        0.00000000e+000, 0.00000000e+000, 0.00000000e+000],\n",
              "       [0.00000000e+000, 0.00000000e+000, 0.00000000e+000,\n",
              "        0.00000000e+000, 0.00000000e+000, 0.00000000e+000,\n",
              "        0.00000000e+000, 5.33585743e-130, 0.00000000e+000,\n",
              "        0.00000000e+000, 0.00000000e+000, 0.00000000e+000,\n",
              "        0.00000000e+000, 0.00000000e+000, 0.00000000e+000,\n",
              "        0.00000000e+000, 0.00000000e+000, 0.00000000e+000,\n",
              "        0.00000000e+000, 0.00000000e+000, 0.00000000e+000,\n",
              "        0.00000000e+000, 0.00000000e+000, 0.00000000e+000,\n",
              "        0.00000000e+000, 0.00000000e+000, 0.00000000e+000],\n",
              "       [0.00000000e+000, 0.00000000e+000, 0.00000000e+000,\n",
              "        0.00000000e+000, 0.00000000e+000, 0.00000000e+000,\n",
              "        0.00000000e+000, 0.00000000e+000, 7.23675712e-115,\n",
              "        0.00000000e+000, 0.00000000e+000, 0.00000000e+000,\n",
              "        0.00000000e+000, 0.00000000e+000, 0.00000000e+000,\n",
              "        0.00000000e+000, 0.00000000e+000, 0.00000000e+000,\n",
              "        0.00000000e+000, 0.00000000e+000, 0.00000000e+000,\n",
              "        0.00000000e+000, 0.00000000e+000, 0.00000000e+000,\n",
              "        0.00000000e+000, 0.00000000e+000, 0.00000000e+000],\n",
              "       [0.00000000e+000, 0.00000000e+000, 0.00000000e+000,\n",
              "        0.00000000e+000, 0.00000000e+000, 0.00000000e+000,\n",
              "        0.00000000e+000, 0.00000000e+000, 0.00000000e+000,\n",
              "        2.41468051e-102, 0.00000000e+000, 0.00000000e+000,\n",
              "        0.00000000e+000, 0.00000000e+000, 0.00000000e+000,\n",
              "        0.00000000e+000, 0.00000000e+000, 0.00000000e+000,\n",
              "        0.00000000e+000, 0.00000000e+000, 0.00000000e+000,\n",
              "        0.00000000e+000, 0.00000000e+000, 0.00000000e+000,\n",
              "        0.00000000e+000, 0.00000000e+000, 0.00000000e+000],\n",
              "       [0.00000000e+000, 0.00000000e+000, 0.00000000e+000,\n",
              "        0.00000000e+000, 0.00000000e+000, 0.00000000e+000,\n",
              "        0.00000000e+000, 0.00000000e+000, 0.00000000e+000,\n",
              "        0.00000000e+000, 1.98221728e-092, 0.00000000e+000,\n",
              "        0.00000000e+000, 0.00000000e+000, 0.00000000e+000,\n",
              "        0.00000000e+000, 0.00000000e+000, 0.00000000e+000,\n",
              "        0.00000000e+000, 0.00000000e+000, 0.00000000e+000,\n",
              "        0.00000000e+000, 0.00000000e+000, 0.00000000e+000,\n",
              "        0.00000000e+000, 0.00000000e+000, 0.00000000e+000],\n",
              "       [0.00000000e+000, 0.00000000e+000, 0.00000000e+000,\n",
              "        0.00000000e+000, 0.00000000e+000, 0.00000000e+000,\n",
              "        0.00000000e+000, 0.00000000e+000, 0.00000000e+000,\n",
              "        0.00000000e+000, 0.00000000e+000, 4.00330554e-085,\n",
              "        0.00000000e+000, 0.00000000e+000, 0.00000000e+000,\n",
              "        0.00000000e+000, 0.00000000e+000, 0.00000000e+000,\n",
              "        0.00000000e+000, 0.00000000e+000, 0.00000000e+000,\n",
              "        0.00000000e+000, 0.00000000e+000, 0.00000000e+000,\n",
              "        0.00000000e+000, 0.00000000e+000, 0.00000000e+000],\n",
              "       [0.00000000e+000, 0.00000000e+000, 0.00000000e+000,\n",
              "        0.00000000e+000, 0.00000000e+000, 0.00000000e+000,\n",
              "        0.00000000e+000, 0.00000000e+000, 0.00000000e+000,\n",
              "        0.00000000e+000, 0.00000000e+000, 0.00000000e+000,\n",
              "        1.98912519e-080, 0.00000000e+000, 0.00000000e+000,\n",
              "        0.00000000e+000, 0.00000000e+000, 0.00000000e+000,\n",
              "        0.00000000e+000, 0.00000000e+000, 0.00000000e+000,\n",
              "        0.00000000e+000, 0.00000000e+000, 0.00000000e+000,\n",
              "        0.00000000e+000, 0.00000000e+000, 0.00000000e+000],\n",
              "       [0.00000000e+000, 0.00000000e+000, 0.00000000e+000,\n",
              "        0.00000000e+000, 0.00000000e+000, 0.00000000e+000,\n",
              "        0.00000000e+000, 0.00000000e+000, 0.00000000e+000,\n",
              "        0.00000000e+000, 0.00000000e+000, 0.00000000e+000,\n",
              "        0.00000000e+000, 2.43153988e-078, 0.00000000e+000,\n",
              "        0.00000000e+000, 0.00000000e+000, 0.00000000e+000,\n",
              "        0.00000000e+000, 0.00000000e+000, 0.00000000e+000,\n",
              "        0.00000000e+000, 0.00000000e+000, 0.00000000e+000,\n",
              "        0.00000000e+000, 0.00000000e+000, 0.00000000e+000],\n",
              "       [0.00000000e+000, 0.00000000e+000, 0.00000000e+000,\n",
              "        0.00000000e+000, 0.00000000e+000, 0.00000000e+000,\n",
              "        0.00000000e+000, 0.00000000e+000, 0.00000000e+000,\n",
              "        0.00000000e+000, 0.00000000e+000, 0.00000000e+000,\n",
              "        0.00000000e+000, 0.00000000e+000, 7.31268014e-079,\n",
              "        0.00000000e+000, 0.00000000e+000, 0.00000000e+000,\n",
              "        0.00000000e+000, 0.00000000e+000, 0.00000000e+000,\n",
              "        0.00000000e+000, 0.00000000e+000, 0.00000000e+000,\n",
              "        0.00000000e+000, 0.00000000e+000, 0.00000000e+000],\n",
              "       [0.00000000e+000, 0.00000000e+000, 0.00000000e+000,\n",
              "        0.00000000e+000, 0.00000000e+000, 0.00000000e+000,\n",
              "        0.00000000e+000, 0.00000000e+000, 0.00000000e+000,\n",
              "        0.00000000e+000, 0.00000000e+000, 0.00000000e+000,\n",
              "        0.00000000e+000, 0.00000000e+000, 0.00000000e+000,\n",
              "        5.41062777e-082, 0.00000000e+000, 0.00000000e+000,\n",
              "        0.00000000e+000, 0.00000000e+000, 0.00000000e+000,\n",
              "        0.00000000e+000, 0.00000000e+000, 0.00000000e+000,\n",
              "        0.00000000e+000, 0.00000000e+000, 0.00000000e+000],\n",
              "       [0.00000000e+000, 0.00000000e+000, 0.00000000e+000,\n",
              "        0.00000000e+000, 0.00000000e+000, 0.00000000e+000,\n",
              "        0.00000000e+000, 0.00000000e+000, 0.00000000e+000,\n",
              "        0.00000000e+000, 0.00000000e+000, 0.00000000e+000,\n",
              "        0.00000000e+000, 0.00000000e+000, 0.00000000e+000,\n",
              "        0.00000000e+000, 9.84905669e-088, 0.00000000e+000,\n",
              "        0.00000000e+000, 0.00000000e+000, 0.00000000e+000,\n",
              "        0.00000000e+000, 0.00000000e+000, 0.00000000e+000,\n",
              "        0.00000000e+000, 0.00000000e+000, 0.00000000e+000],\n",
              "       [0.00000000e+000, 0.00000000e+000, 0.00000000e+000,\n",
              "        0.00000000e+000, 0.00000000e+000, 0.00000000e+000,\n",
              "        0.00000000e+000, 0.00000000e+000, 0.00000000e+000,\n",
              "        0.00000000e+000, 0.00000000e+000, 0.00000000e+000,\n",
              "        0.00000000e+000, 0.00000000e+000, 0.00000000e+000,\n",
              "        0.00000000e+000, 0.00000000e+000, 4.41080154e-096,\n",
              "        0.00000000e+000, 0.00000000e+000, 0.00000000e+000,\n",
              "        0.00000000e+000, 0.00000000e+000, 0.00000000e+000,\n",
              "        0.00000000e+000, 0.00000000e+000, 0.00000000e+000],\n",
              "       [0.00000000e+000, 0.00000000e+000, 0.00000000e+000,\n",
              "        0.00000000e+000, 0.00000000e+000, 0.00000000e+000,\n",
              "        0.00000000e+000, 0.00000000e+000, 0.00000000e+000,\n",
              "        0.00000000e+000, 0.00000000e+000, 0.00000000e+000,\n",
              "        0.00000000e+000, 0.00000000e+000, 0.00000000e+000,\n",
              "        0.00000000e+000, 0.00000000e+000, 0.00000000e+000,\n",
              "        4.85977651e-107, 0.00000000e+000, 0.00000000e+000,\n",
              "        0.00000000e+000, 0.00000000e+000, 0.00000000e+000,\n",
              "        0.00000000e+000, 0.00000000e+000, 0.00000000e+000],\n",
              "       [0.00000000e+000, 0.00000000e+000, 0.00000000e+000,\n",
              "        0.00000000e+000, 0.00000000e+000, 0.00000000e+000,\n",
              "        0.00000000e+000, 0.00000000e+000, 0.00000000e+000,\n",
              "        0.00000000e+000, 0.00000000e+000, 0.00000000e+000,\n",
              "        0.00000000e+000, 0.00000000e+000, 0.00000000e+000,\n",
              "        0.00000000e+000, 0.00000000e+000, 0.00000000e+000,\n",
              "        0.00000000e+000, 1.31731906e-120, 0.00000000e+000,\n",
              "        0.00000000e+000, 0.00000000e+000, 0.00000000e+000,\n",
              "        0.00000000e+000, 0.00000000e+000, 0.00000000e+000],\n",
              "       [0.00000000e+000, 0.00000000e+000, 0.00000000e+000,\n",
              "        0.00000000e+000, 0.00000000e+000, 0.00000000e+000,\n",
              "        0.00000000e+000, 0.00000000e+000, 0.00000000e+000,\n",
              "        0.00000000e+000, 0.00000000e+000, 0.00000000e+000,\n",
              "        0.00000000e+000, 0.00000000e+000, 0.00000000e+000,\n",
              "        0.00000000e+000, 0.00000000e+000, 0.00000000e+000,\n",
              "        0.00000000e+000, 0.00000000e+000, 8.78499577e-137,\n",
              "        0.00000000e+000, 0.00000000e+000, 0.00000000e+000,\n",
              "        0.00000000e+000, 0.00000000e+000, 0.00000000e+000],\n",
              "       [0.00000000e+000, 0.00000000e+000, 0.00000000e+000,\n",
              "        0.00000000e+000, 0.00000000e+000, 0.00000000e+000,\n",
              "        0.00000000e+000, 0.00000000e+000, 0.00000000e+000,\n",
              "        0.00000000e+000, 0.00000000e+000, 0.00000000e+000,\n",
              "        0.00000000e+000, 0.00000000e+000, 0.00000000e+000,\n",
              "        0.00000000e+000, 0.00000000e+000, 0.00000000e+000,\n",
              "        0.00000000e+000, 0.00000000e+000, 0.00000000e+000,\n",
              "        1.44134530e-155, 0.00000000e+000, 0.00000000e+000,\n",
              "        0.00000000e+000, 0.00000000e+000, 0.00000000e+000],\n",
              "       [0.00000000e+000, 0.00000000e+000, 0.00000000e+000,\n",
              "        0.00000000e+000, 0.00000000e+000, 0.00000000e+000,\n",
              "        0.00000000e+000, 0.00000000e+000, 0.00000000e+000,\n",
              "        0.00000000e+000, 0.00000000e+000, 0.00000000e+000,\n",
              "        0.00000000e+000, 0.00000000e+000, 0.00000000e+000,\n",
              "        0.00000000e+000, 0.00000000e+000, 0.00000000e+000,\n",
              "        0.00000000e+000, 0.00000000e+000, 0.00000000e+000,\n",
              "        0.00000000e+000, 5.81795578e-177, 0.00000000e+000,\n",
              "        0.00000000e+000, 0.00000000e+000, 0.00000000e+000],\n",
              "       [0.00000000e+000, 0.00000000e+000, 0.00000000e+000,\n",
              "        0.00000000e+000, 0.00000000e+000, 0.00000000e+000,\n",
              "        0.00000000e+000, 0.00000000e+000, 0.00000000e+000,\n",
              "        0.00000000e+000, 0.00000000e+000, 0.00000000e+000,\n",
              "        0.00000000e+000, 0.00000000e+000, 0.00000000e+000,\n",
              "        0.00000000e+000, 0.00000000e+000, 0.00000000e+000,\n",
              "        0.00000000e+000, 0.00000000e+000, 0.00000000e+000,\n",
              "        0.00000000e+000, 0.00000000e+000, 5.77761629e-201,\n",
              "        0.00000000e+000, 0.00000000e+000, 0.00000000e+000],\n",
              "       [0.00000000e+000, 0.00000000e+000, 0.00000000e+000,\n",
              "        0.00000000e+000, 0.00000000e+000, 0.00000000e+000,\n",
              "        0.00000000e+000, 0.00000000e+000, 0.00000000e+000,\n",
              "        0.00000000e+000, 0.00000000e+000, 0.00000000e+000,\n",
              "        0.00000000e+000, 0.00000000e+000, 0.00000000e+000,\n",
              "        0.00000000e+000, 0.00000000e+000, 0.00000000e+000,\n",
              "        0.00000000e+000, 0.00000000e+000, 0.00000000e+000,\n",
              "        0.00000000e+000, 0.00000000e+000, 0.00000000e+000,\n",
              "        1.41157148e-227, 0.00000000e+000, 0.00000000e+000],\n",
              "       [0.00000000e+000, 0.00000000e+000, 0.00000000e+000,\n",
              "        0.00000000e+000, 0.00000000e+000, 0.00000000e+000,\n",
              "        0.00000000e+000, 0.00000000e+000, 0.00000000e+000,\n",
              "        0.00000000e+000, 0.00000000e+000, 0.00000000e+000,\n",
              "        0.00000000e+000, 0.00000000e+000, 0.00000000e+000,\n",
              "        0.00000000e+000, 0.00000000e+000, 0.00000000e+000,\n",
              "        0.00000000e+000, 0.00000000e+000, 0.00000000e+000,\n",
              "        0.00000000e+000, 0.00000000e+000, 0.00000000e+000,\n",
              "        0.00000000e+000, 8.48463092e-257, 0.00000000e+000],\n",
              "       [0.00000000e+000, 0.00000000e+000, 0.00000000e+000,\n",
              "        0.00000000e+000, 0.00000000e+000, 0.00000000e+000,\n",
              "        0.00000000e+000, 0.00000000e+000, 0.00000000e+000,\n",
              "        0.00000000e+000, 0.00000000e+000, 0.00000000e+000,\n",
              "        0.00000000e+000, 0.00000000e+000, 0.00000000e+000,\n",
              "        0.00000000e+000, 0.00000000e+000, 0.00000000e+000,\n",
              "        0.00000000e+000, 0.00000000e+000, 0.00000000e+000,\n",
              "        0.00000000e+000, 0.00000000e+000, 0.00000000e+000,\n",
              "        0.00000000e+000, 0.00000000e+000, 1.25469722e-288]])"
            ]
          },
          "metadata": {},
          "execution_count": 6
        }
      ]
    },
    {
      "cell_type": "code",
      "source": [
        "# Now train the locally weighted regression model that you coded\n",
        "# Define the model\n",
        "# use the fit function to save the x and y training data\n",
        "# use the prediction function to compute predictions\n",
        "# use a foor loop for predicting each value in x_pred, save it y_preds\n",
        "x_pred = np.arange(-4, 4, 0.03)\n",
        "y_preds = []\n",
        "##### write your code here #####\n",
        "model = LWR(lr=0.01,tau=1)\n",
        "model.fit(x_train,y_train)\n",
        "\n",
        "# for loop\n",
        "for x in x_pred:\n",
        "   y_pred = model.predict(x.reshape(-1,1))\n",
        "   y_preds.append(y_pred[0,0])\n",
        "  # predict(self, x_pred)\n",
        "##### End of your code #####\n",
        "# Optional Challange: can you predict the value without for loop?"
      ],
      "metadata": {
        "id": "VkfHg08WsKyf"
      },
      "execution_count": null,
      "outputs": []
    },
    {
      "cell_type": "markdown",
      "source": [
        "Plot the prediction output"
      ],
      "metadata": {
        "id": "8xXTRhLcs5gp"
      }
    },
    {
      "cell_type": "code",
      "source": [
        "def plot(x_train, y_train, x_pred, y_pred):\n",
        "  plt.figure()\n",
        "  plt.plot(x_train, y_train, 'bx', label='label')\n",
        "  plt.plot(x_pred, y_pred, 'ro', label='prediction')\n",
        "  plt.suptitle(\"Training Set\", fontsize=12)\n",
        "  plt.legend(loc='upper left')"
      ],
      "metadata": {
        "id": "-i9E3n2Bs4Gd"
      },
      "execution_count": null,
      "outputs": []
    },
    {
      "cell_type": "code",
      "source": [
        "# Use the plot function \n",
        "plot(x_train, y_train, x_pred, y_preds)"
      ],
      "metadata": {
        "id": "x9MA96n3tleb",
        "colab": {
          "base_uri": "https://localhost:8080/",
          "height": 479
        },
        "outputId": "e0663802-2016-4aba-e8f3-78a98206a9f5"
      },
      "execution_count": null,
      "outputs": [
        {
          "output_type": "display_data",
          "data": {
            "text/plain": [
              "<Figure size 720x504 with 1 Axes>"
            ],
            "image/png": "[encoded data removed]"
          },
          "metadata": {
            "needs_background": "light"
          }
        }
      ]
    },
    {
      "cell_type": "code",
      "source": [
        "# How tau affect the solution?\n",
        "# Try different values of tau and observe the effect on the prediction by plotting them as above\n",
        "# Write on observations as comment in the next cell"
      ],
      "metadata": {
        "id": "O-o4v8livbwk"
      },
      "execution_count": null,
      "outputs": []
    },
    {
      "cell_type": "code",
      "source": [
        "# Your comments"
      ],
      "metadata": {
        "id": "Xq6Zjg_zFs7N"
      },
      "execution_count": null,
      "outputs": []
    },
    {
      "cell_type": "markdown",
      "source": [
        "# Robustness to outliers \n",
        "\n",
        "Locally weighting regression is better in handling outlier beucase the weighting function will give it a small weights"
      ],
      "metadata": {
        "id": "Kb4lyIA8t5Iu"
      }
    },
    {
      "cell_type": "code",
      "source": [
        "# Generate dataset with \n",
        "x_train, y_train = generate_data(add_outlier=True)"
      ],
      "metadata": {
        "colab": {
          "base_uri": "https://localhost:8080/",
          "height": 465
        },
        "id": "45kWOHH4t-aZ",
        "outputId": "603dcacb-381f-45ae-f6c5-b2395ca14fdf"
      },
      "execution_count": null,
      "outputs": [
        {
          "output_type": "display_data",
          "data": {
            "text/plain": [
              "<Figure size 720x504 with 1 Axes>"
            ],
            "image/png": "[encoded data removed]"
          },
          "metadata": {
            "needs_background": "light"
          }
        }
      ]
    },
    {
      "cell_type": "code",
      "source": [
        "# train LWR on the new data and save the prediction values\n",
        "lwr_preds = LWR(lr=0.01, tau=1)\n",
        "##### write your code here #####\n",
        "\n",
        "##### End of your code #####"
      ],
      "metadata": {
        "id": "aXcqrUIevkWE"
      },
      "execution_count": null,
      "outputs": []
    },
    {
      "cell_type": "code",
      "source": [
        "# train LWR on the new data and save the prediction values\n",
        "lwr_preds = LWR(0.01, 5)\n",
        "x_pred = np.arange(-4, 4, 0.03)\n",
        "y_preds = []\n",
        "##### write your code here #####\n",
        "\n",
        "lwr_preds.fit(x_train,y_train)\n",
        "\n",
        "# for loop\n",
        "for x in x_pred:\n",
        "  pred = lwr_preds.predict(x.reshape(-1,1))\n",
        "  y_preds.append(pred[0,0])\n",
        "y_preds\n",
        "##### End of your code #####"
      ],
      "metadata": {
        "colab": {
          "base_uri": "https://localhost:8080/"
        },
        "id": "9vPu_sXD_wPO",
        "outputId": "64eff15c-c55c-4b81-eb51-a0f6c316aaa5"
      },
      "execution_count": 23,
      "outputs": [
        {
          "output_type": "execute_result",
          "data": {
            "text/plain": [
              "[25.577183333722843,\n",
              " 20.62838196306803,\n",
              " 14.979597509552192,\n",
              " 8.175797578102234,\n",
              " -0.3284354002565051,\n",
              " -11.184391110037888,\n",
              " -25.139798399712078,\n",
              " -42.97663755403869,\n",
              " -65.36429347383671,\n",
              " -92.6131460581881,\n",
              " -124.37164810430534,\n",
              " -159.4026563067177,\n",
              " -195.6297917586092,\n",
              " -230.55104318022046,\n",
              " -261.8762630397358,\n",
              " -288.064005578982,\n",
              " -308.5099629909171,\n",
              " -323.39088710774627,\n",
              " -333.34453317230555,\n",
              " -339.1637797212881,\n",
              " -341.5873226990146,\n",
              " -341.1870918256202,\n",
              " -338.3181399136472,\n",
              " -333.0954618062058,\n",
              " -325.37299935512476,\n",
              " -314.71234233835867,\n",
              " -300.34121374553337,\n",
              " -281.1188745658185,\n",
              " -255.55280762098334,\n",
              " -221.94905520665964,\n",
              " -178.8069260260805,\n",
              " -125.52357135498741,\n",
              " -63.263467664089816,\n",
              " 4.504091167289872,\n",
              " 72.44099420251496,\n",
              " 134.86575007681225,\n",
              " 187.5457373818211,\n",
              " 228.6521285537695,\n",
              " 258.5349633956099,\n",
              " 278.83637829995706,\n",
              " 291.6092539033973,\n",
              " 298.76156584741364,\n",
              " 301.8224322725573,\n",
              " 301.9063558976364,\n",
              " 299.76377497083627,\n",
              " 295.8520499298785,\n",
              " 290.3981149097614,\n",
              " 283.4455621300244,\n",
              " 274.8902135236379,\n",
              " 264.5150442993769,\n",
              " 252.04049061259306,\n",
              " 237.20818773425458,\n",
              " 219.90813523310172,\n",
              " 200.33174417615766,\n",
              " 179.0879884458488,\n",
              " 157.19011588514675,\n",
              " 135.8606744365012,\n",
              " 116.21810367690438,\n",
              " 99.00245525006127,\n",
              " 84.4676814936082,\n",
              " 72.44471164817584,\n",
              " 62.4865749388571,\n",
              " 54.002860305745905,\n",
              " 46.33699117692009,\n",
              " 38.78172422811196,\n",
              " 30.547521075492845,\n",
              " 20.70357942783908,\n",
              " 8.116390835663541,\n",
              " -8.574786989618747,\n",
              " -30.882095903448523,\n",
              " -60.21530025688595,\n",
              " -97.41762341389307,\n",
              " -142.21406455568848,\n",
              " -192.90375734813435,\n",
              " -246.64602439172728,\n",
              " -300.3254037979752,\n",
              " -351.5108175214185,\n",
              " -398.9782682454843,\n",
              " -442.6706961758499,\n",
              " -483.3367026782196,\n",
              " -522.1369586676715,\n",
              " -560.362182904349,\n",
              " -599.2714340332079,\n",
              " -640.0002781118593,\n",
              " -683.4804095244583,\n",
              " -730.3212849354152,\n",
              " -780.6146444348478,\n",
              " -833.6350152214351,\n",
              " -887.434098570817,\n",
              " -938.3809129857693,\n",
              " -980.7964232377493,\n",
              " -1006.9582268979943,\n",
              " -1007.8291775056678,\n",
              " -974.7364599127748,\n",
              " -901.7661621819491,\n",
              " -787.9939618878534,\n",
              " -638.3856950237996,\n",
              " -462.752797846982,\n",
              " -273.25547524833354,\n",
              " -81.68629684542134,\n",
              " 102.40526824513597,\n",
              " 272.41130166490404,\n",
              " 424.4557584512903,\n",
              " 556.7396374277356,\n",
              " 668.8061016977648,\n",
              " 760.915771199267,\n",
              " 833.5916368274547,\n",
              " 887.3296767063381,\n",
              " 922.4559711615682,\n",
              " 939.1188730328125,\n",
              " 937.4153683973464,\n",
              " 917.6474002641819,\n",
              " 880.6733435807905,\n",
              " 828.2614560854762,\n",
              " 763.2940494932182,\n",
              " 689.670986411036,\n",
              " 611.8643434832169,\n",
              " 534.249147126776,\n",
              " 460.4598377856388,\n",
              " 392.998754873894,\n",
              " 333.1753617785578,\n",
              " 281.3016207801458,\n",
              " 237.00156554209764,\n",
              " 199.51381602038578,\n",
              " 167.92379489542276,\n",
              " 141.3131921099021,\n",
              " 118.84179174605741,\n",
              " 99.78481482655485,\n",
              " 83.5463852092227,\n",
              " 69.6630553998663,\n",
              " 57.80315023795033,\n",
              " 47.75877050622639,\n",
              " 39.42034585950652,\n",
              " 32.72592356451287,\n",
              " 27.594831376591856,\n",
              " 23.87692509888322,\n",
              " 21.347171850642596,\n",
              " 19.743913487254883,\n",
              " 18.82009863521899,\n",
              " 18.378299018939114,\n",
              " 18.28128576524867,\n",
              " 18.44555478159385,\n",
              " 18.82783562684224,\n",
              " 19.410541501691302,\n",
              " 20.1877465530748,\n",
              " 21.150862507549746,\n",
              " 22.272689588994012,\n",
              " 23.489589757257704,\n",
              " 24.68403847277761,\n",
              " 25.673321339662245,\n",
              " 26.213007674571017,\n",
              " 26.022903362936887,\n",
              " 24.835671520379677,\n",
              " 22.45584121332645,\n",
              " 18.807546852785322,\n",
              " 13.951984865398344,\n",
              " 8.070260690681806,\n",
              " 1.4234422177113402,\n",
              " -5.691654141541733,\n",
              " -12.976652669694843,\n",
              " -20.15036604322225,\n",
              " -26.95381559368539,\n",
              " -33.14643108709889,\n",
              " -38.498654463084186,\n",
              " -42.78547292705019,\n",
              " -45.78493612390231,\n",
              " -47.28580307202346,\n",
              " -47.10856103727351,\n",
              " -45.14264118649885,\n",
              " -41.39741801143958,\n",
              " -36.05398652257176,\n",
              " -29.49182842136628,\n",
              " -22.26037814004175,\n",
              " -14.98383220184968,\n",
              " -8.226412525266824,\n",
              " -2.376206584668722,\n",
              " 2.4025044164255576,\n",
              " 6.140968050449146,\n",
              " 8.993347568385133,\n",
              " 11.160214186082811,\n",
              " 12.833074439287287,\n",
              " 14.165299711607076,\n",
              " 15.263402483529688,\n",
              " 16.189858084000008,\n",
              " 16.970444044157546,\n",
              " 17.601886606177118,\n",
              " 18.057945822317237,\n",
              " 18.2937386612781,\n",
              " 18.249426801004816,\n",
              " 17.855723713683872,\n",
              " 17.044876945101564,\n",
              " 15.770619901630823,\n",
              " 14.036493411031728,\n",
              " 11.922318802886949,\n",
              " 9.588907956215557,\n",
              " 7.245634557756347,\n",
              " 5.09072034600948,\n",
              " 3.258287225880851,\n",
              " 1.8004559648326648,\n",
              " 0.7039293720448034,\n",
              " -0.07916116877502999,\n",
              " -0.6042496518963809,\n",
              " -0.917767014800245,\n",
              " -1.0494313308291088,\n",
              " -1.0094300198518356,\n",
              " -0.7872872165961499,\n",
              " -0.3507819653981077,\n",
              " 0.3551392468852317,\n",
              " 1.4078485724003844,\n",
              " 2.901425470445526,\n",
              " 4.930999575951542,\n",
              " 7.5634052520054205,\n",
              " 10.797981045054215,\n",
              " 14.534718696559963,\n",
              " 18.575239799261766,\n",
              " 22.668650584070214,\n",
              " 26.582013692600533,\n",
              " 30.15563949762604,\n",
              " 33.318499626093484,\n",
              " 36.06953542799657,\n",
              " 38.446020168760825,\n",
              " 40.49563292325509,\n",
              " 42.258038875993634,\n",
              " 43.75461388284397,\n",
              " 44.98279836106062,\n",
              " 45.912151950984565,\n",
              " 46.480696285192906,\n",
              " 46.59202045384866,\n",
              " 46.11603397833058,\n",
              " 44.89918796787656,\n",
              " 42.792076941086385,\n",
              " 39.69954224962521,\n",
              " 35.645247931145875,\n",
              " 30.820527148887464,\n",
              " 25.57540444573331,\n",
              " 20.33499139218537,\n",
              " 15.479167116401904,\n",
              " 11.253086175726887,\n",
              " 7.746982369868075,\n",
              " 4.931894752236815,\n",
              " 2.7140578292817423,\n",
              " 0.9801960270505035,\n",
              " -0.37516579882944967,\n",
              " -1.4375267118839758,\n",
              " -2.2693329046987287,\n",
              " -2.9110587800394185,\n",
              " -3.3835622109098935,\n",
              " -3.6905743296578564,\n",
              " -3.8214855146757145,\n",
              " -3.7555972197787284,\n",
              " -3.4695916498089474,\n",
              " -2.9493662351937573,\n",
              " -2.2044862676496493,\n",
              " -1.2787048542003419,\n",
              " -0.2475260374096635,\n",
              " 0.8006000747869138,\n",
              " 1.7910461638622088,\n",
              " 2.6832029737282,\n",
              " 3.476187269723102,\n",
              " 4.203533349841429,\n",
              " 4.925562446782873,\n",
              " 5.726216126769955,\n",
              " 6.717396478241227,\n",
              " 8.05179536189104,\n",
              " 9.944921621380447,\n",
              " 12.707140036847946,\n",
              " 16.785207845029323]"
            ]
          },
          "metadata": {},
          "execution_count": 23
        }
      ]
    },
    {
      "cell_type": "code",
      "source": [
        "# compare the results with a linear regression model\n",
        "from sklearn.linear_model import LinearRegression\n",
        "##### write your code here #####\n",
        "reg = LinearRegression().fit(x_train.reshape(-1, 1), y_train.reshape(-1, 1), )\n",
        "linear_reg_preds = reg.predict(x_pred.reshape(-1, 1))\n",
        "##### End of your code #####"
      ],
      "metadata": {
        "id": "0f_P3MgcwBLN"
      },
      "execution_count": 28,
      "outputs": []
    },
    {
      "cell_type": "code",
      "source": [
        "# Plot the predictins from LWR and linear regresson\n",
        "plt.figure()\n",
        "plt.plot(x_train, y_train, 'bx', label='label')\n",
        "plt.plot(x_pred, y_preds, 'ro', label='LWR prediction')\n",
        "plt.plot(x_pred, linear_reg_preds, 'go', label='Linear regression prediction')\n",
        "plt.suptitle(\"Training Set\", fontsize=12)\n",
        "plt.legend(loc='upper left')"
      ],
      "metadata": {
        "colab": {
          "base_uri": "https://localhost:8080/",
          "height": 497
        },
        "id": "JdLvmXJ6AKPh",
        "outputId": "7186a419-801e-456b-ed60-b165b0d3bdc8"
      },
      "execution_count": 30,
      "outputs": [
        {
          "output_type": "execute_result",
          "data": {
            "text/plain": [
              "<matplotlib.legend.Legend at 0x7feac6196760>"
            ]
          },
          "metadata": {},
          "execution_count": 30
        },
        {
          "output_type": "display_data",
          "data": {
            "text/plain": [
              "<Figure size 720x504 with 1 Axes>"
            ],
            "image/png": "[encoded data removed]"
          },
          "metadata": {
            "needs_background": "light"
          }
        }
      ]
    },
    {
      "cell_type": "code",
      "source": [
        "# How tau affect the sensitivity to outliers?\n",
        "# Try different values of tau and observe the effect on the prediction by plotting them as above\n",
        "# Write on observations as comment in the next cell"
      ],
      "metadata": {
        "id": "rRlQvDqGF5k4"
      },
      "execution_count": 31,
      "outputs": []
    },
    {
      "cell_type": "code",
      "source": [
        "# Your comments"
      ],
      "metadata": {
        "id": "M9zPNnCdGCiF"
      },
      "execution_count": 32,
      "outputs": []
    },
    {
      "cell_type": "code",
      "source": [],
      "metadata": {
        "id": "dbamzCi8-nie"
      },
      "execution_count": null,
      "outputs": []
    }
  ]
}