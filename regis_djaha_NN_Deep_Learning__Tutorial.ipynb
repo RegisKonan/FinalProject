{
  "nbformat": 4,
  "nbformat_minor": 0,
  "metadata": {
    "colab": {
      "provenance": [],
      "include_colab_link": true
    },
    "kernelspec": {
      "name": "python3",
      "display_name": "Python 3"
    },
    "language_info": {
      "name": "python"
    }
  },
  "cells": [
    {
      "cell_type": "markdown",
      "metadata": {
        "id": "view-in-github",
        "colab_type": "text"
      },
      "source": [
        "<a href=\"https://colab.research.google.com/github/RegisKonan/FinalProject/blob/main/regis_djaha_NN_Deep_Learning__Tutorial.ipynb\" target=\"_parent\"><img src=\"https://colab.research.google.com/assets/colab-badge.svg\" alt=\"Open In Colab\"/></a>"
      ]
    },
    {
      "cell_type": "code",
      "execution_count": null,
      "metadata": {
        "id": "yYaKNXEtP0Pm"
      },
      "outputs": [],
      "source": [
        "import numpy as np\n",
        "import pandas as pd\n",
        "import matplotlib.pyplot as plt\n",
        "np.random.seed(1)\n",
        "from IPython import display"
      ]
    },
    {
      "cell_type": "code",
      "source": [
        "path= '/content/diabetes.csv'\n",
        "data= pd.read_csv(path)\n",
        "data.head()"
      ],
      "metadata": {
        "colab": {
          "base_uri": "https://localhost:8080/",
          "height": 206
        },
        "id": "1kKJVCd3-yZW",
        "outputId": "63d3d9b0-014f-4614-cc28-7414dacc6371"
      },
      "execution_count": null,
      "outputs": [
        {
          "output_type": "execute_result",
          "data": {
            "text/plain": [
              "   Pregnancies  Glucose  BloodPressure  SkinThickness  Insulin   BMI  \\\n",
              "0            6      148             72             35        0  33.6   \n",
              "1            1       85             66             29        0  26.6   \n",
              "2            8      183             64              0        0  23.3   \n",
              "3            1       89             66             23       94  28.1   \n",
              "4            0      137             40             35      168  43.1   \n",
              "\n",
              "   DiabetesPedigreeFunction  Age  Outcome  \n",
              "0                     0.627   50        1  \n",
              "1                     0.351   31        0  \n",
              "2                     0.672   32        1  \n",
              "3                     0.167   21        0  \n",
              "4                     2.288   33        1  "
            ],
            "text/html": [
              "\n",
              "  <div id=\"df-bd14afe9-0c19-4411-a48a-9c9bddcd7ee1\">\n",
              "    <div class=\"colab-df-container\">\n",
              "      <div>\n",
              "<style scoped>\n",
              "    .dataframe tbody tr th:only-of-type {\n",
              "        vertical-align: middle;\n",
              "    }\n",
              "\n",
              "    .dataframe tbody tr th {\n",
              "        vertical-align: top;\n",
              "    }\n",
              "\n",
              "    .dataframe thead th {\n",
              "        text-align: right;\n",
              "    }\n",
              "</style>\n",
              "<table border=\"1\" class=\"dataframe\">\n",
              "  <thead>\n",
              "    <tr style=\"text-align: right;\">\n",
              "      <th></th>\n",
              "      <th>Pregnancies</th>\n",
              "      <th>Glucose</th>\n",
              "      <th>BloodPressure</th>\n",
              "      <th>SkinThickness</th>\n",
              "      <th>Insulin</th>\n",
              "      <th>BMI</th>\n",
              "      <th>DiabetesPedigreeFunction</th>\n",
              "      <th>Age</th>\n",
              "      <th>Outcome</th>\n",
              "    </tr>\n",
              "  </thead>\n",
              "  <tbody>\n",
              "    <tr>\n",
              "      <th>0</th>\n",
              "      <td>6</td>\n",
              "      <td>148</td>\n",
              "      <td>72</td>\n",
              "      <td>35</td>\n",
              "      <td>0</td>\n",
              "      <td>33.6</td>\n",
              "      <td>0.627</td>\n",
              "      <td>50</td>\n",
              "      <td>1</td>\n",
              "    </tr>\n",
              "    <tr>\n",
              "      <th>1</th>\n",
              "      <td>1</td>\n",
              "      <td>85</td>\n",
              "      <td>66</td>\n",
              "      <td>29</td>\n",
              "      <td>0</td>\n",
              "      <td>26.6</td>\n",
              "      <td>0.351</td>\n",
              "      <td>31</td>\n",
              "      <td>0</td>\n",
              "    </tr>\n",
              "    <tr>\n",
              "      <th>2</th>\n",
              "      <td>8</td>\n",
              "      <td>183</td>\n",
              "      <td>64</td>\n",
              "      <td>0</td>\n",
              "      <td>0</td>\n",
              "      <td>23.3</td>\n",
              "      <td>0.672</td>\n",
              "      <td>32</td>\n",
              "      <td>1</td>\n",
              "    </tr>\n",
              "    <tr>\n",
              "      <th>3</th>\n",
              "      <td>1</td>\n",
              "      <td>89</td>\n",
              "      <td>66</td>\n",
              "      <td>23</td>\n",
              "      <td>94</td>\n",
              "      <td>28.1</td>\n",
              "      <td>0.167</td>\n",
              "      <td>21</td>\n",
              "      <td>0</td>\n",
              "    </tr>\n",
              "    <tr>\n",
              "      <th>4</th>\n",
              "      <td>0</td>\n",
              "      <td>137</td>\n",
              "      <td>40</td>\n",
              "      <td>35</td>\n",
              "      <td>168</td>\n",
              "      <td>43.1</td>\n",
              "      <td>2.288</td>\n",
              "      <td>33</td>\n",
              "      <td>1</td>\n",
              "    </tr>\n",
              "  </tbody>\n",
              "</table>\n",
              "</div>\n",
              "      <button class=\"colab-df-convert\" onclick=\"convertToInteractive('df-bd14afe9-0c19-4411-a48a-9c9bddcd7ee1')\"\n",
              "              title=\"Convert this dataframe to an interactive table.\"\n",
              "              style=\"display:none;\">\n",
              "        \n",
              "  <svg xmlns=\"http://www.w3.org/2000/svg\" height=\"24px\"viewBox=\"0 0 24 24\"\n",
              "       width=\"24px\">\n",
              "    <path d=\"M0 0h24v24H0V0z\" fill=\"none\"/>\n",
              "    <path d=\"M18.56 5.44l.94 2.06.94-2.06 2.06-.94-2.06-.94-.94-2.06-.94 2.06-2.06.94zm-11 1L8.5 8.5l.94-2.06 2.06-.94-2.06-.94L8.5 2.5l-.94 2.06-2.06.94zm10 10l.94 2.06.94-2.06 2.06-.94-2.06-.94-.94-2.06-.94 2.06-2.06.94z\"/><path d=\"M17.41 7.96l-1.37-1.37c-.4-.4-.92-.59-1.43-.59-.52 0-1.04.2-1.43.59L10.3 9.45l-7.72 7.72c-.78.78-.78 2.05 0 2.83L4 21.41c.39.39.9.59 1.41.59.51 0 1.02-.2 1.41-.59l7.78-7.78 2.81-2.81c.8-.78.8-2.07 0-2.86zM5.41 20L4 18.59l7.72-7.72 1.47 1.35L5.41 20z\"/>\n",
              "  </svg>\n",
              "      </button>\n",
              "      \n",
              "  <style>\n",
              "    .colab-df-container {\n",
              "      display:flex;\n",
              "      flex-wrap:wrap;\n",
              "      gap: 12px;\n",
              "    }\n",
              "\n",
              "    .colab-df-convert {\n",
              "      background-color: #E8F0FE;\n",
              "      border: none;\n",
              "      border-radius: 50%;\n",
              "      cursor: pointer;\n",
              "      display: none;\n",
              "      fill: #1967D2;\n",
              "      height: 32px;\n",
              "      padding: 0 0 0 0;\n",
              "      width: 32px;\n",
              "    }\n",
              "\n",
              "    .colab-df-convert:hover {\n",
              "      background-color: #E2EBFA;\n",
              "      box-shadow: 0px 1px 2px rgba(60, 64, 67, 0.3), 0px 1px 3px 1px rgba(60, 64, 67, 0.15);\n",
              "      fill: #174EA6;\n",
              "    }\n",
              "\n",
              "    [theme=dark] .colab-df-convert {\n",
              "      background-color: #3B4455;\n",
              "      fill: #D2E3FC;\n",
              "    }\n",
              "\n",
              "    [theme=dark] .colab-df-convert:hover {\n",
              "      background-color: #434B5C;\n",
              "      box-shadow: 0px 1px 3px 1px rgba(0, 0, 0, 0.15);\n",
              "      filter: drop-shadow(0px 1px 2px rgba(0, 0, 0, 0.3));\n",
              "      fill: #FFFFFF;\n",
              "    }\n",
              "  </style>\n",
              "\n",
              "      <script>\n",
              "        const buttonEl =\n",
              "          document.querySelector('#df-bd14afe9-0c19-4411-a48a-9c9bddcd7ee1 button.colab-df-convert');\n",
              "        buttonEl.style.display =\n",
              "          google.colab.kernel.accessAllowed ? 'block' : 'none';\n",
              "\n",
              "        async function convertToInteractive(key) {\n",
              "          const element = document.querySelector('#df-bd14afe9-0c19-4411-a48a-9c9bddcd7ee1');\n",
              "          const dataTable =\n",
              "            await google.colab.kernel.invokeFunction('convertToInteractive',\n",
              "                                                     [key], {});\n",
              "          if (!dataTable) return;\n",
              "\n",
              "          const docLinkHtml = 'Like what you see? Visit the ' +\n",
              "            '<a target=\"_blank\" href=https://colab.research.google.com/notebooks/data_table.ipynb>data table notebook</a>'\n",
              "            + ' to learn more about interactive tables.';\n",
              "          element.innerHTML = '';\n",
              "          dataTable['output_type'] = 'display_data';\n",
              "          await google.colab.output.renderOutput(dataTable, element);\n",
              "          const docLink = document.createElement('div');\n",
              "          docLink.innerHTML = docLinkHtml;\n",
              "          element.appendChild(docLink);\n",
              "        }\n",
              "      </script>\n",
              "    </div>\n",
              "  </div>\n",
              "  "
            ]
          },
          "metadata": {},
          "execution_count": 346
        }
      ]
    },
    {
      "cell_type": "code",
      "source": [
        "def scale(x):\n",
        "  \"\"\"\n",
        "  Parameters\n",
        "  -------\n",
        "    x: dataframe\n",
        "\n",
        "  Returns\n",
        "  -------\n",
        "    x_scaled: dataframe\n",
        "  \n",
        "  \"\"\"\n",
        "  x_scaled= (x-x.mean())/x.std()\n",
        "  return x_scaled"
      ],
      "metadata": {
        "id": "YZR3a0LDQDaT"
      },
      "execution_count": null,
      "outputs": []
    },
    {
      "cell_type": "code",
      "source": [
        "data.iloc[:,:-1]= scale(data)\n",
        "data.head()"
      ],
      "metadata": {
        "colab": {
          "base_uri": "https://localhost:8080/",
          "height": 206
        },
        "id": "cW5bi-j3DIW7",
        "outputId": "2257547e-c49e-47b9-9822-9a1e40c5bf86"
      },
      "execution_count": null,
      "outputs": [
        {
          "output_type": "execute_result",
          "data": {
            "text/plain": [
              "   Pregnancies   Glucose  BloodPressure  SkinThickness   Insulin       BMI  \\\n",
              "0     0.639530  0.847771       0.149543       0.906679 -0.692439  0.203880   \n",
              "1    -0.844335 -1.122665      -0.160441       0.530556 -0.692439 -0.683976   \n",
              "2     1.233077  1.942458      -0.263769      -1.287373 -0.692439 -1.102537   \n",
              "3    -0.844335 -0.997558      -0.160441       0.154433  0.123221 -0.493721   \n",
              "4    -1.141108  0.503727      -1.503707       0.906679  0.765337  1.408828   \n",
              "\n",
              "   DiabetesPedigreeFunction       Age  Outcome  \n",
              "0                  0.468187  1.425067        1  \n",
              "1                 -0.364823 -0.190548        0  \n",
              "2                  0.604004 -0.105515        1  \n",
              "3                 -0.920163 -1.040871        0  \n",
              "4                  5.481337 -0.020483        1  "
            ],
            "text/html": [
              "\n",
              "  <div id=\"df-5af546b9-2d1e-413a-bedd-0167df1dea95\">\n",
              "    <div class=\"colab-df-container\">\n",
              "      <div>\n",
              "<style scoped>\n",
              "    .dataframe tbody tr th:only-of-type {\n",
              "        vertical-align: middle;\n",
              "    }\n",
              "\n",
              "    .dataframe tbody tr th {\n",
              "        vertical-align: top;\n",
              "    }\n",
              "\n",
              "    .dataframe thead th {\n",
              "        text-align: right;\n",
              "    }\n",
              "</style>\n",
              "<table border=\"1\" class=\"dataframe\">\n",
              "  <thead>\n",
              "    <tr style=\"text-align: right;\">\n",
              "      <th></th>\n",
              "      <th>Pregnancies</th>\n",
              "      <th>Glucose</th>\n",
              "      <th>BloodPressure</th>\n",
              "      <th>SkinThickness</th>\n",
              "      <th>Insulin</th>\n",
              "      <th>BMI</th>\n",
              "      <th>DiabetesPedigreeFunction</th>\n",
              "      <th>Age</th>\n",
              "      <th>Outcome</th>\n",
              "    </tr>\n",
              "  </thead>\n",
              "  <tbody>\n",
              "    <tr>\n",
              "      <th>0</th>\n",
              "      <td>0.639530</td>\n",
              "      <td>0.847771</td>\n",
              "      <td>0.149543</td>\n",
              "      <td>0.906679</td>\n",
              "      <td>-0.692439</td>\n",
              "      <td>0.203880</td>\n",
              "      <td>0.468187</td>\n",
              "      <td>1.425067</td>\n",
              "      <td>1</td>\n",
              "    </tr>\n",
              "    <tr>\n",
              "      <th>1</th>\n",
              "      <td>-0.844335</td>\n",
              "      <td>-1.122665</td>\n",
              "      <td>-0.160441</td>\n",
              "      <td>0.530556</td>\n",
              "      <td>-0.692439</td>\n",
              "      <td>-0.683976</td>\n",
              "      <td>-0.364823</td>\n",
              "      <td>-0.190548</td>\n",
              "      <td>0</td>\n",
              "    </tr>\n",
              "    <tr>\n",
              "      <th>2</th>\n",
              "      <td>1.233077</td>\n",
              "      <td>1.942458</td>\n",
              "      <td>-0.263769</td>\n",
              "      <td>-1.287373</td>\n",
              "      <td>-0.692439</td>\n",
              "      <td>-1.102537</td>\n",
              "      <td>0.604004</td>\n",
              "      <td>-0.105515</td>\n",
              "      <td>1</td>\n",
              "    </tr>\n",
              "    <tr>\n",
              "      <th>3</th>\n",
              "      <td>-0.844335</td>\n",
              "      <td>-0.997558</td>\n",
              "      <td>-0.160441</td>\n",
              "      <td>0.154433</td>\n",
              "      <td>0.123221</td>\n",
              "      <td>-0.493721</td>\n",
              "      <td>-0.920163</td>\n",
              "      <td>-1.040871</td>\n",
              "      <td>0</td>\n",
              "    </tr>\n",
              "    <tr>\n",
              "      <th>4</th>\n",
              "      <td>-1.141108</td>\n",
              "      <td>0.503727</td>\n",
              "      <td>-1.503707</td>\n",
              "      <td>0.906679</td>\n",
              "      <td>0.765337</td>\n",
              "      <td>1.408828</td>\n",
              "      <td>5.481337</td>\n",
              "      <td>-0.020483</td>\n",
              "      <td>1</td>\n",
              "    </tr>\n",
              "  </tbody>\n",
              "</table>\n",
              "</div>\n",
              "      <button class=\"colab-df-convert\" onclick=\"convertToInteractive('df-5af546b9-2d1e-413a-bedd-0167df1dea95')\"\n",
              "              title=\"Convert this dataframe to an interactive table.\"\n",
              "              style=\"display:none;\">\n",
              "        \n",
              "  <svg xmlns=\"http://www.w3.org/2000/svg\" height=\"24px\"viewBox=\"0 0 24 24\"\n",
              "       width=\"24px\">\n",
              "    <path d=\"M0 0h24v24H0V0z\" fill=\"none\"/>\n",
              "    <path d=\"M18.56 5.44l.94 2.06.94-2.06 2.06-.94-2.06-.94-.94-2.06-.94 2.06-2.06.94zm-11 1L8.5 8.5l.94-2.06 2.06-.94-2.06-.94L8.5 2.5l-.94 2.06-2.06.94zm10 10l.94 2.06.94-2.06 2.06-.94-2.06-.94-.94-2.06-.94 2.06-2.06.94z\"/><path d=\"M17.41 7.96l-1.37-1.37c-.4-.4-.92-.59-1.43-.59-.52 0-1.04.2-1.43.59L10.3 9.45l-7.72 7.72c-.78.78-.78 2.05 0 2.83L4 21.41c.39.39.9.59 1.41.59.51 0 1.02-.2 1.41-.59l7.78-7.78 2.81-2.81c.8-.78.8-2.07 0-2.86zM5.41 20L4 18.59l7.72-7.72 1.47 1.35L5.41 20z\"/>\n",
              "  </svg>\n",
              "      </button>\n",
              "      \n",
              "  <style>\n",
              "    .colab-df-container {\n",
              "      display:flex;\n",
              "      flex-wrap:wrap;\n",
              "      gap: 12px;\n",
              "    }\n",
              "\n",
              "    .colab-df-convert {\n",
              "      background-color: #E8F0FE;\n",
              "      border: none;\n",
              "      border-radius: 50%;\n",
              "      cursor: pointer;\n",
              "      display: none;\n",
              "      fill: #1967D2;\n",
              "      height: 32px;\n",
              "      padding: 0 0 0 0;\n",
              "      width: 32px;\n",
              "    }\n",
              "\n",
              "    .colab-df-convert:hover {\n",
              "      background-color: #E2EBFA;\n",
              "      box-shadow: 0px 1px 2px rgba(60, 64, 67, 0.3), 0px 1px 3px 1px rgba(60, 64, 67, 0.15);\n",
              "      fill: #174EA6;\n",
              "    }\n",
              "\n",
              "    [theme=dark] .colab-df-convert {\n",
              "      background-color: #3B4455;\n",
              "      fill: #D2E3FC;\n",
              "    }\n",
              "\n",
              "    [theme=dark] .colab-df-convert:hover {\n",
              "      background-color: #434B5C;\n",
              "      box-shadow: 0px 1px 3px 1px rgba(0, 0, 0, 0.15);\n",
              "      filter: drop-shadow(0px 1px 2px rgba(0, 0, 0, 0.3));\n",
              "      fill: #FFFFFF;\n",
              "    }\n",
              "  </style>\n",
              "\n",
              "      <script>\n",
              "        const buttonEl =\n",
              "          document.querySelector('#df-5af546b9-2d1e-413a-bedd-0167df1dea95 button.colab-df-convert');\n",
              "        buttonEl.style.display =\n",
              "          google.colab.kernel.accessAllowed ? 'block' : 'none';\n",
              "\n",
              "        async function convertToInteractive(key) {\n",
              "          const element = document.querySelector('#df-5af546b9-2d1e-413a-bedd-0167df1dea95');\n",
              "          const dataTable =\n",
              "            await google.colab.kernel.invokeFunction('convertToInteractive',\n",
              "                                                     [key], {});\n",
              "          if (!dataTable) return;\n",
              "\n",
              "          const docLinkHtml = 'Like what you see? Visit the ' +\n",
              "            '<a target=\"_blank\" href=https://colab.research.google.com/notebooks/data_table.ipynb>data table notebook</a>'\n",
              "            + ' to learn more about interactive tables.';\n",
              "          element.innerHTML = '';\n",
              "          dataTable['output_type'] = 'display_data';\n",
              "          await google.colab.output.renderOutput(dataTable, element);\n",
              "          const docLink = document.createElement('div');\n",
              "          docLink.innerHTML = docLinkHtml;\n",
              "          element.appendChild(docLink);\n",
              "        }\n",
              "      </script>\n",
              "    </div>\n",
              "  </div>\n",
              "  "
            ]
          },
          "metadata": {},
          "execution_count": 348
        }
      ]
    },
    {
      "cell_type": "code",
      "source": [
        "def split_data(df, train_size=0.8):\n",
        "  # ADD YOUR CODES\n",
        "  # shuffle the data before splitting it\n",
        "  \n",
        "  #print(Y.shape)\n",
        "  data=np.array(df)\n",
        "  #Y=Y.reshape((Y.shape[0],1))\n",
        "  #Y=data[:,-1]\n",
        "  X=data[:,:-1]\n",
        "  #data=np.hstack((X,Y))\n",
        "  \n",
        "  data1=np.take(data,np.random.permutation(data.shape[0]),axis=0,out=data)\n",
        "\n",
        "  size=int(train_size*X.shape[0])\n",
        "  #print(np.shape(data1))\n",
        "  X_train=data1[:size,:-1]\n",
        "  X_test=data1[size:,:-1]\n",
        "  Y_train=data1[:size,-1]\n",
        "  Y_test=data1[size:, -1]\n",
        "\n",
        "  return X_train, X_test, Y_train, Y_test"
      ],
      "metadata": {
        "id": "oT0Pdu4mIh8B"
      },
      "execution_count": null,
      "outputs": []
    },
    {
      "cell_type": "code",
      "source": [
        "x_train, x_test, y_train, y_test= split_data(data) \n",
        "x_train.shape, y_train.shape, x_test.shape, y_test.shape"
      ],
      "metadata": {
        "colab": {
          "base_uri": "https://localhost:8080/"
        },
        "id": "_GuNJLHREz6w",
        "outputId": "d6f58dca-aeae-471c-f1c7-c5ac2f3584c0"
      },
      "execution_count": null,
      "outputs": [
        {
          "output_type": "execute_result",
          "data": {
            "text/plain": [
              "((614, 8), (614,), (154, 8), (154,))"
            ]
          },
          "metadata": {},
          "execution_count": 350
        }
      ]
    },
    {
      "cell_type": "code",
      "source": [
        "# x_train, x_test, y_train, y_test= split_data(data) \n",
        "# x_train.shape, y_train.shape, x_test.shape, y_test.shape"
      ],
      "metadata": {
        "id": "e4FPLvDiQnzL"
      },
      "execution_count": null,
      "outputs": []
    },
    {
      "cell_type": "code",
      "source": [
        "def sigmoid(x):\n",
        "  \"\"\"\n",
        "  Parameters\n",
        "  ----------\n",
        "    x: an array\n",
        "\n",
        "  return\n",
        "  ------\n",
        "\n",
        "    y: 1/(1+exp(-x))\n",
        "\n",
        "      a list of value between 0 and 1\n",
        "  \"\"\"\n",
        "  y=1/(1+np.exp(-x))\n",
        "  return y"
      ],
      "metadata": {
        "id": "cnkR9elPQvS3"
      },
      "execution_count": null,
      "outputs": []
    },
    {
      "cell_type": "code",
      "source": [
        "def dsigmoid(x):\n",
        "  \"\"\"\n",
        "  Parameters\n",
        "  ----------\n",
        "    x: an array\n",
        "\n",
        "  return\n",
        "  ------\n",
        "\n",
        "    y: sigmoid(x)*(1- sigmoid(x))\n",
        "\n",
        "      a list of value of the derivative of sigmoid\n",
        "  \"\"\"\n",
        "  y=sigmoid(x)*(1-sigmoid(x))\n",
        "  return y"
      ],
      "metadata": {
        "id": "nyaJzqQjQu7M"
      },
      "execution_count": null,
      "outputs": []
    },
    {
      "cell_type": "code",
      "source": [
        "def cross_entropy(y,y_pred):\n",
        "  \"\"\"\n",
        "  Parameters\n",
        "  ----------\n",
        "    y: an array\n",
        "    y_pred: array\n",
        "\n",
        "  return\n",
        "  ------\n",
        "   : float\n",
        "  \"\"\"\n",
        "  t= y*np.log(y_pred)\n",
        "  s =(1-y)*np.log(1-y_pred)\n",
        "  loss=-1*np.mean(t+s)\n",
        "  return loss"
      ],
      "metadata": {
        "id": "SBH8s6GBRAbh"
      },
      "execution_count": null,
      "outputs": []
    },
    {
      "cell_type": "code",
      "source": [
        "def forward_pass(x, w1, b1, w2, b2):\n",
        "  \"\"\"\n",
        "  Parameters\n",
        "  ---------\n",
        "    x: an array of N rows\n",
        "    w1: an array of shape (hidden_dim, input_dim)\n",
        "    b1: an array of shape (hidden_dim, 1). Bias vector\n",
        "    w2: an array of shape (output_dim, hidden_dim)\n",
        "    b2: an array of shape (1, 1)\n",
        "  \n",
        "  Return\n",
        "  ------\n",
        "    z1: an array of shape (N, hidden_dim)\n",
        "    a1: an array of shape (N, hidden_dim)\n",
        "    z2: an array of shape (N, output_dim)\n",
        "    a2: an array of shape (N, output_dim)\n",
        "  \"\"\"\n",
        "  #z1= w1@x.T+b1\n",
        "  z1= w1@x.T+b1\n",
        "  a1= sigmoid(z1)\n",
        "\n",
        "  z2= w2@a1+b2\n",
        "  a2= sigmoid(z2)\n",
        "\n",
        "\n",
        "  return z1, a1, z2, a2"
      ],
      "metadata": {
        "id": "2TsS0tmbRuVx"
      },
      "execution_count": null,
      "outputs": []
    },
    {
      "cell_type": "code",
      "source": [
        "def backwardpass(x,y, w1, b1, w2, b2):\n",
        "  \"\"\"\n",
        "  Parameters\n",
        "  ---------\n",
        "    x:  an array of N rows\n",
        "    y:  an array of N rows\n",
        "    w1: an array of shape (hidden_dim, input_dim)\n",
        "    b1: an array of shape (hidden_dim, 1). Bias vector\n",
        "    w2: an array of shape (output_dim, hidden_dim)\n",
        "    b2: an array of shape (1, 1)\n",
        "  \n",
        "  Return\n",
        "  ------\n",
        "    dw1: an array of shape (hidden_dim, input_dim)\n",
        "    db1: an array of shape (hidden_dim, 1). Bias vector\n",
        "    dw2: an array of shape (output_dim, hidden_dim)\n",
        "    db2: an array of shape (1, 1)\n",
        "  \"\"\"\n",
        "  \n",
        "  # Forward pass\n",
        "  z1, a1, z2, a2=forward_pass(x, w1, b1, w2, b2)\n",
        "  m= len(y)\n",
        "  #Backward\n",
        "\n",
        "  dw1= ((1/m)*((w2.T@(a2-y)*a1*(1-a1))@x))\n",
        "  db1=np.mean(w2.T@(a2-y)*a1*(1-a1))\n",
        "\n",
        "\n",
        "\n",
        "\n",
        "\n",
        "  dw2= ((1/m)*((a2-y)@a1.T))\n",
        "  db2=(1/m)*np.sum((a2-y),axis=1)\n",
        "\n",
        "  return dw1, db1, dw2, db2"
      ],
      "metadata": {
        "id": "R8i_pToSSXVp"
      },
      "execution_count": null,
      "outputs": []
    },
    {
      "cell_type": "code",
      "source": [
        "def train(x,y, x_val, y_val):\n",
        "  \"\"\"\n",
        "  Parameters\n",
        "  ---------\n",
        "    x:  an array of N rows\n",
        "    y:  an array of N rows\n",
        "    w1: an array of shape (hidden_dim, input_dim)\n",
        "    b1: an array of shape (hidden_dim, 1). Bias vector\n",
        "    w2: an array of shape (output_dim, hidden_dim)\n",
        "    b2: an array of shape (1, 1)\n",
        "  \n",
        "  Return\n",
        "  ------\n",
        "    cost: an array of shape (num_epochs, )\n",
        "    cost_test: an array of shape (num_epochs, ).\n",
        "    w1: an array of shape (hidden_dim, input_dim)\n",
        "    b1: an array of shape (hidden_dim, 1). Bias vector\n",
        "    w2: an array of shape (output_dim, hidden_dim)\n",
        "    b2: an array of shape (1, 1)\n",
        "  \"\"\"\n",
        "  input_dim= x.shape[1] # number of features\n",
        "  hidden_dim= 16 # number of units in the hideen layer\n",
        "  output_dim= 1 # number of units in the output layer\n",
        "  w1 = np.random.rand(hidden_dim,input_dim)*0.01 # (hidden_dim, input_dim)\n",
        "  b1 = np.random.rand(hidden_dim,1) # (hidden_dim, 1)\n",
        "\n",
        "  w2 = np.random.rand( output_dim,hidden_dim)*0.01 # (output_dim, hidden_dim)\n",
        "  b2 = np.random.rand(output_dim,1) # (output_dim, 1)\n",
        "  lr = 0.001\n",
        "  num_epochs = 1000\n",
        "  \n",
        "\n",
        "  cost =[]\n",
        "  cost_test= []\n",
        "\n",
        "  for i in range(num_epochs):\n",
        "      # Backward Pass\n",
        "      dw1, db1, dw2, db2=backwardpass(x,y, w1, b1, w2, b2)\n",
        "\n",
        "      # Update weights\n",
        "      w1 = w1-lr *dw1\n",
        "      b1= b1-lr*db1\n",
        "\n",
        "\n",
        "      w2 = w2-lr *dw2\n",
        "      b2= b2-lr*db2\n",
        "\n",
        "      # Get the Train Loss\n",
        "      # apply forward to get z1, a1, z2 and a2\n",
        "      z1, a1, z2, a2= forward_pass(x, w1, b1, w2, b2)\n",
        "      \n",
        "\n",
        "      #Compute the loss\n",
        "      loss_tain = cross_entropy(y,a2)\n",
        "      cost.append(loss_tain)\n",
        "\n",
        "\n",
        "      # Get the Test Loss\n",
        "      # apply forward to get z1, a1, z2 and a2 using x_val\n",
        "      z1, a1, z2, a2= forward_pass(x_val, w1, b1, w2, b2)\n",
        "      loss_test = cross_entropy(y_val,a2)\n",
        "      cost_test.append(loss_test)\n",
        "  \n",
        "  return cost, cost_test, w1, b1, w2, b2"
      ],
      "metadata": {
        "id": "FqiK4uIhSaAw"
      },
      "execution_count": null,
      "outputs": []
    },
    {
      "cell_type": "code",
      "source": [
        "def accuracy(y, y_pred):\n",
        "  acc= np.mean(y == y_pred)\n",
        "  return acc*100"
      ],
      "metadata": {
        "id": "n6LNhbbOStNm"
      },
      "execution_count": null,
      "outputs": []
    },
    {
      "cell_type": "code",
      "source": [
        "threshold= 0.5\n",
        "def get_class(x):\n",
        "  _,_,_,proba= forward_pass(x, w1, b1, w2, b2) # Get probability of x\n",
        "  proba= proba.squeeze(0)\n",
        "  result= [1 if i> threshold else 0 for i in proba] # Convert proba to 0 or 1. hint: list comprehension\n",
        "  return np.array(result), proba"
      ],
      "metadata": {
        "id": "VTeTNcFEVf2N"
      },
      "execution_count": null,
      "outputs": []
    },
    {
      "cell_type": "code",
      "source": [
        "cost, cost_test, w1, b1, w2, b2= train(x_train,y_train, x_test, y_test)"
      ],
      "metadata": {
        "id": "uurTCEclScpu"
      },
      "execution_count": null,
      "outputs": []
    },
    {
      "cell_type": "code",
      "source": [
        "def plot(cost, cost_test):\n",
        "  plt.xlabel('Epochs')\n",
        "  plt.ylabel('Cost')\n",
        "  plt.plot(np.arange(len(cost)), cost, 'r', linewidth = \"2\", label= 'Train Loss')\n",
        "  plt.plot(np.arange(len(cost_test)), cost_test, 'b', linewidth = \"2\", label= 'Validation Loss')\n",
        "  plt.legend()\n",
        "  plt.show()\n",
        "  \n",
        "plot(cost, cost_test)"
      ],
      "metadata": {
        "colab": {
          "base_uri": "https://localhost:8080/",
          "height": 279
        },
        "id": "oYAvfW1uShKe",
        "outputId": "6d810862-69a1-4f83-9741-c02d3d48a709"
      },
      "execution_count": null,
      "outputs": [
        {
          "output_type": "display_data",
          "data": {
            "text/plain": [
              "<Figure size 432x288 with 1 Axes>"
            ],
            "image/png": "[encoded data removed]"
          },
          "metadata": {
            "needs_background": "light"
          }
        }
      ]
    },
    {
      "cell_type": "code",
      "source": [
        "y_pred, y_proba= get_class(x_test)"
      ],
      "metadata": {
        "id": "iykwA03WVlna"
      },
      "execution_count": null,
      "outputs": []
    },
    {
      "cell_type": "code",
      "source": [
        "accuracy(y_test, y_pred)"
      ],
      "metadata": {
        "colab": {
          "base_uri": "https://localhost:8080/"
        },
        "id": "Ebun_QC3S0d9",
        "outputId": "d6a5329f-256a-45b1-9b12-299eabe8e916"
      },
      "execution_count": null,
      "outputs": [
        {
          "output_type": "execute_result",
          "data": {
            "text/plain": [
              "62.98701298701299"
            ]
          },
          "metadata": {},
          "execution_count": 366
        }
      ]
    },
    {
      "cell_type": "code",
      "source": [],
      "metadata": {
        "id": "0SEEil8MVOkA"
      },
      "execution_count": null,
      "outputs": []
    },
    {
      "cell_type": "markdown",
      "source": [
        "# NN Class"
      ],
      "metadata": {
        "id": "7G7QcBAW2RGr"
      }
    },
    {
      "cell_type": "code",
      "source": [
        "# BGD\n",
        "class NN:\n",
        "  def __init__(self, x_test, y_test, size, num_epochs= 1000, lr= 0.001, threshold= 0.5):\n",
        "    self.num_epochs= num_epochs\n",
        "    self.lr= lr\n",
        "    self.threshold= threshold\n",
        "    self.cost_train= None\n",
        "    self.size= size\n",
        "    self.x_test= x_test\n",
        "    self.y_test= y_test\n",
        "    self.params= self.weight_initialization()\n",
        "\n",
        "  def sigmoid(self,x):\n",
        "    return 1/(1+np.exp(-self.x))\n",
        "  \n",
        "  def dsigmoid(self,x):\n",
        "    return sigmoid(x)*(1-sigmoid(self.x))\n",
        "\n",
        "\n",
        "  def cross_entropy(self,y,y_pred):\n",
        "    t= y*np.log(y_pred)\n",
        "    s =(1-y)*np.log(1-y_pred)\n",
        "    loss=-1*np.mean(t+s)\n",
        "    return loss\n",
        "    #loss= ...\n",
        "    #return loss\n",
        "  \n",
        "  def weight_initialization(self):\n",
        "    input_dim= self.size[0]\n",
        "    hidden_dim= self.size[1]\n",
        "    output_dim= self.size[2]\n",
        "\n",
        "\n",
        "    params = {\n",
        "            'w1':np.random.rand(hidden_dim,input_dim)*0.01,\n",
        "            'b1':np.random.rand(hidden_dim,1),\n",
        "            'w2':np.random.rand(output_dim, hidden_dim)*0.01,\n",
        "            'b2':np.random.rand(1,1) \n",
        "        }\n",
        "\n",
        "    return params\n",
        "  def forward_pass(self, x):\n",
        "    params= self.params\n",
        "    z1= self.params['w1']@x.T+self.params['b1']\n",
        "    a1= sigmoid(z1)\n",
        "    z2= self.params['w2']@a1+self.params['b2']\n",
        "    a2= sigmoid(z2)\n",
        "    return z1, a1, z2, a2\n",
        "    \n",
        "\n",
        "    # ForwardPass\n",
        "    #z1, a1, z2, a2=forward_pass(x)\n",
        "    #return z1, a1, z2, a2\n",
        "  \n",
        "  def backward_pass(self, x, y):\n",
        "    params= self.params\n",
        "    z1, a1, z2, a2=self.forward_pass(x)\n",
        "    m= len(y)\n",
        "  #Backward\n",
        "    dw1= ((1/m)*((params['w2'].T@(a2-y)*a1*(1-a1))@x))\n",
        "    db1=np.mean(params['w2'].T@(a2-y)*a1*(1-a1))\n",
        "\n",
        "    dw2= ((1/m)*((a2-y)@a1.T))\n",
        "    db2=(1/m)*np.sum((a2-y),axis=1)\n",
        "    return dw1, db1, dw2, db2\n",
        "\n",
        "    # Backward\n",
        "    \n",
        "\n",
        "    #return dw1, db1, dw2, db2\n",
        "\n",
        "  def fit(self, x, y):\n",
        "    self.cost_train = []\n",
        "    for i in range(self.num_epochs):\n",
        "      params = self.params\n",
        "      dw1, db1, dw2, db2 = self.backward_pass(x, y)\n",
        "\n",
        "      params['w1'] = params['w1'] - self.lr * dw1\n",
        "      params['b1'] = params['b1'] - self.lr * db1\n",
        "      params['w2'] = params['w2'] - self.lr * dw2\n",
        "      params['b2'] = params['b2'] - self.lr * db2\n",
        "\n",
        "      _, _, _, y_pred = self.forward_pass(x)\n",
        "      loss = self.cross_entropy(y, y_pred)\n",
        "      self.cost_train.append(loss)\n",
        "\n",
        "    return params['w1'], params['b1'], params['w2'], params['b2']\n",
        "    \n",
        "  \n",
        "  def get_class(self, x):\n",
        "    w1, b1, w2, b2= self.params['w1'], self.params['b1'], self.params['w2'], self.params['b2']\n",
        "    _,_,_,proba= self.forward_pass(x) \n",
        "    proba= proba.squeeze(0)\n",
        "    result= [1 if i> threshold else 0 for i in proba] # Convert proba to 0 or 1. hint: list comprehension\n",
        "    return np.array(result), proba\n",
        "\n",
        "  def accuracy(self, y,y_pred):\n",
        "    acc= np.mean(y == y_pred)\n",
        "    return acc*100\n",
        "    #return ...\n",
        "  def plot(self):\n",
        "    plt.xlabel('Epochs')\n",
        "    plt.ylabel('Cost')\n",
        "    plt.plot(np.arange(len(self.cost_train)), self.cost_train, 'r', linewidth = \"2\", label= 'Train Loss')\n",
        "    plt.legend()\n",
        "    plt.show()"
      ],
      "metadata": {
        "id": "YtAjnH9x2QCe"
      },
      "execution_count": null,
      "outputs": []
    },
    {
      "cell_type": "code",
      "source": [],
      "metadata": {
        "id": "IjSqrgv24pY_"
      },
      "execution_count": null,
      "outputs": []
    },
    {
      "cell_type": "code",
      "source": [
        "size= [x_train.shape[1], 16, 1]\n",
        "model= NN(x_test, y_test, size, num_epochs= 2000, lr= 0.001)"
      ],
      "metadata": {
        "id": "9cH4O9nO2hnI"
      },
      "execution_count": null,
      "outputs": []
    },
    {
      "cell_type": "code",
      "source": [
        "model.fit(x_train,y_train)"
      ],
      "metadata": {
        "colab": {
          "base_uri": "https://localhost:8080/"
        },
        "id": "8Ht0KGZ13iAj",
        "outputId": "556df39d-fcdc-46d9-dd35-e762e564880a"
      },
      "execution_count": null,
      "outputs": [
        {
          "output_type": "execute_result",
          "data": {
            "text/plain": [
              "(array([[ 5.48323241e-03, -5.51868050e-03,  2.62411608e-03,\n",
              "          5.24431985e-03,  5.77248555e-03,  3.08255082e-03,\n",
              "         -2.45661220e-03, -3.44404784e-03],\n",
              "        [ 3.84177307e-03,  1.24066934e-03,  3.70686793e-03,\n",
              "          8.16716800e-03,  6.44795244e-03,  1.57752681e-03,\n",
              "         -1.19328609e-03,  1.94476098e-03],\n",
              "        [ 2.13375471e-03, -7.60616746e-03,  2.46326770e-03,\n",
              "          7.31734988e-03, -1.97762694e-03, -4.50165765e-03,\n",
              "          1.34901234e-03,  1.70538583e-03],\n",
              "        [ 4.95051656e-03, -2.56954521e-03,  3.27319901e-03,\n",
              "          7.01525323e-03,  5.25366079e-03, -2.41667668e-03,\n",
              "         -6.66731386e-04,  2.12693413e-03],\n",
              "        [ 2.30597188e-03, -8.35669551e-03,  1.73960131e-03,\n",
              "          3.95639084e-03,  6.65017480e-03,  3.49793172e-03,\n",
              "         -1.04620377e-03,  1.03976401e-03],\n",
              "        [-2.08773412e-03, -1.10023588e-03, -3.85606005e-04,\n",
              "         -1.25014342e-03, -1.93314036e-03, -3.14921609e-03,\n",
              "          6.12539316e-03, -3.51485340e-03],\n",
              "        [-8.59575962e-04, -7.57993163e-03,  4.39135984e-03,\n",
              "          3.14375651e-05,  8.22710063e-04,  3.66526546e-03,\n",
              "          5.95418677e-03,  3.90449971e-03],\n",
              "        [ 1.55563258e-03, -7.86928730e-03, -6.09760657e-04,\n",
              "          2.77463794e-03,  3.01665192e-03, -2.93113052e-03,\n",
              "         -5.34764857e-04,  9.33907385e-05],\n",
              "        [ 1.42935712e-04, -1.81424718e-03, -2.07630573e-03,\n",
              "          4.71947255e-03, -1.99286523e-03, -5.30307603e-03,\n",
              "         -6.78440939e-04,  1.29809642e-03],\n",
              "        [-2.90953400e-03, -4.30002117e-04, -1.40744853e-03,\n",
              "          1.88076079e-03,  5.82485281e-03,  3.42812940e-03,\n",
              "         -7.61543526e-04,  9.62930783e-04],\n",
              "        [ 1.58263915e-03, -4.84112066e-03,  2.24442585e-03,\n",
              "          7.86703877e-03,  1.47733496e-03, -5.79408100e-03,\n",
              "         -8.72417750e-04, -5.42688389e-04],\n",
              "        [-5.88859006e-04, -3.01428820e-03,  5.63168335e-03,\n",
              "          7.75559353e-03,  5.58408283e-03,  1.64346103e-04,\n",
              "         -1.29492242e-03, -1.28638417e-05],\n",
              "        [ 3.61818393e-03, -8.92773955e-03,  2.65273146e-03,\n",
              "          3.77844689e-03,  3.03517173e-03, -4.39176155e-03,\n",
              "          3.07830386e-03, -2.32590592e-03],\n",
              "        [-2.49200861e-03, -5.80286663e-03,  2.75101667e-03,\n",
              "          1.47466150e-04,  3.12193649e-03,  1.79047442e-03,\n",
              "         -2.09661468e-03,  2.84295042e-03],\n",
              "        [ 6.28303411e-03,  9.69842766e-04,  1.40315764e-03,\n",
              "          5.61668460e-03,  4.48349553e-03,  2.76795891e-03,\n",
              "          5.44658438e-03,  1.26188199e-03],\n",
              "        [ 2.84940921e-03, -4.28533459e-03, -2.09099994e-03,\n",
              "          5.68296229e-03,  2.74316760e-03, -4.12830405e-03,\n",
              "          5.30372008e-03,  3.43840126e-03]]), array([[0.72389659],\n",
              "        [0.06300341],\n",
              "        [0.01335015],\n",
              "        [0.98546796],\n",
              "        [0.61098155],\n",
              "        [0.00385399],\n",
              "        [0.47367645],\n",
              "        [0.5416573 ],\n",
              "        [0.56399818],\n",
              "        [0.92478201],\n",
              "        [0.65357252],\n",
              "        [0.06620789],\n",
              "        [0.30769811],\n",
              "        [0.49438965],\n",
              "        [0.41421901],\n",
              "        [0.32053717]]), array([[-0.12985635, -0.1012536 , -0.09997414, -0.13621925, -0.12224026,\n",
              "         -0.09931626, -0.11722074, -0.1180856 , -0.12141571, -0.13650928,\n",
              "         -0.12982989, -0.10210605, -0.11493596, -0.12429764, -0.10956136,\n",
              "         -0.11502984]]), array([[0.56313794]]))"
            ]
          },
          "metadata": {},
          "execution_count": 369
        }
      ]
    },
    {
      "cell_type": "code",
      "source": [
        "model.plot()"
      ],
      "metadata": {
        "colab": {
          "base_uri": "https://localhost:8080/",
          "height": 279
        },
        "id": "RWGGSmJ6xX4L",
        "outputId": "58fa9c40-416f-40b4-9a49-69b2d2ad9e19"
      },
      "execution_count": null,
      "outputs": [
        {
          "output_type": "display_data",
          "data": {
            "text/plain": [
              "<Figure size 432x288 with 1 Axes>"
            ],
            "image/png": "[encoded data removed]"
          },
          "metadata": {
            "needs_background": "light"
          }
        }
      ]
    },
    {
      "cell_type": "code",
      "source": [
        "y_pred= model.get_class(x_test)"
      ],
      "metadata": {
        "id": "vykN3yqw2sNZ"
      },
      "execution_count": null,
      "outputs": []
    },
    {
      "cell_type": "code",
      "source": [
        "model.accuracy(y_pred, y_test)"
      ],
      "metadata": {
        "colab": {
          "base_uri": "https://localhost:8080/"
        },
        "id": "XUe7moBv2uWN",
        "outputId": "8d819e0e-599b-4cf3-fa8f-958333170861"
      },
      "execution_count": null,
      "outputs": [
        {
          "output_type": "execute_result",
          "data": {
            "text/plain": [
              "31.493506493506494"
            ]
          },
          "metadata": {},
          "execution_count": 372
        }
      ]
    },
    {
      "cell_type": "code",
      "source": [],
      "metadata": {
        "id": "hDZRuFuJ8cgi"
      },
      "execution_count": null,
      "outputs": []
    }
  ]
}