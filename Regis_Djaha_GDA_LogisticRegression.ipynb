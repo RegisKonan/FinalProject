{
  "cells": [
    {
      "cell_type": "markdown",
      "metadata": {
        "id": "view-in-github",
        "colab_type": "text"
      },
      "source": [
        "<a href=\"https://colab.research.google.com/github/RegisKonan/FinalProject/blob/main/Regis_Djaha_GDA_LogisticRegression.ipynb\" target=\"_parent\"><img src=\"https://colab.research.google.com/assets/colab-badge.svg\" alt=\"Open In Colab\"/></a>"
      ]
    },
    {
      "cell_type": "markdown",
      "metadata": {
        "id": "g17Z46tmw2oZ"
      },
      "source": [
        "# GDA Implementation.\n",
        "\n",
        "Implement the Gaussian Discriminant Analysis (GDA) learning algorithm following the steps as discussed in class.\n",
        "\n",
        "INSTRUCTION: Rename your notebook as: <br>\n",
        "`firstName_LastName_Live_coding_GDA.ipynb`.\n",
        "\n",
        "Notes: \n",
        "* Do not use any built-in functions to complete a task;\n",
        "* Do not import additional libraries."
      ]
    },
    {
      "cell_type": "code",
      "execution_count": null,
      "metadata": {
        "id": "aT5nlL-QTKwv"
      },
      "outputs": [],
      "source": [
        "import numpy as np\n",
        "import matplotlib.pyplot as plt\n",
        "from sklearn.datasets import make_classification"
      ]
    },
    {
      "cell_type": "code",
      "execution_count": null,
      "metadata": {
        "colab": {
          "base_uri": "https://localhost:8080/"
        },
        "id": "_-lL4Yq9Tbzn",
        "outputId": "2b6df247-3d97-4a2f-c5f5-01d9698bca02"
      },
      "outputs": [
        {
          "output_type": "stream",
          "name": "stdout",
          "text": [
            "(1000, 3) (1000,)\n"
          ]
        }
      ],
      "source": [
        "# Generate data\n",
        "def generate_data():\n",
        "  x, y = make_classification(n_samples= 1000, n_features=3, n_redundant=0, \n",
        "                           n_informative=3, random_state=1, \n",
        "                           n_clusters_per_class=1)\n",
        "  \n",
        "  return x,y\n",
        "\n",
        "x,y= generate_data() # get data\n",
        "print(x.shape, y.shape)"
      ]
    },
    {
      "cell_type": "code",
      "execution_count": null,
      "metadata": {
        "id": "EUgiWLDhUAAK"
      },
      "outputs": [],
      "source": [
        "def split_data(x,y, train_size= 0.8):\n",
        "    # shuffle the data to randomize the train/test split\n",
        "    indices = np.random.permutation(len(y))\n",
        "    \n",
        "    # Split the shuffled indices into training and testing sets\n",
        "    train_indices = indices[:int(train_size*len(y))]\n",
        "    test_indices = indices[int(train_size*len(y)):]\n",
        "    \n",
        "    # Use the shuffled indices to extract the corresponding data\n",
        "    x_train, x_test = x[train_indices], x[test_indices]\n",
        "    y_train, y_test = y[train_indices], y[test_indices]\n",
        "    return x_train, x_test, y_train, y_test"
      ]
    },
    {
      "cell_type": "code",
      "execution_count": null,
      "metadata": {
        "colab": {
          "base_uri": "https://localhost:8080/"
        },
        "id": "HWsXEvIAkuah",
        "outputId": "b578ee06-d10f-46eb-a941-949f0fdbbc72"
      },
      "outputs": [
        {
          "output_type": "stream",
          "name": "stdout",
          "text": [
            "(800, 3) (800,) (200, 3) (200,)\n"
          ]
        }
      ],
      "source": [
        "X_train, X_test, y_train, y_test= split_data(x, y, train_size=0.8)# split your data into x_train, x_test, y_train, y_test\n",
        "print(X_train.shape, y_train.shape, X_test.shape, y_test.shape)"
      ]
    },
    {
      "cell_type": "code",
      "execution_count": null,
      "metadata": {
        "id": "LV6R7yPgkuah"
      },
      "outputs": [],
      "source": [
        "def covariance(x, mu):\n",
        "    d = x.shape[1]\n",
        "    mu=np.mean(x,axis=0)\n",
        "    cov = np.zeros((d, d))\n",
        "    for i in range(d):\n",
        "        for j in range(d):\n",
        "            cov[i, j] = np.sum((x[:,i] - mu[i]) * (x[:,j] - mu[j])) / (len(x) - 1)\n",
        "    return cov"
      ]
    },
    {
      "cell_type": "code",
      "execution_count": null,
      "metadata": {
        "colab": {
          "base_uri": "https://localhost:8080/"
        },
        "id": "IK5Hsq_dkuah",
        "outputId": "6348d1a3-4977-4374-e981-93e19ca94d70"
      },
      "outputs": [
        {
          "output_type": "stream",
          "name": "stdout",
          "text": [
            "[-0.01298493  0.99925415  0.02975341]\n"
          ]
        }
      ],
      "source": [
        "print(np.mean(x,axis=0))"
      ]
    },
    {
      "cell_type": "code",
      "execution_count": null,
      "metadata": {
        "colab": {
          "base_uri": "https://localhost:8080/"
        },
        "id": "UzCnFxP7kuai",
        "outputId": "ca9287d5-3b4e-477e-d285-1a7eae5a31a7"
      },
      "outputs": [
        {
          "output_type": "execute_result",
          "data": {
            "text/plain": [
              "array([[1.84495325, 0.02790646, 1.00137533],\n",
              "       [0.02790646, 1.00170721, 0.05539176],\n",
              "       [1.00137533, 0.05539176, 1.74832   ]])"
            ]
          },
          "metadata": {},
          "execution_count": 7
        }
      ],
      "source": [
        "mu=np.mean(x,axis=0)\n",
        "covariance(x, mu)"
      ]
    },
    {
      "cell_type": "code",
      "execution_count": null,
      "metadata": {
        "colab": {
          "base_uri": "https://localhost:8080/"
        },
        "id": "yAGyr4odkuai",
        "outputId": "c49f92bb-07be-459e-afe6-40f84078e0ef"
      },
      "outputs": [
        {
          "output_type": "execute_result",
          "data": {
            "text/plain": [
              "array([[1.84495325, 0.02790646, 1.00137533],\n",
              "       [0.02790646, 1.00170721, 0.05539176],\n",
              "       [1.00137533, 0.05539176, 1.74832   ]])"
            ]
          },
          "metadata": {},
          "execution_count": 8
        }
      ],
      "source": [
        "np.cov(x,rowvar=0)"
      ]
    },
    {
      "cell_type": "code",
      "execution_count": null,
      "metadata": {
        "id": "1ocKLDAfceF0"
      },
      "outputs": [],
      "source": [
        "class GDA:\n",
        "  def __init__(self):\n",
        "    ## set mu, phi and sigma to None\n",
        "    self.mu=None\n",
        "    self.phi=None\n",
        "    self.sigma=None\n",
        "    \n",
        "  def fit(self,x,y):\n",
        "    k=2 #np.unique(y).size  # Number of class.\n",
        "    d=x.shape[1] # input dim\n",
        "    m= x.shape[0]# Number of examples.\n",
        "    \n",
        "    ## Initialize mu, phi and sigma\n",
        "    self.mu= np.zeros((k,d))#: kxd, i.e., each row contains an individual class mu.\n",
        "    self.sigma= np.zeros((k,d,d))#: kxdxd, i.e., each row contains an individual class sigma.\n",
        "    self.phi= np.zeros((k))# d-dimension\n",
        "\n",
        "    ## START THE LEARNING: estimate mu, phi and sigma.\n",
        "    for lab in range(k):\n",
        "        \n",
        "        self.phi[lab] = np.sum(lab==y)/m \n",
        "        self.mu[lab] = np.mean(x[lab==y], axis=0)\n",
        "        self.sigma[lab] = covariance(x[lab==y], self.mu[lab])\n",
        "    return self.phi,self.mu, self.sigma\n",
        "            \n",
        "            \n",
        "\n",
        "  def predict_proba(self,x):\n",
        "    # reshape or flatt x.\n",
        "    #x= x.reshape(-1, self.mu.shape[1])\n",
        "    #x=x.reshape(-1,1)\n",
        "    #x=self.mu.shape[0]\n",
        "    d= x.shape[0]\n",
        "    #k_class = self.mu.shape[0] \n",
        "    k_class= self.mu.shape[0]  # Number of classes we have in our case it's k = 2\n",
        "    probabilities = np.zeros((d, k_class))\n",
        "    det_cov = []\n",
        "    inv_cov = []\n",
        "    \n",
        "    ## START THE LEARNING: estimate mu, phi and sigma.\n",
        "    for lab in range(k_class):\n",
        "        det_cov= np.linalg.det(self.sigma[lab])\n",
        "        inv_cov=np.linalg.inv(self.sigma[lab])\n",
        "        for j in range(x.shape[0]):\n",
        "            first_term=1/((2*np.pi)**(d/2)*(det_cov**0.5))\n",
        "            #first_term=((1/(((2*np.pi)**(d/2))*(det_cov**0.5)))\n",
        "            exponential=-0.5*((x[j]-self.mu[lab]).T)@(inv_cov)@(x[j]-self.mu[lab])\n",
        "            second_term=np.exp(exponential)\n",
        "            probabilities[j, lab] = first_term*second_term*self.phi[lab]\n",
        "    return probabilities\n",
        "\n",
        "  def predict(self,x):\n",
        "    predict=self.predict_proba(x)\n",
        "    \n",
        "    y = np.argmax(predict,axis = 1)\n",
        "    #Predict = np.argmax(self.predict_proba(x))\n",
        "    return y\n",
        "    \n",
        "  \n",
        "  def accuracy(self, y, ypreds):\n",
        "#     ypred = self.predict(y)\n",
        "    result = np.mean(y == ypreds)\n",
        "    return result * 100 "
      ]
    },
    {
      "cell_type": "code",
      "execution_count": null,
      "metadata": {
        "id": "l_qO0Yp1c3Is",
        "colab": {
          "base_uri": "https://localhost:8080/"
        },
        "outputId": "d7c70abf-dde8-4dd5-fc23-f1e01688d098"
      },
      "outputs": [
        {
          "output_type": "execute_result",
          "data": {
            "text/plain": [
              "(array([0.50125, 0.49875]), array([[ 1.01096213,  0.95110566,  0.99790818],\n",
              "        [-1.02896802,  0.9313387 , -0.92918824]]), array([[[ 0.85771654, -0.35185093, -0.05609768],\n",
              "         [-0.35185093,  1.63237487,  0.08749909],\n",
              "         [-0.05609768,  0.08749909,  0.03753235]],\n",
              " \n",
              "        [[ 0.7646255 ,  0.32103313,  0.14579357],\n",
              "         [ 0.32103313,  0.34317116, -0.05977341],\n",
              "         [ 0.14579357, -0.05977341,  1.62657633]]]))"
            ]
          },
          "metadata": {},
          "execution_count": 11
        }
      ],
      "source": [
        "model= GDA()\n",
        "model.fit(X_train,y_train)"
      ]
    },
    {
      "cell_type": "code",
      "execution_count": null,
      "metadata": {
        "id": "NKY1eojY1l4e",
        "colab": {
          "base_uri": "https://localhost:8080/"
        },
        "outputId": "7c6f0232-9bbe-4f61-b28a-c72122b0755f"
      },
      "outputs": [
        {
          "output_type": "execute_result",
          "data": {
            "text/plain": [
              "array([[4.72427614e-081, 9.40365784e-084],\n",
              "       [4.39885767e-081, 2.16134527e-083],\n",
              "       [1.88873946e-080, 5.28836763e-084],\n",
              "       [2.26965753e-080, 1.54819892e-082],\n",
              "       [2.28091170e-080, 1.00352119e-083],\n",
              "       [1.30795069e-081, 2.48589677e-082],\n",
              "       [6.81750560e-230, 1.69129622e-081],\n",
              "       [5.45315535e-083, 1.22505589e-081],\n",
              "       [1.70916947e-080, 6.01858641e-083],\n",
              "       [1.34551669e-080, 4.83688769e-083],\n",
              "       [7.75507506e-111, 2.18757229e-081],\n",
              "       [2.37957814e-080, 1.03833446e-082],\n",
              "       [3.10064531e-080, 1.52060955e-084],\n",
              "       [5.75740327e-131, 9.96873262e-083],\n",
              "       [3.12542477e-096, 6.60102747e-081],\n",
              "       [5.46400922e-081, 4.23910170e-083],\n",
              "       [1.77370765e-080, 9.04645917e-083],\n",
              "       [2.86946760e-090, 1.19138943e-080],\n",
              "       [2.42852668e-081, 1.66204795e-086],\n",
              "       [2.40959271e-080, 2.76156889e-082],\n",
              "       [1.02813130e-082, 1.67227568e-100],\n",
              "       [1.11026040e-239, 7.37482102e-082],\n",
              "       [9.50266295e-296, 2.03122892e-082],\n",
              "       [2.34622874e-133, 8.41105374e-081],\n",
              "       [3.86999102e-133, 1.31792862e-080],\n",
              "       [1.04119832e-081, 2.69610236e-085],\n",
              "       [4.27342940e-192, 4.27684513e-081],\n",
              "       [1.10985660e-118, 1.00052354e-080],\n",
              "       [1.37917342e-151, 7.02430538e-081],\n",
              "       [1.22812373e-080, 2.38616899e-086],\n",
              "       [5.35041565e-081, 7.13356886e-088],\n",
              "       [1.50067887e-118, 1.48640767e-080],\n",
              "       [1.25940795e-080, 1.14604891e-083],\n",
              "       [9.92054899e-082, 6.90253608e-089],\n",
              "       [1.75508134e-080, 1.40903058e-086],\n",
              "       [1.42257379e-127, 1.11042457e-080],\n",
              "       [5.81972568e-087, 3.38821870e-081],\n",
              "       [6.38528430e-153, 6.28682843e-081],\n",
              "       [1.76335505e-081, 1.96756420e-086],\n",
              "       [2.75050969e-136, 1.18659671e-080],\n",
              "       [5.82736912e-082, 6.52514219e-084],\n",
              "       [2.45477912e-102, 4.74988705e-081],\n",
              "       [2.35350269e-080, 9.96291444e-082],\n",
              "       [9.83395536e-103, 3.37708451e-081],\n",
              "       [5.54684113e-081, 1.43087999e-081],\n",
              "       [7.95277074e-087, 7.38234903e-082],\n",
              "       [2.63487900e-080, 4.88729894e-082],\n",
              "       [1.06064444e-080, 1.49466574e-087],\n",
              "       [2.76676039e-128, 1.09094637e-080],\n",
              "       [1.98563598e-080, 8.17981611e-083],\n",
              "       [7.23285651e-119, 1.06228217e-080],\n",
              "       [1.42515709e-129, 1.12598041e-080],\n",
              "       [1.41985121e-116, 9.95388898e-081],\n",
              "       [2.82655668e-081, 8.43782722e-101],\n",
              "       [3.28121629e-080, 8.78696960e-084],\n",
              "       [4.47662979e-081, 9.13137347e-087],\n",
              "       [1.94115832e-080, 2.53925058e-081],\n",
              "       [8.79800695e-081, 4.19798558e-081],\n",
              "       [9.90645113e-103, 2.34915016e-081],\n",
              "       [3.43785021e-101, 1.32565434e-080],\n",
              "       [2.38076324e-080, 2.33590971e-081],\n",
              "       [1.10715778e-092, 2.54936691e-082],\n",
              "       [1.45679482e-080, 1.11030898e-082],\n",
              "       [2.47089639e-126, 4.66981733e-081],\n",
              "       [3.53272818e-131, 5.02095266e-081],\n",
              "       [2.24587313e-080, 5.91207146e-083],\n",
              "       [1.42558857e-080, 8.49399682e-083],\n",
              "       [3.69881317e-081, 3.80823164e-084],\n",
              "       [2.98333865e-080, 1.92495394e-083],\n",
              "       [4.82110223e-111, 6.18593361e-082],\n",
              "       [1.78387233e-101, 8.73169270e-081],\n",
              "       [6.83503682e-081, 1.68967009e-088],\n",
              "       [2.90921980e-080, 7.35968185e-082],\n",
              "       [2.58119688e-081, 5.11366350e-084],\n",
              "       [1.48484955e-166, 7.70980295e-081],\n",
              "       [1.14074355e-139, 8.73438268e-081],\n",
              "       [1.34748812e-080, 1.24908655e-081],\n",
              "       [4.66757286e-111, 9.23940691e-081],\n",
              "       [3.02287483e-080, 3.53549463e-083],\n",
              "       [5.72864945e-081, 3.53185847e-081],\n",
              "       [1.08825180e-081, 1.32486969e-081],\n",
              "       [2.94779071e-080, 6.30611145e-083],\n",
              "       [7.92957810e-081, 7.86277328e-086],\n",
              "       [8.38840352e-081, 7.78413731e-084],\n",
              "       [5.58522473e-159, 6.35763939e-081],\n",
              "       [1.12580748e-080, 5.69892729e-083],\n",
              "       [2.37173738e-080, 1.31479999e-084],\n",
              "       [4.79694711e-090, 2.03937786e-081],\n",
              "       [9.93681804e-087, 7.11967508e-081],\n",
              "       [4.95356515e-082, 2.87656217e-103],\n",
              "       [7.38340791e-102, 1.20208116e-080],\n",
              "       [4.04538933e-099, 3.04373690e-081],\n",
              "       [8.24596385e-186, 3.79797691e-081],\n",
              "       [1.01546432e-081, 5.07240627e-081],\n",
              "       [2.75991166e-105, 9.37770618e-081],\n",
              "       [1.20608686e-173, 3.75923199e-081],\n",
              "       [1.16274246e-082, 1.26644618e-081],\n",
              "       [1.43469013e-202, 2.80529679e-081],\n",
              "       [5.45124917e-097, 1.40537567e-080],\n",
              "       [1.00973782e-119, 5.17434064e-081],\n",
              "       [1.81026169e-080, 1.39441132e-081],\n",
              "       [3.19376387e-081, 8.42079404e-086],\n",
              "       [1.27902647e-080, 2.32118782e-083],\n",
              "       [1.91543123e-080, 1.15498330e-081],\n",
              "       [1.77903291e-090, 1.07461740e-080],\n",
              "       [1.52647162e-083, 1.40774993e-081],\n",
              "       [2.94163473e-080, 2.62398842e-085],\n",
              "       [1.50668932e-112, 2.95919145e-081],\n",
              "       [1.28730074e-081, 1.14329241e-085],\n",
              "       [4.96575699e-137, 1.20286370e-080],\n",
              "       [7.44189955e-081, 2.63473054e-085],\n",
              "       [1.02732742e-117, 3.95844636e-081],\n",
              "       [9.20674265e-083, 4.98077964e-082],\n",
              "       [1.65196536e-115, 1.07864907e-080],\n",
              "       [1.35269927e-080, 1.44121741e-082],\n",
              "       [1.46313328e-080, 4.37458560e-082],\n",
              "       [2.75910253e-080, 6.69227924e-085],\n",
              "       [1.02569838e-147, 6.34328812e-081],\n",
              "       [9.11991306e-081, 1.84642055e-087],\n",
              "       [1.54745753e-135, 4.19225059e-081],\n",
              "       [1.37513634e-091, 7.20419712e-081],\n",
              "       [4.29722133e-150, 5.67541611e-081],\n",
              "       [3.44627310e-080, 4.38016084e-083],\n",
              "       [1.63337813e-135, 8.22033492e-081],\n",
              "       [2.91871721e-080, 2.14167769e-083],\n",
              "       [2.73506506e-080, 1.02729742e-082],\n",
              "       [3.05655712e-080, 1.31357637e-081],\n",
              "       [5.17852247e-082, 4.25119403e-081],\n",
              "       [7.25327028e-132, 5.23753176e-082],\n",
              "       [1.26441815e-084, 1.82076347e-081],\n",
              "       [9.40358098e-081, 8.35261660e-083],\n",
              "       [4.39051694e-124, 5.33926523e-081],\n",
              "       [1.84090968e-080, 1.05473575e-088],\n",
              "       [9.74370244e-081, 3.24915750e-082],\n",
              "       [3.14055960e-080, 4.13274850e-082],\n",
              "       [1.29973975e-080, 1.30872227e-082],\n",
              "       [3.16201264e-193, 1.50730274e-081],\n",
              "       [2.35001302e-091, 9.85956132e-081],\n",
              "       [1.99682790e-081, 2.13692695e-091],\n",
              "       [8.58355622e-082, 1.23053536e-089],\n",
              "       [5.67076394e-094, 8.34578095e-081],\n",
              "       [2.21434445e-113, 9.68203787e-081],\n",
              "       [2.13917477e-130, 1.25333291e-080],\n",
              "       [2.18637971e-096, 6.63213011e-082],\n",
              "       [7.74913541e-094, 3.80881958e-081],\n",
              "       [4.44093667e-104, 9.56463401e-081],\n",
              "       [3.81645976e-089, 1.89699010e-082],\n",
              "       [7.27818186e-081, 3.02299430e-086],\n",
              "       [3.72300890e-109, 9.24980769e-081],\n",
              "       [3.60886735e-081, 1.30510076e-083],\n",
              "       [3.33771146e-080, 9.24011150e-085],\n",
              "       [9.93629773e-082, 3.57486910e-084],\n",
              "       [1.06149344e-137, 9.13034353e-081],\n",
              "       [1.08748235e-083, 5.14616904e-081],\n",
              "       [1.57406608e-130, 3.81562767e-081],\n",
              "       [1.10985840e-081, 4.44382836e-084],\n",
              "       [4.82765549e-081, 1.42668258e-083],\n",
              "       [4.91148409e-090, 2.05603906e-081],\n",
              "       [4.43849334e-084, 3.05490872e-082],\n",
              "       [3.35852402e-084, 8.89723279e-082],\n",
              "       [2.62585656e-116, 3.58886859e-081],\n",
              "       [1.41851184e-170, 8.02280160e-082],\n",
              "       [1.21654837e-113, 1.31279291e-081],\n",
              "       [3.77579232e-081, 2.20787255e-084],\n",
              "       [1.73767311e-081, 3.61179279e-083],\n",
              "       [1.25057016e-144, 9.53295989e-081],\n",
              "       [4.86764728e-081, 5.06270523e-081],\n",
              "       [6.09376584e-105, 7.75801869e-081],\n",
              "       [3.92118509e-124, 8.23911128e-081],\n",
              "       [8.69458008e-081, 9.90141124e-082],\n",
              "       [6.84374744e-081, 4.11695488e-081],\n",
              "       [1.40949129e-080, 1.98465328e-081],\n",
              "       [3.78576695e-102, 7.68491439e-081],\n",
              "       [5.98877935e-081, 9.79737127e-082],\n",
              "       [8.64780966e-128, 7.15687253e-083],\n",
              "       [2.33139430e-080, 1.39743150e-087],\n",
              "       [1.71990381e-080, 1.94881435e-084],\n",
              "       [1.30353701e-080, 9.16295124e-082],\n",
              "       [3.71331567e-081, 2.29444826e-082],\n",
              "       [1.74559666e-080, 4.38542230e-083],\n",
              "       [1.10879130e-080, 3.08012716e-082],\n",
              "       [5.06419177e-090, 1.07211668e-080],\n",
              "       [4.20505405e-081, 4.17498454e-087],\n",
              "       [1.95239782e-080, 1.22252953e-087],\n",
              "       [1.44326273e-080, 3.10109683e-089],\n",
              "       [1.12817916e-080, 3.66476685e-087],\n",
              "       [7.53252398e-086, 8.22598757e-081],\n",
              "       [2.58244960e-113, 3.02215096e-081],\n",
              "       [4.54620437e-082, 3.47206788e-093],\n",
              "       [2.79706430e-166, 5.86097514e-082],\n",
              "       [1.44482641e-153, 2.92092351e-081],\n",
              "       [2.22498009e-080, 7.13551405e-083],\n",
              "       [8.93043905e-163, 1.82833070e-081],\n",
              "       [1.46836101e-082, 3.62695593e-081],\n",
              "       [1.81232346e-168, 5.69770426e-082],\n",
              "       [2.25782251e-116, 9.96304880e-081],\n",
              "       [1.72291575e-107, 4.83689775e-081],\n",
              "       [4.84645361e-131, 3.37583526e-081],\n",
              "       [1.48963509e-080, 3.61397172e-081],\n",
              "       [1.45900474e-080, 7.56705871e-083]])"
            ]
          },
          "metadata": {},
          "execution_count": 12
        }
      ],
      "source": [
        "yproba= model.predict_proba(X_test)\n",
        "yproba"
      ]
    },
    {
      "cell_type": "code",
      "execution_count": null,
      "metadata": {
        "id": "D4clV6PK1UJK",
        "colab": {
          "base_uri": "https://localhost:8080/"
        },
        "outputId": "f4ec74f2-043d-4159-e0e1-a90d5e1dafd7"
      },
      "outputs": [
        {
          "output_type": "execute_result",
          "data": {
            "text/plain": [
              "array([0, 0, 0, 0, 0, 0, 1, 1, 0, 0, 1, 0, 0, 1, 1, 0, 0, 1, 0, 0, 0, 1,\n",
              "       1, 1, 1, 0, 1, 1, 1, 0, 0, 1, 0, 0, 0, 1, 1, 1, 0, 1, 0, 1, 0, 1,\n",
              "       0, 1, 0, 0, 1, 0, 1, 1, 1, 0, 0, 0, 0, 0, 1, 1, 0, 1, 0, 1, 1, 0,\n",
              "       0, 0, 0, 1, 1, 0, 0, 0, 1, 1, 0, 1, 0, 0, 1, 0, 0, 0, 1, 0, 0, 1,\n",
              "       1, 0, 1, 1, 1, 1, 1, 1, 1, 1, 1, 1, 0, 0, 0, 0, 1, 1, 0, 1, 0, 1,\n",
              "       0, 1, 1, 1, 0, 0, 0, 1, 0, 1, 1, 1, 0, 1, 0, 0, 0, 1, 1, 1, 0, 1,\n",
              "       0, 0, 0, 0, 1, 1, 0, 0, 1, 1, 1, 1, 1, 1, 1, 0, 1, 0, 0, 0, 1, 1,\n",
              "       1, 0, 0, 1, 1, 1, 1, 1, 1, 0, 0, 1, 1, 1, 1, 0, 0, 0, 1, 0, 1, 0,\n",
              "       0, 0, 0, 0, 0, 1, 0, 0, 0, 0, 1, 1, 0, 1, 1, 0, 1, 1, 1, 1, 1, 1,\n",
              "       0, 0])"
            ]
          },
          "metadata": {},
          "execution_count": 13
        }
      ],
      "source": [
        "ypreds= model.predict(X_test)\n",
        "ypreds\n"
      ]
    },
    {
      "cell_type": "code",
      "execution_count": null,
      "metadata": {
        "id": "QgG1xPUg1ULw",
        "colab": {
          "base_uri": "https://localhost:8080/"
        },
        "outputId": "92c62e47-c613-40e1-e30a-eee77e6c72da"
      },
      "outputs": [
        {
          "output_type": "execute_result",
          "data": {
            "text/plain": [
              "97.0"
            ]
          },
          "metadata": {},
          "execution_count": 14
        }
      ],
      "source": [
        "model.accuracy(y_test, ypreds)"
      ]
    },
    {
      "cell_type": "code",
      "execution_count": null,
      "metadata": {
        "id": "OpXYY-yj1UOj"
      },
      "outputs": [],
      "source": [
        "class LogisticRegression:\n",
        "  '''\n",
        "  The goal of this class is to create a LogisticRegression class, \n",
        "  that we will use as our model to classify data point into a corresponding class\n",
        "  '''\n",
        "  def __init__(self,lr,n_epochs):\n",
        "    self.lr = lr\n",
        "    self.n_epochs = n_epochs\n",
        "    self.train_losses = []\n",
        "    self.w = None\n",
        "    self.weight = []\n",
        "\n",
        "  def add_ones(self, x):\n",
        "    ##### WRITE YOUR CODE HERE #####\n",
        "    one = np.ones((x.shape[0],1))\n",
        "    return np.hstack((one,x))\n",
        "    #### END CODE ####\n",
        "\n",
        "  def sigmoid(self, x):\n",
        "    return 1/(1+np.exp(-x@self.w))\n",
        "\n",
        "\n",
        "  def cross_entropy(self, x, y_true):\n",
        "    ##### WRITE YOUR CODE HERE #####\n",
        "    y_pred = self.sigmoid(x)\n",
        "    loss = -np.mean(y_true*np.log(y_pred)+(1-y_true)*np.log(1-y_pred))\n",
        "    return loss\n",
        "    #### END CODE ####\n",
        "  \n",
        "  def predict_proba(self,x):  #This function will use the sigmoid function to compute the probalities\n",
        "    ##### WRITE YOUR CODE HERE #####\n",
        "    x= self.add_ones(x)\n",
        "    proba = self.sigmoid(x)\n",
        "    return proba\n",
        "    #### END CODE ####\n",
        "\n",
        "  def predict(self,x):\n",
        "    ##### WRITE YOUR CODE HERE #####\n",
        "    probas = self.predict_proba(x)\n",
        "    output = [0 if p<0.5 else 1 for p in probas]#np.where(probas>=0.5, 1, 0)      #convert the probalities into 0 and 1 by using a treshold=0.5\n",
        "    return output\n",
        "    #### END CODE ####\n",
        "\n",
        "  def fit(self,x,y):\n",
        "    # Add ones to x\n",
        "    x=self.add_ones(x)\n",
        "\n",
        "    # reshape y if needed\n",
        "    y=y.reshape(-1,1)\n",
        "\n",
        "    # Initialize w to zeros vector >>> (x.shape[1])\n",
        "    self.w=np.zeros((x.shape[1],1))\n",
        "\n",
        "    for epoch in range(self.n_epochs):\n",
        "      # make predictions\n",
        "      ypred = self.sigmoid(x)\n",
        "\n",
        "      #compute the gradient\n",
        "      dl = (-1/x.shape[0])*(x.T@(y-ypred))\n",
        "\n",
        "      #update rule\n",
        "      self.w=self.w-self.lr*dl\n",
        "\n",
        "      #Compute and append the training loss in a list\n",
        "      loss = self.cross_entropy(x,y)\n",
        "      self.train_losses.append(loss)\n",
        "\n",
        "      if epoch%1000 == 0:\n",
        "        print(f'loss for epoch {epoch}  : {loss}')\n",
        "\n",
        "  def accuracy(self,y_true, y_pred):\n",
        "    ##### WRITE YOUR CODE HERE #####\n",
        "    acc = np.mean(y_true==y_pred)*100\n",
        "    return acc\n",
        "    #### END CODE ####"
      ]
    },
    {
      "cell_type": "code",
      "execution_count": null,
      "metadata": {
        "id": "8cvRcUO2rtKo",
        "colab": {
          "base_uri": "https://localhost:8080/"
        },
        "outputId": "11e1096a-ea78-4789-a2e9-b1a56bf8188b"
      },
      "outputs": [
        {
          "output_type": "stream",
          "name": "stdout",
          "text": [
            "loss for epoch 0  : 0.6882420338737469\n",
            "loss for epoch 1000  : 0.19330810585946673\n",
            "loss for epoch 2000  : 0.1691979670501055\n",
            "loss for epoch 3000  : 0.16028077515764566\n",
            "loss for epoch 4000  : 0.15550339106341185\n",
            "loss for epoch 5000  : 0.1524625086549569\n",
            "loss for epoch 6000  : 0.15032926909948766\n",
            "loss for epoch 7000  : 0.14874049210142104\n",
            "loss for epoch 8000  : 0.14751029598305337\n",
            "loss for epoch 9000  : 0.14653223423413902\n"
          ]
        }
      ],
      "source": [
        "model = LogisticRegression(0.01,n_epochs=10000)\n",
        "model.fit(X_train,y_train)"
      ]
    },
    {
      "cell_type": "code",
      "source": [
        "ypred_train = model.predict(X_train)\n",
        "acc = model.accuracy(y_train,ypred_train)\n",
        "print(f\"The training accuracy is: {acc}\")\n",
        "print(\" \")\n",
        "\n",
        "ypred_test = model.predict(X_test)\n",
        "acc = model.accuracy(y_test,ypred_test)\n",
        "print(f\"The test accuracy is: {acc}\")"
      ],
      "metadata": {
        "colab": {
          "base_uri": "https://localhost:8080/"
        },
        "id": "sfrBEc3osqK5",
        "outputId": "072bbc32-277c-4d98-8776-19f74d51cffe"
      },
      "execution_count": null,
      "outputs": [
        {
          "output_type": "stream",
          "name": "stdout",
          "text": [
            "The training accuracy is: 95.75\n",
            " \n",
            "The test accuracy is: 93.5\n"
          ]
        }
      ]
    },
    {
      "cell_type": "code",
      "source": [],
      "metadata": {
        "id": "hGgtxwDFsuRt"
      },
      "execution_count": null,
      "outputs": []
    }
  ],
  "metadata": {
    "colab": {
      "provenance": [],
      "include_colab_link": true
    },
    "kernelspec": {
      "display_name": "Python 3 (ipykernel)",
      "language": "python",
      "name": "python3"
    },
    "language_info": {
      "codemirror_mode": {
        "name": "ipython",
        "version": 3
      },
      "file_extension": ".py",
      "mimetype": "text/x-python",
      "name": "python",
      "nbconvert_exporter": "python",
      "pygments_lexer": "ipython3",
      "version": "3.9.13"
    }
  },
  "nbformat": 4,
  "nbformat_minor": 0
}