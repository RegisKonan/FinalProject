{
  "nbformat": 4,
  "nbformat_minor": 0,
  "metadata": {
    "colab": {
      "provenance": [],
      "include_colab_link": true
    },
    "kernelspec": {
      "name": "python3",
      "display_name": "Python 3"
    },
    "language_info": {
      "name": "python"
    }
  },
  "cells": [
    {
      "cell_type": "markdown",
      "metadata": {
        "id": "view-in-github",
        "colab_type": "text"
      },
      "source": [
        "<a href=\"https://colab.research.google.com/github/RegisKonan/FinalProject/blob/main/Group_4_Students_B23FinalProject.ipynb\" target=\"_parent\"><img src=\"https://colab.research.google.com/assets/colab-badge.svg\" alt=\"Open In Colab\"/></a>"
      ]
    },
    {
      "cell_type": "markdown",
      "source": [
        "### Group Members\n",
        "* Khady Gaye\n",
        "* Abigail Naa Amankwaa Abeo\n",
        "* Elie Mulamba\n",
        "* Regis Konan Marcel Djaha"
      ],
      "metadata": {
        "id": "Qp2-oLakdCYl"
      }
    },
    {
      "cell_type": "code",
      "execution_count": null,
      "metadata": {
        "id": "9LKzn2OEm-HY"
      },
      "outputs": [],
      "source": [
        "import numpy as np\n",
        "\n",
        "import pandas as pd\n",
        "import matplotlib.pyplot as plt\n",
        "from sklearn import datasets"
      ]
    },
    {
      "cell_type": "code",
      "source": [
        "# Get Data: Do not touch it.\n",
        "def get_data():\n",
        "  data_url = \"http://lib.stat.cmu.edu/datasets/boston\"\n",
        "  raw_df = pd.read_csv(data_url, sep=\"\\s+\", skiprows=22, header=None)\n",
        "  X = np.hstack([raw_df.values[::2, :], raw_df.values[1::2, :2]])\n",
        "  y = raw_df.values[1::2, 2]\n",
        "  return X,y"
      ],
      "metadata": {
        "id": "yKBmM4qYx5eJ"
      },
      "execution_count": null,
      "outputs": []
    },
    {
      "cell_type": "code",
      "source": [
        "\n",
        "# cgs\n",
        "def cgs(A):\n",
        "  \"\"\"\n",
        "    Q,R = cgs(A)\n",
        "    Apply classical Gram-Schmidt to mxn rectangular/square matrix. \n",
        "\n",
        "    Parameters\n",
        "    -------\n",
        "    A: mxn rectangular/square matrix   \n",
        "\n",
        "    Returns\n",
        "    -------\n",
        "    Q: mxn square matrix\n",
        "    R: nxn upper triangular matrix\n",
        "\n",
        "  \"\"\"\n",
        "  # ADD YOUR CODES\n",
        "  m = A.shape[0]  # get the number of rows of A\n",
        "  n = A.shape[1] # get the number of columns of A\n",
        "\n",
        "  R = np.zeros((n,n)) # create a zero matrix of nxn\n",
        "  Q = np.ones((m,n)) # copy A (deep copy)\n",
        "\n",
        "\n",
        "  for k in range(0,n):\n",
        "    w = A[:,k]\n",
        "    #print(w)\n",
        "    \n",
        "    for j in range(k-1):\n",
        "      R[j,k] = Q[:,j].T@w\n",
        "    \n",
        "    for j in range(k-1):\n",
        "      w = w - R[j,k]*Q[:,j]\n",
        "    \n",
        "    #norm = np.linalg.norm(w)\n",
        "    \n",
        "    R[k,k] = np.linalg.norm(w)\n",
        "    Q[:,k] = w/R[k,k]\n",
        "    #print(w/R[k,k])\n",
        "\n",
        "  return  Q, R\n",
        "  \n",
        "  "
      ],
      "metadata": {
        "id": "Poc0cnUcn9dm"
      },
      "execution_count": null,
      "outputs": []
    },
    {
      "cell_type": "code",
      "source": [
        "# Implement BACK SUBS\n",
        "def backsubs(U, b):\n",
        "\n",
        "  \"\"\"\n",
        "  x = backsubs(U, b)\n",
        "  Apply back substitution for the square upper triangular system Ux=b. \n",
        "\n",
        "  Parameters\n",
        "  -------\n",
        "    U: nxn square upper triangular array\n",
        "    b: n array\n",
        "    \n",
        "\n",
        "  Returns\n",
        "  -------\n",
        "    x: n array\n",
        "  \"\"\"\n",
        "\n",
        "  n= U.shape[1]\n",
        "  x= np.zeros((n,))\n",
        "  b_copy= np.copy(b)\n",
        "\n",
        "  if U[n-1,n-1]==0.0:\n",
        "    if b[n-1] != 0.0:\n",
        "      print(\"System has no solution.\")\n",
        "  \n",
        "  else:\n",
        "    x[n-1]= b_copy[n-1]/U[n-1,n-1]\n",
        "  for i in range(n-2,-1,-1):\n",
        "    if U[i,i]==0.0:\n",
        "      if b[i]!= 0.0:\n",
        "        print(\"System has no solution.\")\n",
        "    else:\n",
        "      for j in range(i,n):\n",
        "        b_copy[i] -=U[i,j]*x[j]\n",
        "      x[i]= b_copy[i]/U[i,i]\n",
        "  return x"
      ],
      "metadata": {
        "id": "nSffMpetoCua"
      },
      "execution_count": null,
      "outputs": []
    },
    {
      "cell_type": "code",
      "source": [
        "# Add ones\n",
        "def add_ones(X):\n",
        "\n",
        "  # ADD YOUR CODES\n",
        "  a=np.ones((X.shape[0],1))\n",
        "  b=X[:,:]\n",
        "  X_new=np.hstack((a,b))\n",
        "  return X_new"
      ],
      "metadata": {
        "id": "ns5YC7RvoIgY"
      },
      "execution_count": null,
      "outputs": []
    },
    {
      "cell_type": "code",
      "source": [
        "def split_data(X,Y, train_size):\n",
        "  # ADD YOUR CODES\n",
        "  # shuffle the data before splitting it\n",
        "  Y=Y.reshape((Y.shape[0],1))\n",
        "  #print(Y.shape)\n",
        "  data=np.hstack((X,Y))\n",
        "  \n",
        "  data1=np.take(data,np.random.permutation(data.shape[0]),axis=0,out=data)\n",
        "\n",
        "  size=int(train_size*X.shape[0])\n",
        "  #print(np.shape(data1))\n",
        "  X_train=data1[:size,:-1]\n",
        "  X_test=data1[size:,:-1]\n",
        "  Y_train=data1[:size,-1]\n",
        "  Y_test=data1[size:, -1]\n",
        "\n",
        "  return X_train, X_test, Y_train.reshape(Y_train.shape[0],1), Y_test.reshape(Y_test.shape[0],1)"
      ],
      "metadata": {
        "id": "CALmjSSOoSx9"
      },
      "execution_count": null,
      "outputs": []
    },
    {
      "cell_type": "code",
      "source": [
        "def mse(y, y_pred):\n",
        "    mean_sq_error = (1/len(y)) * np.sum((y-y_pred)**2)\n",
        "    return mean_sq_error"
      ],
      "metadata": {
        "id": "NkttBusHxvRE"
      },
      "execution_count": null,
      "outputs": []
    },
    {
      "cell_type": "code",
      "source": [
        "def normalEquation(X,y):\n",
        "    theta = np.dot(np.linalg.inv(X.T@X),np.dot(X.T,y))\n",
        "    return theta"
      ],
      "metadata": {
        "id": "BZSV33yDxvUZ"
      },
      "execution_count": null,
      "outputs": []
    },
    {
      "cell_type": "code",
      "source": [
        "class LinearRegression:\n",
        "\n",
        "  def __init__(self,arg):\n",
        "    self.theta1 = 0\n",
        "    self.arg = arg\n",
        "      \n",
        "  def fit(self,x,y):\n",
        "    if self.arg == \"Normal Equation\":\n",
        "      self.theta = normalEquation(x,y)\n",
        "    elif self.arg == \"Gram Schmidt\":\n",
        "      Q1, R1 = cgs(x)\n",
        "      self.theta  =backsubs(R1, np.dot(Q1.T,y))\n",
        "    \n",
        "  def predict(self,x):\n",
        "    predicted_values = x@self.theta\n",
        "    return predicted_values"
      ],
      "metadata": {
        "id": "KAAeg5jDCK7F"
      },
      "execution_count": null,
      "outputs": []
    },
    {
      "cell_type": "code",
      "source": [
        "# getting the dataset\n",
        "X_data, Y_data = get_data()\n",
        "\n",
        "# adding a new column to the features with 1's\n",
        "new_X_data = add_ones(X_data)\n"
      ],
      "metadata": {
        "id": "a_eIEX2BF01P"
      },
      "execution_count": null,
      "outputs": []
    },
    {
      "cell_type": "code",
      "source": [
        "# splitting the dataset into train and test sets\n",
        "X_train, X_test, y_train, y_test = split_data(new_X_data, Y_data, 0.8)\n",
        "\n",
        "# Instantiate the LinearRegression class \n",
        "# You can choose between the Normal Equation method or the Gram Schmidt Method\n",
        "# For the Normal Equation, type \"Normal Method\" in the argument of the class, and \"Gram Schmidt\" for the Gram Schmidt method.\n",
        "model2= LinearRegression(\"Normal Equation\")\n",
        "\n",
        "# Train the model\n",
        "model2.fit(X_train,y_train)\n",
        "\n",
        "# Make a prediction on X_test\n",
        "y_pred3 = model2.predict(X_test)\n",
        "\n",
        "# Compute the MSE (Evaluate both, regression and classification)\n",
        "mse(y_test, y_pred3)"
      ],
      "metadata": {
        "colab": {
          "base_uri": "https://localhost:8080/"
        },
        "id": "9aBC7z2cGkoS",
        "outputId": "ba937e0b-1779-4496-947c-3e1aa42c7b4f"
      },
      "execution_count": null,
      "outputs": [
        {
          "output_type": "execute_result",
          "data": {
            "text/plain": [
              "21.894474848868803"
            ]
          },
          "metadata": {},
          "execution_count": 11
        }
      ]
    },
    {
      "cell_type": "code",
      "source": [],
      "metadata": {
        "id": "mf8PegZgJTP5"
      },
      "execution_count": null,
      "outputs": []
    }
  ]
}