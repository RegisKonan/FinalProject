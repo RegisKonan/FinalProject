{
  "nbformat": 4,
  "nbformat_minor": 0,
  "metadata": {
    "colab": {
      "provenance": [],
      "include_colab_link": true
    },
    "kernelspec": {
      "name": "python3",
      "display_name": "Python 3"
    },
    "language_info": {
      "name": "python"
    }
  },
  "cells": [
    {
      "cell_type": "markdown",
      "metadata": {
        "id": "view-in-github",
        "colab_type": "text"
      },
      "source": [
        "<a href=\"https://colab.research.google.com/github/RegisKonan/FinalProject/blob/main/regis_konan_Assignment_Data_Structure_And_Algorithms.ipynb\" target=\"_parent\"><img src=\"https://colab.research.google.com/assets/colab-badge.svg\" alt=\"Open In Colab\"/></a>"
      ]
    },
    {
      "cell_type": "markdown",
      "source": [
        "Ex1:\n",
        "\n",
        "Given a non-negative integer x, return the square root of x rounded down to the nearest integer. The returned integer should be non-negative as well.\n",
        "\n",
        "You must not use any built-in exponent function or operator or the math `sqrt` function.\n",
        "\n",
        "For example, do not use `pow(x, 0.5)` or `x ** 0.5` in python or `math.sqrt`."
      ],
      "metadata": {
        "id": "XgRGv6GtTloY"
      }
    },
    {
      "cell_type": "markdown",
      "source": [
        "Input: x = 4 <br>\n",
        "Output: 2"
      ],
      "metadata": {
        "id": "NQWzdUo-Tr77"
      }
    },
    {
      "cell_type": "code",
      "source": [
        "# write your code here\n",
        "def square_root(x):\n",
        "  \n",
        "  if (x == 0 or x == 1):\n",
        "      return x\n",
        "  start = 1\n",
        "  result = 1\n",
        "  while (result <= x):\n",
        "    start += 1\n",
        "    result = start * start\n",
        "  return start - 1\n",
        " \n",
        " \n",
        "# test\n",
        "x = 2\n",
        "print(square_root(x))"
      ],
      "metadata": {
        "colab": {
          "base_uri": "https://localhost:8080/"
        },
        "id": "7AKwlSSOAUjV",
        "outputId": "9d1952da-47c8-40e9-ace4-cb11ad26b676"
      },
      "execution_count": null,
      "outputs": [
        {
          "output_type": "stream",
          "name": "stdout",
          "text": [
            "1\n"
          ]
        }
      ]
    },
    {
      "cell_type": "code",
      "source": [
        "def mySqrt(x):\n",
        "    if x == 0:\n",
        "        return 0\n",
        "    low= 0 \n",
        "    high = x\n",
        "    while low <= high:\n",
        "        mid = (low + high) // 2\n",
        "        if mid * mid > x:\n",
        "            high = mid - 1\n",
        "        else:\n",
        "            low = mid + 1\n",
        "    return low - 1\n",
        "# test\n",
        "x = 4\n",
        "print(mySqrt(x))"
      ],
      "metadata": {
        "colab": {
          "base_uri": "https://localhost:8080/"
        },
        "id": "Cd-bauCedpwS",
        "outputId": "1eebd1b4-c7c7-4f65-adfb-6ca1aaa82f01"
      },
      "execution_count": null,
      "outputs": [
        {
          "output_type": "stream",
          "name": "stdout",
          "text": [
            "2\n"
          ]
        }
      ]
    },
    {
      "cell_type": "markdown",
      "source": [
        "Ex2:\n",
        "\n",
        "Prior to being passed to your function, nums is possibly rotated at an unknown pivot index k (1 <= k < nums.length) such that the resulting array is [nums[k], nums[k+1], ..., nums[n-1], nums[0], nums[1], ..., nums[k-1]] (0-indexed). For example, [0,1,2,4,5,6,7] might be rotated at pivot index 3 and become [4,5,6,7,0,1,2].\n",
        "\n",
        "Given the array nums after the possible rotation and an integer target, return the index of target if it is in nums, or -1 if it is not in nums.\n",
        "\n",
        "You must write an algorithm with O(log n) runtime complexity.\n",
        "\n",
        "Input: nums = [4,5,6,7,0,1,2],  target = 0 <br><br>\n",
        "Output: 4\n",
        "\n",
        "Input: nums = [4,5,6,7,0,1,2], target = 3 <br><br>\n",
        "Output: -1"
      ],
      "metadata": {
        "id": "0SI8D30UUBw5"
      }
    },
    {
      "cell_type": "code",
      "source": [
        "def search(nums, target) :\n",
        "  if target not in nums:\n",
        "    return -1\n",
        "  elif len(nums) < 1:\n",
        "    return -1\n",
        "  for index, number in enumerate(nums):\n",
        "    if number == target:\n",
        "      return index\n",
        "#nums = [4,5,6,7,0,1,2]\n",
        "#target = 0 \n",
        "nums = [4,5,6,7,0,1,2]\n",
        "target = 0\n",
        "search(nums, target)"
      ],
      "metadata": {
        "id": "NwfClgnZUOBi",
        "colab": {
          "base_uri": "https://localhost:8080/"
        },
        "outputId": "63276312-953d-4b35-f3f6-5101a177af2e"
      },
      "execution_count": null,
      "outputs": [
        {
          "output_type": "execute_result",
          "data": {
            "text/plain": [
              "4"
            ]
          },
          "metadata": {},
          "execution_count": 2
        }
      ]
    },
    {
      "cell_type": "markdown",
      "source": [
        "Ex3:\n",
        "\n",
        "implement 2-way merging to sort an array, and test it on this <br> <br> array: [2,4,6,3,7,9,14,11,13]"
      ],
      "metadata": {
        "id": "-FR_m3TUUYdR"
      }
    },
    {
      "cell_type": "code",
      "source": [
        "# write your code here\n",
        "def merging_sort(array):\n",
        "  if len(array) > 1:\n",
        "    mid = len(array) // 2  \n",
        "    left = array[:mid]  \n",
        "    right = array[mid:]  \n",
        "    merging_sort(left)\n",
        "    merging_sort(right)\n",
        "    i = j = k = 0\n",
        "\n",
        "    while i < len(left) and j < len(right):\n",
        "      if left[i] < right[j]:\n",
        "         array[k] = left[i]\n",
        "         i += 1\n",
        "      else:\n",
        "        array[k] = right[j]\n",
        "        j += 1\n",
        "      k += 1\n",
        "\n",
        "    while i < len(left):\n",
        "      array[k] = left[i]\n",
        "      i += 1\n",
        "      k += 1\n",
        "    \n",
        "    while j < len(right):\n",
        "      array[k] = right[j]\n",
        "      j += 1\n",
        "      k += 1\n",
        "\n",
        "def print_list(array):\n",
        "  for i in range(len(array)):\n",
        "    print(array[i], end=\" \")\n",
        "  print()\n",
        "\n",
        "if __name__ == '__main__':\n",
        "  array = [2,4,6,3,7,9,14,11,13]\n",
        "  print(\"Given array is\", end=\"\\n\")\n",
        "  print_list(array)\n",
        "  merging_sort(array)\n",
        "  print(\"Sorted array is: \", end=\"\\n\")\n",
        "  print_list(array)"
      ],
      "metadata": {
        "id": "UAAlp4oiUwqM",
        "colab": {
          "base_uri": "https://localhost:8080/"
        },
        "outputId": "0b8e65aa-1bad-4e83-96f0-a6e07763b5ee"
      },
      "execution_count": null,
      "outputs": [
        {
          "output_type": "stream",
          "name": "stdout",
          "text": [
            "Given array is\n",
            "2 4 6 3 7 9 14 11 13 \n",
            "Sorted array is: \n",
            "2 3 4 6 7 9 11 13 14 \n"
          ]
        }
      ]
    },
    {
      "cell_type": "markdown",
      "source": [
        "Ex4:\n",
        "\n",
        "Given the head of a singly linked list, reverse the list, and return the reversed list."
      ],
      "metadata": {
        "id": "Xs8lUrRhfMbp"
      }
    },
    {
      "cell_type": "markdown",
      "source": [
        "Input: head = [1,2,3,4,5] <br>\n",
        "Output: [5,4,3,2,1]"
      ],
      "metadata": {
        "id": "FowhLbesfUsi"
      }
    },
    {
      "cell_type": "code",
      "source": [
        "# Definition for singly-linked list.\n",
        "class ListNode:\n",
        "  def __init__(self, val=0, next=None):\n",
        "        self.val = val\n",
        "        self.next = next\n",
        "        "
      ],
      "metadata": {
        "id": "9ipBgtwufcDW"
      },
      "execution_count": null,
      "outputs": []
    },
    {
      "cell_type": "code",
      "source": [
        "class ListNode:\n",
        " \n",
        "    # Constructor to initialize the node object\n",
        "    def __init__(self, val=0, next=None):\n",
        "        self.val = val\n",
        "        self.next = next\n",
        " \n",
        " \n",
        "class LinkedList:\n",
        " \n",
        "    # Function to initialize head\n",
        "    def __init__(self):\n",
        "        self.head = None\n",
        " \n",
        "    # Function to reverse the linked list\n",
        "    def reverse(self):\n",
        "        prev = None\n",
        "        current = self.head\n",
        "        while(current is not None):\n",
        "            next = current.next\n",
        "            current.next = prev\n",
        "            prev = current\n",
        "            current = next\n",
        "        self.head = prev\n",
        " \n",
        "    # Function to insert a new node at the beginning\n",
        "    def beginning(self, new_val):\n",
        "        new_node = ListNode(new_val)\n",
        "        new_node.next = self.head\n",
        "        self.head = new_node\n",
        "            # Utility function to print the LinkedList\n",
        "    def display(self):\n",
        "        temp = self.head\n",
        "        while(temp):\n",
        "            print(temp.val, end=\" \")\n",
        "            temp = temp.next\n",
        " \n",
        " \n",
        "# Driver code\n",
        "lst = LinkedList()\n",
        "lst.beginning(1)\n",
        "lst.beginning(2)\n",
        "lst.beginning(3)\n",
        "lst.beginning(4)\n",
        "lst.beginning(5)\n",
        " \n",
        "print (\"Given linked list\")\n",
        "lst.display()\n",
        "lst.reverse()\n",
        "print (\"\\nReversed linked list\")\n",
        "lst.display()"
      ],
      "metadata": {
        "colab": {
          "base_uri": "https://localhost:8080/"
        },
        "id": "mJodHtFpV3FT",
        "outputId": "66440255-72ba-4fd4-8f6e-a3baaf522b94"
      },
      "execution_count": null,
      "outputs": [
        {
          "output_type": "stream",
          "name": "stdout",
          "text": [
            "Given linked list\n",
            "5 4 3 2 1 \n",
            "Reversed linked list\n",
            "1 2 3 4 5 "
          ]
        }
      ]
    },
    {
      "cell_type": "markdown",
      "source": [
        "Ex5:\n",
        "\n",
        "Given a string s, write a function reverseString that returns the reversed string of s using stack\n",
        "\n",
        "Input: abc\n",
        "\n",
        "output: cba\n",
        "\n",
        "Input: abc def\n",
        "\n",
        "\n",
        "output: fed cba"
      ],
      "metadata": {
        "id": "nQZiryQ2pCz3"
      }
    },
    {
      "cell_type": "code",
      "source": [
        "def reverseString(s):\n",
        "  pass"
      ],
      "metadata": {
        "id": "icpfXSiVpwtU"
      },
      "execution_count": null,
      "outputs": []
    },
    {
      "cell_type": "code",
      "source": [
        "def createStack():\n",
        "    stack = []\n",
        "    return stack\n",
        "\n",
        "def size(stack):\n",
        "    return len(stack)\n",
        "\n",
        "def isEmpty(stack):\n",
        "    if size(stack) == 0:\n",
        "        return True\n",
        "\n",
        "def push(stack, item):\n",
        "    stack.append(item)\n",
        "\n",
        "def pop(stack):\n",
        "    if isEmpty(stack):\n",
        "        return\n",
        "    return stack.pop()\n",
        "\n",
        "def reverseString(s):\n",
        "    n = len(s)\n",
        "    stack = createStack()\n",
        "    for i in range(0, n, 1):\n",
        "        push(stack, s[i])\n",
        "    s = \"\"\n",
        "\n",
        "    for i in range(0, n, 1):\n",
        "        s += pop(stack)\n",
        "    return s    \n",
        "# test\n",
        "#string = \"abc\"\n",
        "s = 'abc def'\n",
        "string = reverseString(s)\n",
        "print(\"Reversed string is \" + string)\n"
      ],
      "metadata": {
        "colab": {
          "base_uri": "https://localhost:8080/"
        },
        "id": "6IFdVHIYlUGG",
        "outputId": "1f53d18c-e166-458b-a0bc-7dd5db2bff98"
      },
      "execution_count": null,
      "outputs": [
        {
          "output_type": "stream",
          "name": "stdout",
          "text": [
            "Reversed string is fed cba\n"
          ]
        }
      ]
    },
    {
      "cell_type": "markdown",
      "source": [
        "Ex6: \n",
        "\n",
        "Add a method searchItem(item) in the class LinkedList (saw in class) that returns true if an item is present in a linked list and False else"
      ],
      "metadata": {
        "id": "QelNNz6Hp6gE"
      }
    },
    {
      "cell_type": "code",
      "source": [
        "def searchItem(self, item):\n",
        "  # write your code here\n",
        "  return"
      ],
      "metadata": {
        "id": "U-NnZs7Rp4Gh"
      },
      "execution_count": null,
      "outputs": []
    },
    {
      "cell_type": "code",
      "source": [
        "class Node:\n",
        "    def __init__(self, data):\n",
        "        self.data = data\n",
        "        self.next = None\n",
        "\n",
        "class LinkedList:\n",
        "    def __init__(self):\n",
        "        self.head = None\n",
        "\n",
        "    def searchItem(self, item):\n",
        "        curr = self.head\n",
        "        while curr is not None:\n",
        "            if curr.data == item:\n",
        "                return True\n",
        "            curr = curr.next\n",
        "        return False"
      ],
      "metadata": {
        "id": "dCjYmO_mhGGj"
      },
      "execution_count": null,
      "outputs": []
    },
    {
      "cell_type": "code",
      "source": [
        "List = LinkedList()\n",
        "\n",
        "List.head = Node(1)\n",
        "second = Node(2)\n",
        "third = Node(3)\n",
        "List.head.next = second\n",
        "second.next = third\n",
        "\n",
        "#print(List.searchItem(2))  # True\n",
        "print(List.searchItem(7))  # False"
      ],
      "metadata": {
        "colab": {
          "base_uri": "https://localhost:8080/"
        },
        "id": "IY885eUrhHvc",
        "outputId": "ea851c75-f978-4850-dc84-a73bf2185e30"
      },
      "execution_count": null,
      "outputs": [
        {
          "output_type": "stream",
          "name": "stdout",
          "text": [
            "False\n"
          ]
        }
      ]
    },
    {
      "cell_type": "markdown",
      "source": [
        "Ex7:\n",
        "\n",
        "add the methode deleteKey(key) in the class LinkedList (saw in class) that deletes a given key from a linked list\n",
        "\n",
        "Please note that the key can be anywhere in the list(head, end, inside)\n"
      ],
      "metadata": {
        "id": "KWwP3Iu-qt4d"
      }
    },
    {
      "cell_type": "code",
      "source": [
        "def deleteKey(self, item):\n",
        "  # write your code here\n",
        "  return"
      ],
      "metadata": {
        "id": "B0V1rNYZrLq-"
      },
      "execution_count": null,
      "outputs": []
    },
    {
      "cell_type": "markdown",
      "source": [
        "Ex8:\n",
        "\n",
        "Write a method add_node(item) that adds new node with data ***item*** the class BinaryTree using.\n",
        "\n",
        "The given class Node can be used to instantiate new add\n",
        "\n",
        "\n",
        "for any node X, X's key is larger than the key of any descendent of its left child, and smaller than the key of any descendant of its right child.\n",
        "\n"
      ],
      "metadata": {
        "id": "7it5O0zhrVPg"
      }
    },
    {
      "cell_type": "code",
      "source": [
        "class Node:\n",
        "  def __init__(self, data):\n",
        "    self.data = data\n",
        "    self.left = None\n",
        "    self.right = None\n",
        "\n",
        "class BinaryTree:\n",
        "  def __init__(self, data):\n",
        "    pass\n",
        "\n",
        "  def add_nodes(self, item):\n",
        "    pass\n",
        "\n",
        "  def inOrder(self):\n",
        "    pass\n",
        "\n"
      ],
      "metadata": {
        "id": "0v2A5vogtcso"
      },
      "execution_count": null,
      "outputs": []
    },
    {
      "cell_type": "code",
      "source": [
        "class Node:\n",
        "    def __init__(self, key, data):\n",
        "        self.key = key\n",
        "        self.data = data\n",
        "        self.left = None\n",
        "        self.right = None\n",
        "\n",
        "class BinaryTree:\n",
        "    def __init__(self):\n",
        "        self.root = None\n",
        "\n",
        "    def add_node(self, item):\n",
        "        new_node = Node(item, None)\n",
        "        if self.root is None:\n",
        "            self.root = new_node\n",
        "        else:\n",
        "            current = self.root\n",
        "            while True:\n",
        "                if item < current.key:\n",
        "                    if current.left is None:\n",
        "                        current.left = new_node\n",
        "                        break\n",
        "                    else:\n",
        "                        current = current.left\n",
        "                else:\n",
        "                    if current.right is None:\n",
        "                        current.right = new_node\n",
        "                        break\n",
        "                    else:\n",
        "                        current = current.right\n",
        "\n",
        "    def inOrder(self, node):\n",
        "        if node:\n",
        "            self.inOrder(node.left)\n",
        "            print(node.key)\n",
        "            self.inOrder(node.right)\n",
        "\n",
        "tree = BinaryTree()\n",
        "tree.add_node(10)\n",
        "tree.add_node(1)\n",
        "tree.add_node(5)\n",
        "tree.add_node(0)\n",
        "tree.add_node(44)\n",
        "tree.add_node(7)\n",
        "tree.add_node(4)\n",
        "tree.add_node(2)\n",
        "tree.inOrder(tree.root)\n"
      ],
      "metadata": {
        "colab": {
          "base_uri": "https://localhost:8080/"
        },
        "id": "q5n5cF0XVKAp",
        "outputId": "5914256d-b514-4efb-a128-c3c8f1e4bf17"
      },
      "execution_count": null,
      "outputs": [
        {
          "output_type": "stream",
          "name": "stdout",
          "text": [
            "0\n",
            "1\n",
            "2\n",
            "4\n",
            "5\n",
            "7\n",
            "10\n",
            "44\n"
          ]
        }
      ]
    },
    {
      "cell_type": "markdown",
      "source": [
        "Ex9:"
      ],
      "metadata": {
        "id": "UUnjmMESCF1k"
      }
    },
    {
      "cell_type": "markdown",
      "source": [
        "Given a string s containing just the characters '(', ')', '{', '}', '[' and ']', determine if the input string is valid.\n",
        "\n",
        "An input string is valid if:\n",
        "\n",
        "- Open brackets must be closed by the same type of brackets.\n",
        "- Open brackets must be closed in the correct order.\n",
        "- Every close bracket has a corresponding open bracket of the same type."
      ],
      "metadata": {
        "id": "Atik7OjGB1sd"
      }
    },
    {
      "cell_type": "markdown",
      "source": [
        "Input: s = \"()[]{}\" <br>\n",
        "Output: true\n",
        "\n",
        "<br>\n",
        "\n",
        "Input: s = \"(]\" <br>\n",
        "Output: false"
      ],
      "metadata": {
        "id": "JZwSuBNlCAhK"
      }
    },
    {
      "cell_type": "code",
      "source": [
        "class Solution:\n",
        "    def isValid(self, s: str) -> bool:\n",
        "        stack = []\n",
        "        dicto = {\n",
        "            \")\": \"(\",\n",
        "            \"}\": \"{\",\n",
        "            \"]\": \"[\",\n",
        "        }\n",
        "        for char in s:\n",
        "            \n",
        "            if char in dicto:\n",
        "              \n",
        "                top_element = stack.pop() \n",
        "              \n",
        "                if dicto[char] != top_element:\n",
        "                    return False\n",
        "            else:\n",
        "                stack.append(char)\n",
        "        return not stack\n",
        "s=\"()[]{}\"\n",
        "character = Solution() \n",
        "character.isValid(s)"
      ],
      "metadata": {
        "colab": {
          "base_uri": "https://localhost:8080/"
        },
        "id": "zAqRlFCuQrhQ",
        "outputId": "b36078e1-213d-4f32-99a8-52cd87f2e20a"
      },
      "execution_count": null,
      "outputs": [
        {
          "output_type": "execute_result",
          "data": {
            "text/plain": [
              "True"
            ]
          },
          "metadata": {},
          "execution_count": 52
        }
      ]
    },
    {
      "cell_type": "markdown",
      "source": [
        "Ex10:\n",
        "\n",
        "Design a stack that supports push, pop, top, and retrieving the minimum element in constant time.\n",
        "\n",
        "Implement the MinStack class that extend (you may need to add new attributes to the class) the class Stack saw in class:\n",
        "\n",
        "- MinStack() initializes the stack object.\n",
        "- void push(int val) pushes the element val onto the stack.\n",
        "- void pop() removes the element on the top of the stack.\n",
        "- int getMin() retrieves the minimum element in the stack."
      ],
      "metadata": {
        "id": "2ZPgTQgiTEwB"
      }
    },
    {
      "cell_type": "code",
      "source": [
        "class MinStack:\n",
        "\n",
        "    def __init__(self):\n",
        "        pass\n",
        "\n",
        "    def push(self, val: int) -> None:\n",
        "        pass\n",
        "\n",
        "    def pop(self) -> None:\n",
        "        pass\n",
        "\n",
        "    def top(self) -> int:\n",
        "        pass\n",
        "\n",
        "    def getMin(self) -> int:\n",
        "      pass"
      ],
      "metadata": {
        "id": "76-01G0nTGwO"
      },
      "execution_count": null,
      "outputs": []
    },
    {
      "cell_type": "code",
      "source": [
        "class MinStack:\n",
        "    def __init__(self):\n",
        "        self.stack = []\n",
        "        self.min_stack = []\n",
        "\n",
        "    def push(self, val: int) -> None:\n",
        "        self.stack.append(val)\n",
        "        if not self.min_stack or val <= self.min_stack[-1]:\n",
        "            self.min_stack.append(val)\n",
        "\n",
        "    def pop(self) -> None:\n",
        "        if self.stack:\n",
        "            val = self.stack.pop()\n",
        "            if val == self.min_stack[-1]:\n",
        "                self.min_stack.pop()\n",
        "\n",
        "    def top(self) -> int:\n",
        "        if self.stack:\n",
        "            return self.stack[-1]\n",
        "\n",
        "    def getMin(self) -> int:\n",
        "        if self.min_stack:\n",
        "            return self.min_stack[-1]"
      ],
      "metadata": {
        "id": "SKX7EHPvy0EY"
      },
      "execution_count": null,
      "outputs": []
    },
    {
      "cell_type": "code",
      "source": [],
      "metadata": {
        "id": "TERPxmbiP_qm"
      },
      "execution_count": null,
      "outputs": []
    }
  ]
}