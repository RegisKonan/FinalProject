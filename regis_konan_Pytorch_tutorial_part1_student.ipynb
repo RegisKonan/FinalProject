{
  "nbformat": 4,
  "nbformat_minor": 0,
  "metadata": {
    "colab": {
      "provenance": [],
      "include_colab_link": true
    },
    "kernelspec": {
      "name": "python3",
      "display_name": "Python 3"
    },
    "language_info": {
      "name": "python"
    },
    "accelerator": "GPU",
    "gpuClass": "standard"
  },
  "cells": [
    {
      "cell_type": "markdown",
      "metadata": {
        "id": "view-in-github",
        "colab_type": "text"
      },
      "source": [
        "<a href=\"https://colab.research.google.com/github/RegisKonan/FinalProject/blob/main/regis_konan_Pytorch_tutorial_part1_student.ipynb\" target=\"_parent\"><img src=\"https://colab.research.google.com/assets/colab-badge.svg\" alt=\"Open In Colab\"/></a>"
      ]
    },
    {
      "cell_type": "markdown",
      "source": [
        "## what is Pytorch\n",
        "\n",
        "![picture](https://cdn.analyticsvidhya.com/wp-content/uploads/2019/09/pytorch.png)\n",
        "\n",
        "PyTorch is a Python-based library used to build neural networks.\n",
        "\n",
        "It provides classes that allow us to easily develop a suite of deep learning models.\n",
        "\n",
        "It gives maximum flexibility and speed."
      ],
      "metadata": {
        "id": "hnZfVGFOPAWD"
      }
    },
    {
      "cell_type": "markdown",
      "source": [
        "## Install pytorch"
      ],
      "metadata": {
        "id": "d_MRnaAiO_Yf"
      }
    },
    {
      "cell_type": "code",
      "execution_count": 1,
      "metadata": {
        "id": "_inaDm29O2Cs"
      },
      "outputs": [],
      "source": [
        "# !conda install pytorch torchvision -c pytorch\n",
        "# # or with GPU\n",
        "# ! conda install pytorch torchvision cudatoolkit=10.1 -c pytorch\n",
        "\n",
        "#https://pytorch.org/"
      ]
    },
    {
      "cell_type": "markdown",
      "source": [
        "###Let's import pytorch and check that it's well installed"
      ],
      "metadata": {
        "id": "ZevvX0TWROTC"
      }
    },
    {
      "cell_type": "code",
      "source": [
        "import torch\n",
        "print(torch.__version__)"
      ],
      "metadata": {
        "colab": {
          "base_uri": "https://localhost:8080/"
        },
        "id": "2kdo2d-DRHEb",
        "outputId": "26c7492a-3fd9-43cd-c5c1-68e3a1f75316"
      },
      "execution_count": 3,
      "outputs": [
        {
          "output_type": "stream",
          "name": "stdout",
          "text": [
            "1.13.1+cu116\n"
          ]
        }
      ]
    },
    {
      "cell_type": "markdown",
      "source": [
        "## Tensors\n",
        "\n",
        "At its core, PyTorch is a library for processing tensors. Tensors are multidimensional arrays. And PyTorch tensors are similar to NumPy’s n-dimensional arrays. We can use these tensors on a GPU as well (this is not the case with NumPy arrays). This is a major advantage of using tensors. A tensor can be a number, vector, matrix, or any n-dimensional array\n",
        "\n",
        "PyTorch supports multiple types of tensors, including:\n",
        "\n",
        "1. FloatTensor: 32-bit float\n",
        "2. DoubleTensor: 64-bit float\n",
        "3. HalfTensor: 16-bit float\n",
        "4. IntTensor: 32-bit int\n",
        "5. LongTensor: 64-bit int\n",
        "\n",
        "\n",
        "\n",
        "\n",
        "\n",
        "\n",
        "\n",
        "\n",
        "Let's create a tensor with a single number."
      ],
      "metadata": {
        "id": "gb5_9wjcRk-L"
      }
    },
    {
      "cell_type": "code",
      "source": [
        "# Number\n",
        "t1 = torch.tensor(4.)\n",
        "print(t1.dtype)\n",
        "print(t1)\n",
        "print(t1.shape)"
      ],
      "metadata": {
        "colab": {
          "base_uri": "https://localhost:8080/"
        },
        "id": "fMLcJ1riRK_o",
        "outputId": "2e78a2e2-fa1b-4c02-ffde-9ed7e92a38e9"
      },
      "execution_count": 4,
      "outputs": [
        {
          "output_type": "stream",
          "name": "stdout",
          "text": [
            "torch.float32\n",
            "tensor(4.)\n",
            "torch.Size([])\n"
          ]
        }
      ]
    },
    {
      "cell_type": "code",
      "source": [
        "# 1d tensor(vector)\n",
        "t2 = torch.tensor([1., 2, 3, 4])\n",
        "print(t2)\n",
        "print(t2.shape)"
      ],
      "metadata": {
        "colab": {
          "base_uri": "https://localhost:8080/"
        },
        "id": "Qz8NW_6CTxhY",
        "outputId": "d9c7728d-b54f-4f86-98e3-5e9783dd15f1"
      },
      "execution_count": 5,
      "outputs": [
        {
          "output_type": "stream",
          "name": "stdout",
          "text": [
            "tensor([1., 2., 3., 4.])\n",
            "torch.Size([4])\n"
          ]
        }
      ]
    },
    {
      "cell_type": "code",
      "source": [
        "# 2d tensor or matrix\n",
        "\n",
        "# Matrix\n",
        "t3 = torch.tensor([[5., 6], \n",
        "                   [7, 8], \n",
        "                   [9, 10]])\n",
        "\n",
        "print(t3)\n",
        "print(t3.shape)"
      ],
      "metadata": {
        "colab": {
          "base_uri": "https://localhost:8080/"
        },
        "id": "we39aYDhUDVX",
        "outputId": "51720caa-e22d-4fb1-b726-31268014ff98"
      },
      "execution_count": 6,
      "outputs": [
        {
          "output_type": "stream",
          "name": "stdout",
          "text": [
            "tensor([[ 5.,  6.],\n",
            "        [ 7.,  8.],\n",
            "        [ 9., 10.]])\n",
            "torch.Size([3, 2])\n"
          ]
        }
      ]
    },
    {
      "cell_type": "code",
      "source": [
        "#3d tensor\n",
        "t4 = torch.tensor([\n",
        "    [[11, 12, 13], \n",
        "     [13, 14, 15]], \n",
        "    [[15, 16, 17], \n",
        "     [17, 18, 19.]]])\n",
        "print(t4)\n",
        "print(t4.shape)"
      ],
      "metadata": {
        "colab": {
          "base_uri": "https://localhost:8080/"
        },
        "id": "-M7aIMQ3URZb",
        "outputId": "61bf3a2a-5477-4d2c-a9d7-312e2c075b53"
      },
      "execution_count": 7,
      "outputs": [
        {
          "output_type": "stream",
          "name": "stdout",
          "text": [
            "tensor([[[11., 12., 13.],\n",
            "         [13., 14., 15.]],\n",
            "\n",
            "        [[15., 16., 17.],\n",
            "         [17., 18., 19.]]])\n",
            "torch.Size([2, 2, 3])\n"
          ]
        }
      ]
    },
    {
      "cell_type": "markdown",
      "source": [
        "## Mathematical operations on tensors"
      ],
      "metadata": {
        "id": "LXyky65lYfti"
      }
    },
    {
      "cell_type": "code",
      "source": [
        "a =  torch.tensor([1., 2, 3, 4])\n",
        "b =  torch.tensor([5., 6, 7, 8])\n",
        "\n",
        "print(\"===========sum of a and b=============\")\n",
        "\n",
        "print(a + b)\n",
        "print()\n",
        "print(\"===========substracting a from b======\")\n",
        "\n",
        "print(b - a)\n",
        "print()\n",
        "\n",
        "print(\"===========multiplying a and b=========\")\n",
        "\n",
        "print(a * b)\n",
        "print()\n",
        "print(\"===========dividing b per a=============\")\n",
        "\n",
        "print(b/a)"
      ],
      "metadata": {
        "colab": {
          "base_uri": "https://localhost:8080/"
        },
        "id": "46O1PQoGYsdB",
        "outputId": "3ac0a840-c21f-4817-8bf7-952e3601754b"
      },
      "execution_count": null,
      "outputs": [
        {
          "output_type": "stream",
          "name": "stdout",
          "text": [
            "===========sum of a and b=============\n",
            "tensor([ 6.,  8., 10., 12.])\n",
            "\n",
            "===========substracting a from b======\n",
            "tensor([4., 4., 4., 4.])\n",
            "\n",
            "===========multiplying a and b=========\n",
            "tensor([ 5., 12., 21., 32.])\n",
            "\n",
            "===========dividing b per a=============\n",
            "tensor([5.0000, 3.0000, 2.3333, 2.0000])\n"
          ]
        }
      ]
    },
    {
      "cell_type": "markdown",
      "source": [
        "## Matrix Initialization\n",
        "\n",
        "### Create  a matrix of shape 3*3 having all zeros"
      ],
      "metadata": {
        "id": "kXkVQbMFVSz-"
      }
    },
    {
      "cell_type": "code",
      "source": [
        "torch.zeros((3,3))"
      ],
      "metadata": {
        "id": "F7xrWyWkUcGV",
        "colab": {
          "base_uri": "https://localhost:8080/"
        },
        "outputId": "0f9b9f55-c06c-4c6a-daf6-135fd72119ce"
      },
      "execution_count": 11,
      "outputs": [
        {
          "output_type": "execute_result",
          "data": {
            "text/plain": [
              "tensor([[0., 0., 0.],\n",
              "        [0., 0., 0.],\n",
              "        [0., 0., 0.]])"
            ]
          },
          "metadata": {},
          "execution_count": 11
        }
      ]
    },
    {
      "cell_type": "markdown",
      "source": [
        "### Create  a matrix of shape 3*3 having all ones"
      ],
      "metadata": {
        "id": "pPqIZztFWdml"
      }
    },
    {
      "cell_type": "code",
      "source": [
        "torch.ones((3,3))"
      ],
      "metadata": {
        "id": "ZiFaNzqaWXwI",
        "colab": {
          "base_uri": "https://localhost:8080/"
        },
        "outputId": "60b21053-9764-4903-fda3-15b10954d482"
      },
      "execution_count": 12,
      "outputs": [
        {
          "output_type": "execute_result",
          "data": {
            "text/plain": [
              "tensor([[1., 1., 1.],\n",
              "        [1., 1., 1.],\n",
              "        [1., 1., 1.]])"
            ]
          },
          "metadata": {},
          "execution_count": 12
        }
      ]
    },
    {
      "cell_type": "markdown",
      "source": [
        "## create  a 3x3 matrix randomly filled"
      ],
      "metadata": {
        "id": "Qyii4eTyWmmz"
      }
    },
    {
      "cell_type": "code",
      "source": [
        "# setting the random seed for pytorch\n",
        "#torch.set_printoptions(precision=2)\n",
        "torch.manual_seed(42)\n",
        "# matrix of random numbers\n",
        "## torch.randn returns a tensor filled with random numbers from a normal distribution with mean `0` and variance `1`\n",
        "torch.randn(3,3)\n"
      ],
      "metadata": {
        "id": "MIoyR8Y5WkZc",
        "colab": {
          "base_uri": "https://localhost:8080/"
        },
        "outputId": "df9a7d8e-5d91-401a-e8bf-1513f4286d81"
      },
      "execution_count": 15,
      "outputs": [
        {
          "output_type": "execute_result",
          "data": {
            "text/plain": [
              "tensor([[ 0.3367,  0.1288,  0.2345],\n",
              "        [ 0.2303, -1.1229, -0.1863],\n",
              "        [ 2.2082, -0.6380,  0.4617]])"
            ]
          },
          "metadata": {},
          "execution_count": 15
        }
      ]
    },
    {
      "cell_type": "code",
      "source": [
        "# torch.randint returns a tensor filled with random integers generated uniformly\n",
        "torch.randint(0,10,(3,3))"
      ],
      "metadata": {
        "id": "7HkKAfVMXBeZ",
        "colab": {
          "base_uri": "https://localhost:8080/"
        },
        "outputId": "3decfd54-9e41-4095-a541-f2574fe91ea3"
      },
      "execution_count": 16,
      "outputs": [
        {
          "output_type": "execute_result",
          "data": {
            "text/plain": [
              "tensor([[9, 6, 3],\n",
              "        [1, 9, 3],\n",
              "        [1, 9, 7]])"
            ]
          },
          "metadata": {},
          "execution_count": 16
        }
      ]
    },
    {
      "cell_type": "code",
      "source": [
        "## torch.rand returns a tensor filled with random numbers from a uniform distribution on the interval `[0, 1)`\n",
        "torch.rand(3,3)\n"
      ],
      "metadata": {
        "id": "ITbrfl6CXTHz",
        "colab": {
          "base_uri": "https://localhost:8080/"
        },
        "outputId": "ca5e3551-be5f-48f2-a331-b7eb8e0e4b83"
      },
      "execution_count": 17,
      "outputs": [
        {
          "output_type": "execute_result",
          "data": {
            "text/plain": [
              "tensor([[0.0062, 0.9516, 0.0753],\n",
              "        [0.8860, 0.5832, 0.3376],\n",
              "        [0.8090, 0.5779, 0.9040]])"
            ]
          },
          "metadata": {},
          "execution_count": 17
        }
      ]
    },
    {
      "cell_type": "markdown",
      "source": [
        "## Torch tensors and numpy conversion"
      ],
      "metadata": {
        "id": "O6Z2DLz3Yrh4"
      }
    },
    {
      "cell_type": "code",
      "source": [
        "## Tensor to numpy array\n",
        "#torch.set_printoptions(precision=2)\n",
        "a = torch.rand(3,3)\n",
        "print(a)\n",
        "## convert a into numpy array b\n",
        "b=a.numpy()\n",
        "## update the tensor a by adding a value to it\n",
        "print(b)\n",
        "##print b\n",
        "a+=2\n",
        "print(b)"
      ],
      "metadata": {
        "colab": {
          "base_uri": "https://localhost:8080/"
        },
        "id": "19w7lYoqYzfW",
        "outputId": "7802eb4b-8ac2-4307-ad0c-9a4ef78f8c3a"
      },
      "execution_count": 63,
      "outputs": [
        {
          "output_type": "stream",
          "name": "stdout",
          "text": [
            "tensor([[0.25, 0.48, 0.78],\n",
            "        [0.37, 0.21, 0.33],\n",
            "        [0.13, 0.68, 0.89]])\n",
            "[[0.24693054 0.47612214 0.77918065]\n",
            " [0.3722331  0.21471256 0.32877856]\n",
            " [0.12646258 0.67831624 0.8870201 ]]\n",
            "[[2.2469306 2.4761221 2.7791805]\n",
            " [2.3722332 2.2147126 2.3287785]\n",
            " [2.1264625 2.678316  2.88702  ]]\n"
          ]
        }
      ]
    },
    {
      "cell_type": "code",
      "source": [
        "## Numpy array to tensor\n",
        "import numpy as np\n",
        "a = np.random.rand(3,3)\n",
        "print(a)\n",
        "## convert array a into tensor b\n",
        "#b=torch.from_numpy(a)\n",
        "b=torch.from_numpy(a).clone()\n",
        "print(b)\n",
        "a+=2\n",
        "print(b)"
      ],
      "metadata": {
        "colab": {
          "base_uri": "https://localhost:8080/"
        },
        "id": "1QFXnN_kZHQN",
        "outputId": "a713939c-40d9-4199-b94a-c1032054b644"
      },
      "execution_count": 34,
      "outputs": [
        {
          "output_type": "stream",
          "name": "stdout",
          "text": [
            "[[0.11170064 0.75146991 0.57883692]\n",
            " [0.37278833 0.65331156 0.91828078]\n",
            " [0.13981351 0.871125   0.14469094]]\n",
            "tensor([[0.1117, 0.7515, 0.5788],\n",
            "        [0.3728, 0.6533, 0.9183],\n",
            "        [0.1398, 0.8711, 0.1447]], dtype=torch.float64)\n",
            "tensor([[0.1117, 0.7515, 0.5788],\n",
            "        [0.3728, 0.6533, 0.9183],\n",
            "        [0.1398, 0.8711, 0.1447]], dtype=torch.float64)\n"
          ]
        }
      ]
    },
    {
      "cell_type": "markdown",
      "source": [
        "## Matrix operations"
      ],
      "metadata": {
        "id": "iNm_40gDZsL7"
      }
    },
    {
      "cell_type": "code",
      "source": [
        "torch.manual_seed(42)\n",
        "a = torch.randn(3,3)\n",
        "b = torch.randn(3,3)\n",
        "print(a)\n",
        "print(b)"
      ],
      "metadata": {
        "colab": {
          "base_uri": "https://localhost:8080/"
        },
        "id": "_PgIwWjTXi5E",
        "outputId": "21dc1d79-fb5e-47e7-9c8a-506d1ee0c094"
      },
      "execution_count": 36,
      "outputs": [
        {
          "output_type": "stream",
          "name": "stdout",
          "text": [
            "tensor([[ 0.3367,  0.1288,  0.2345],\n",
            "        [ 0.2303, -1.1229, -0.1863],\n",
            "        [ 2.2082, -0.6380,  0.4617]])\n",
            "tensor([[ 0.2674,  0.5349,  0.8094],\n",
            "        [ 1.1103, -1.6898, -0.9890],\n",
            "        [ 0.9580,  1.3221,  0.8172]])\n"
          ]
        }
      ]
    },
    {
      "cell_type": "markdown",
      "source": [
        "For addition, substraction and division we can either use torch.add, torch.sub, torch.div or +,  - and /"
      ],
      "metadata": {
        "id": "ASQCTLoGav7Q"
      }
    },
    {
      "cell_type": "code",
      "source": [
        "## compute sum of a and b\n",
        "a+b"
      ],
      "metadata": {
        "id": "QTSGb7o2aJwi",
        "colab": {
          "base_uri": "https://localhost:8080/"
        },
        "outputId": "0d11fa83-b1bd-4281-db0a-1edc7f23508b"
      },
      "execution_count": 30,
      "outputs": [
        {
          "output_type": "execute_result",
          "data": {
            "text/plain": [
              "tensor([[ 0.6040,  0.6637,  1.0438],\n",
              "        [ 1.3406, -2.8127, -1.1753],\n",
              "        [ 3.1662,  0.6841,  1.2788]])"
            ]
          },
          "metadata": {},
          "execution_count": 30
        }
      ]
    },
    {
      "cell_type": "code",
      "source": [
        "torch.add(a,b)\n",
        "torch.add(a,torch.add(b,b)) ### add multi numbers"
      ],
      "metadata": {
        "colab": {
          "base_uri": "https://localhost:8080/"
        },
        "id": "120eGuVlub3k",
        "outputId": "75e09038-ea59-4451-fa31-a9a210d3087f"
      },
      "execution_count": 38,
      "outputs": [
        {
          "output_type": "execute_result",
          "data": {
            "text/plain": [
              "tensor([[ 0.8714,  1.1986,  1.8532],\n",
              "        [ 2.4509, -4.5025, -2.1642],\n",
              "        [ 4.1241,  2.0063,  2.0960]])"
            ]
          },
          "metadata": {},
          "execution_count": 38
        }
      ]
    },
    {
      "cell_type": "code",
      "source": [
        "## compute a -b\n",
        "print(a-b)"
      ],
      "metadata": {
        "id": "h1pVCjXYaUdF",
        "colab": {
          "base_uri": "https://localhost:8080/"
        },
        "outputId": "301b21f5-bbd5-44dc-95d4-e226dec2069f"
      },
      "execution_count": 39,
      "outputs": [
        {
          "output_type": "stream",
          "name": "stdout",
          "text": [
            "tensor([[ 0.0693, -0.4061, -0.5749],\n",
            "        [-0.8800,  0.5669,  0.8026],\n",
            "        [ 1.2502, -1.9601, -0.3555]])\n"
          ]
        }
      ]
    },
    {
      "cell_type": "code",
      "source": [
        "torch.sub(a,b)"
      ],
      "metadata": {
        "colab": {
          "base_uri": "https://localhost:8080/"
        },
        "id": "nh6kz2zru96R",
        "outputId": "cf0d5456-4fab-4d0e-dff0-c56b01b4f13c"
      },
      "execution_count": 40,
      "outputs": [
        {
          "output_type": "execute_result",
          "data": {
            "text/plain": [
              "tensor([[ 0.0693, -0.4061, -0.5749],\n",
              "        [-0.8800,  0.5669,  0.8026],\n",
              "        [ 1.2502, -1.9601, -0.3555]])"
            ]
          },
          "metadata": {},
          "execution_count": 40
        }
      ]
    },
    {
      "cell_type": "code",
      "source": [
        "##compute a / b"
      ],
      "metadata": {
        "id": "kYSAawm9bBR3"
      },
      "execution_count": 29,
      "outputs": []
    },
    {
      "cell_type": "code",
      "source": [
        "print(a/b)"
      ],
      "metadata": {
        "colab": {
          "base_uri": "https://localhost:8080/"
        },
        "id": "8yBmvkBCu8yT",
        "outputId": "de268407-d570-410b-bc75-04cfe267f381"
      },
      "execution_count": 41,
      "outputs": [
        {
          "output_type": "stream",
          "name": "stdout",
          "text": [
            "tensor([[ 1.2594,  0.2408,  0.2897],\n",
            "        [ 0.2075,  0.6645,  0.1884],\n",
            "        [ 2.3051, -0.4826,  0.5649]])\n"
          ]
        }
      ]
    },
    {
      "cell_type": "code",
      "source": [
        "torch.div(a,b)"
      ],
      "metadata": {
        "colab": {
          "base_uri": "https://localhost:8080/"
        },
        "id": "DWkMLnawvGgJ",
        "outputId": "9921a80f-6a50-40f9-8f2c-f6bf12a70b4b"
      },
      "execution_count": 42,
      "outputs": [
        {
          "output_type": "execute_result",
          "data": {
            "text/plain": [
              "tensor([[ 1.2594,  0.2408,  0.2897],\n",
              "        [ 0.2075,  0.6645,  0.1884],\n",
              "        [ 2.3051, -0.4826,  0.5649]])"
            ]
          },
          "metadata": {},
          "execution_count": 42
        }
      ]
    },
    {
      "cell_type": "code",
      "source": [
        "torch.sum(b,dim=0)"
      ],
      "metadata": {
        "colab": {
          "base_uri": "https://localhost:8080/"
        },
        "id": "_cOnSkmIvj0C",
        "outputId": "8af3ed8d-506f-4243-f447-5c9541a3161c"
      },
      "execution_count": 46,
      "outputs": [
        {
          "output_type": "execute_result",
          "data": {
            "text/plain": [
              "tensor([2.3356, 0.1672, 0.6376])"
            ]
          },
          "metadata": {},
          "execution_count": 46
        }
      ]
    },
    {
      "cell_type": "markdown",
      "source": [
        "## Multiplication\n",
        "\n",
        "### Elementwise multiplication"
      ],
      "metadata": {
        "id": "7kRIG9QBba30"
      }
    },
    {
      "cell_type": "code",
      "source": [],
      "metadata": {
        "id": "xNKqmG6FvFdx"
      },
      "execution_count": null,
      "outputs": []
    },
    {
      "cell_type": "code",
      "source": [
        "## a * b"
      ],
      "metadata": {
        "id": "p3degTw-bJsG"
      },
      "execution_count": null,
      "outputs": []
    },
    {
      "cell_type": "code",
      "source": [
        "a*b"
      ],
      "metadata": {
        "colab": {
          "base_uri": "https://localhost:8080/"
        },
        "id": "GQHfwKaIvfI2",
        "outputId": "7199a238-0d93-452b-a500-88a08d6d1608"
      },
      "execution_count": 43,
      "outputs": [
        {
          "output_type": "execute_result",
          "data": {
            "text/plain": [
              "tensor([[ 0.0900,  0.0689,  0.1898],\n",
              "        [ 0.2557,  1.8974,  0.1843],\n",
              "        [ 2.1154, -0.8435,  0.3773]])"
            ]
          },
          "metadata": {},
          "execution_count": 43
        }
      ]
    },
    {
      "cell_type": "markdown",
      "source": [
        "### matrix multiplication"
      ],
      "metadata": {
        "id": "aMwc8LAIcU7j"
      }
    },
    {
      "cell_type": "code",
      "source": [
        "##using torch.mm\n",
        "torch.mm(a,b)"
      ],
      "metadata": {
        "id": "fd53sJ0Sbd9q",
        "colab": {
          "base_uri": "https://localhost:8080/"
        },
        "outputId": "056f8063-032e-4bd8-f214-5476882b81c7"
      },
      "execution_count": 47,
      "outputs": [
        {
          "output_type": "execute_result",
          "data": {
            "text/plain": [
              "tensor([[ 0.4576,  0.2724,  0.3367],\n",
              "        [-1.3636,  1.7743,  1.1446],\n",
              "        [ 0.3243,  2.8696,  2.7954]])"
            ]
          },
          "metadata": {},
          "execution_count": 47
        }
      ]
    },
    {
      "cell_type": "code",
      "source": [
        "##using torch.matmul\n",
        "torch.matmul(a,b)"
      ],
      "metadata": {
        "id": "ccr4aoIWb0iS",
        "colab": {
          "base_uri": "https://localhost:8080/"
        },
        "outputId": "04967e8d-86a6-4b47-c86d-54b0a6c21c75"
      },
      "execution_count": 48,
      "outputs": [
        {
          "output_type": "execute_result",
          "data": {
            "text/plain": [
              "tensor([[ 0.4576,  0.2724,  0.3367],\n",
              "        [-1.3636,  1.7743,  1.1446],\n",
              "        [ 0.3243,  2.8696,  2.7954]])"
            ]
          },
          "metadata": {},
          "execution_count": 48
        }
      ]
    },
    {
      "cell_type": "code",
      "source": [
        "##using @\n",
        "a@b"
      ],
      "metadata": {
        "id": "Z4qTWQg5cbD_",
        "colab": {
          "base_uri": "https://localhost:8080/"
        },
        "outputId": "faf3ed29-14cf-4383-c0e5-ff62d4a69e56"
      },
      "execution_count": 49,
      "outputs": [
        {
          "output_type": "execute_result",
          "data": {
            "text/plain": [
              "tensor([[ 0.4576,  0.2724,  0.3367],\n",
              "        [-1.3636,  1.7743,  1.1446],\n",
              "        [ 0.3243,  2.8696,  2.7954]])"
            ]
          },
          "metadata": {},
          "execution_count": 49
        }
      ]
    },
    {
      "cell_type": "markdown",
      "source": [
        "## Reshape, Transpose and concatenate tensors"
      ],
      "metadata": {
        "id": "VUp-M__Tc9_w"
      }
    },
    {
      "cell_type": "code",
      "source": [
        "torch.manual_seed(42)\n",
        "a = torch.randn(3,4)\n",
        "print(a.shape)\n",
        "b = a.reshape(-1, 1)\n",
        "print(b.shape)\n",
        "c = a.reshape(6,2)\n",
        "print(c.shape)"
      ],
      "metadata": {
        "colab": {
          "base_uri": "https://localhost:8080/"
        },
        "id": "9u0m8W2Acfyk",
        "outputId": "94175b11-2470-43fe-dd22-7f6e34ebc941"
      },
      "execution_count": null,
      "outputs": [
        {
          "output_type": "stream",
          "name": "stdout",
          "text": [
            "torch.Size([3, 4])\n",
            "torch.Size([12, 1])\n",
            "torch.Size([6, 2])\n"
          ]
        }
      ]
    },
    {
      "cell_type": "code",
      "source": [
        "a = torch.randn(3,4)\n",
        "c = a.reshape(6,2)\n",
        "c"
      ],
      "metadata": {
        "colab": {
          "base_uri": "https://localhost:8080/"
        },
        "id": "NTc81OXtwQhZ",
        "outputId": "6052f81d-d2b6-48da-e032-b64721a09d7b"
      },
      "execution_count": 52,
      "outputs": [
        {
          "output_type": "execute_result",
          "data": {
            "text/plain": [
              "tensor([[-0.7409,  0.3618],\n",
              "        [ 1.9199, -0.2254],\n",
              "        [-0.3417,  0.3040],\n",
              "        [-0.6890, -1.1267],\n",
              "        [-0.2858, -1.0935],\n",
              "        [ 1.1351,  0.7592]])"
            ]
          },
          "metadata": {},
          "execution_count": 52
        }
      ]
    },
    {
      "cell_type": "code",
      "source": [
        "#transpose\n",
        "a_t = torch.t(a)\n",
        "print(a_t.shape)"
      ],
      "metadata": {
        "colab": {
          "base_uri": "https://localhost:8080/"
        },
        "id": "AlkTPfirddD1",
        "outputId": "540191e9-eb2f-4060-ce52-68d205045810"
      },
      "execution_count": 53,
      "outputs": [
        {
          "output_type": "stream",
          "name": "stdout",
          "text": [
            "torch.Size([4, 3])\n"
          ]
        }
      ]
    },
    {
      "cell_type": "code",
      "source": [
        "#transpose\n",
        "print(a.T.shape)"
      ],
      "metadata": {
        "colab": {
          "base_uri": "https://localhost:8080/"
        },
        "id": "aV6zOpsfdmvR",
        "outputId": "7614e1d1-9ecb-4570-de09-591d0bd417a0"
      },
      "execution_count": 54,
      "outputs": [
        {
          "output_type": "stream",
          "name": "stdout",
          "text": [
            "torch.Size([4, 3])\n"
          ]
        }
      ]
    },
    {
      "cell_type": "code",
      "source": [
        "## Concatenate\n",
        "b = torch.randn(1, 4)\n",
        "print(b.shape)\n",
        "concat = torch.cat((a, b), dim=0)\n",
        "print(concat.shape)"
      ],
      "metadata": {
        "colab": {
          "base_uri": "https://localhost:8080/"
        },
        "id": "yIRKGWBRdoda",
        "outputId": "78bf0023-9101-44bf-b54b-ac57a4058956"
      },
      "execution_count": 55,
      "outputs": [
        {
          "output_type": "stream",
          "name": "stdout",
          "text": [
            "torch.Size([1, 4])\n",
            "torch.Size([4, 4])\n"
          ]
        }
      ]
    },
    {
      "cell_type": "code",
      "source": [
        "flat_vect = a.flatten()\n",
        "print(flat_vect)\n",
        "flat_vect.shape"
      ],
      "metadata": {
        "colab": {
          "base_uri": "https://localhost:8080/"
        },
        "id": "WebTP3YNKBn1",
        "outputId": "2011fa70-ed51-4920-b9e6-349b3da6b8e5"
      },
      "execution_count": 56,
      "outputs": [
        {
          "output_type": "stream",
          "name": "stdout",
          "text": [
            "tensor([-0.7409,  0.3618,  1.9199, -0.2254, -0.3417,  0.3040, -0.6890, -1.1267,\n",
            "        -0.2858, -1.0935,  1.1351,  0.7592])\n"
          ]
        },
        {
          "output_type": "execute_result",
          "data": {
            "text/plain": [
              "torch.Size([12])"
            ]
          },
          "metadata": {},
          "execution_count": 56
        }
      ]
    },
    {
      "cell_type": "markdown",
      "source": [
        "## Extra reading\n",
        "\n",
        "https://pytorch.org/tutorials/beginner/basics/tensorqs_tutorial.html\n"
      ],
      "metadata": {
        "id": "T8zx-Lx-QNDD"
      }
    },
    {
      "cell_type": "code",
      "source": [],
      "metadata": {
        "id": "tdPHkhJQLXhf"
      },
      "execution_count": null,
      "outputs": []
    }
  ]
}